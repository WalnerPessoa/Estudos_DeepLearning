{
  "nbformat": 4,
  "nbformat_minor": 0,
  "metadata": {
    "colab": {
      "name": "OUVIDORIA_DIRCOM.ipynb",
      "provenance": [],
      "collapsed_sections": []
    },
    "kernelspec": {
      "name": "python3",
      "display_name": "Python 3"
    },
    "accelerator": "GPU"
  },
  "cells": [
    {
      "cell_type": "markdown",
      "metadata": {
        "id": "28Hyzpbdgetw",
        "colab_type": "text"
      },
      "source": [
        "##Teste para aplicaçãão de técnicas de NLP para Ouvidoria da Dircom\n",
        "####\n",
        "colaboração: Fast.ai, Ami Aram,  Esa Pekka Tapani "
      ]
    },
    {
      "cell_type": "markdown",
      "metadata": {
        "id": "_ZzECrVn6uwK",
        "colab_type": "text"
      },
      "source": [
        "## Pegando o dataset"
      ]
    },
    {
      "cell_type": "code",
      "metadata": {
        "id": "VqRp5ETZxc6P",
        "colab_type": "code",
        "colab": {
          "base_uri": "https://localhost:8080/",
          "height": 105
        },
        "outputId": "7e1f80b2-99a8-4160-c697-4093c8604f3f"
      },
      "source": [
        "from google.colab import drive\n",
        "drive.mount('/content/drive',)"
      ],
      "execution_count": null,
      "outputs": [
        {
          "output_type": "stream",
          "text": [
            "Go to this URL in a browser: https://accounts.google.com/o/oauth2/auth?client_id=947318989803-6bn6qk8qdgf4n4g3pfee6491hc0brc4i.apps.googleusercontent.com&redirect_uri=urn%3aietf%3awg%3aoauth%3a2.0%3aoob&response_type=code&scope=email%20https%3a%2f%2fwww.googleapis.com%2fauth%2fdocs.test%20https%3a%2f%2fwww.googleapis.com%2fauth%2fdrive%20https%3a%2f%2fwww.googleapis.com%2fauth%2fdrive.photos.readonly%20https%3a%2f%2fwww.googleapis.com%2fauth%2fpeopleapi.readonly\n",
            "\n",
            "Enter your authorization code:\n",
            "··········\n"
          ],
          "name": "stdout"
        }
      ]
    },
    {
      "cell_type": "code",
      "metadata": {
        "id": "3Er0m3avxjKq",
        "colab_type": "code",
        "colab": {}
      },
      "source": [
        "#from pandas import read_csv\n",
        "#df = read_csv('drive/My Drive/ia_projects/datasets/tcu-assunto-sumario.csv')"
      ],
      "execution_count": null,
      "outputs": []
    },
    {
      "cell_type": "code",
      "metadata": {
        "id": "OincE8EyxsHH",
        "colab_type": "code",
        "colab": {}
      },
      "source": [
        "import pandas as pd\n",
        "\n",
        "\n",
        "from pandas import read_excel\n",
        "df_sac_2017 = pd.read_excel('drive/My Drive/ia_projects/cni_ouvidoria/datasets/SAC - MSG 2017 - new.xlsx', index_col=0) \n",
        "df_sac_2018 = pd.read_excel('drive/My Drive/ia_projects/cni_ouvidoria/datasets/msg_sac_2018.xlsx', index_col=0) \n",
        "df_sac_2018_2019 = pd.read_excel('drive/My Drive/ia_projects/cni_ouvidoria/datasets/df_sac_2018_2019_append4.xlsx', index_col=0) "
      ],
      "execution_count": null,
      "outputs": []
    },
    {
      "cell_type": "code",
      "metadata": {
        "id": "M6dmoXBc12Mp",
        "colab_type": "code",
        "colab": {}
      },
      "source": [
        "df_sac=df_sac_2018_2019"
      ],
      "execution_count": null,
      "outputs": []
    },
    {
      "cell_type": "code",
      "metadata": {
        "id": "rscIjywWyuh3",
        "colab_type": "code",
        "colab": {
          "base_uri": "https://localhost:8080/",
          "height": 68
        },
        "outputId": "b158d184-3b91-451a-e972-66645c3e408f"
      },
      "source": [
        "df_sac.columns"
      ],
      "execution_count": null,
      "outputs": [
        {
          "output_type": "execute_result",
          "data": {
            "text/plain": [
              "Index(['Número da Ocorrência', 'Data de Abertura', 'Desc',\n",
              "       'Árvore de Assuntos', 'Descrição'],\n",
              "      dtype='object')"
            ]
          },
          "metadata": {
            "tags": []
          },
          "execution_count": 7
        }
      ]
    },
    {
      "cell_type": "code",
      "metadata": {
        "id": "l-Zqb-jqey2Y",
        "colab_type": "code",
        "colab": {}
      },
      "source": [
        "df_sac.rename(columns={\"Descrição\":\"Desc\",\"Descrição_new\":\"Descrição\"},inplace=True)"
      ],
      "execution_count": null,
      "outputs": []
    },
    {
      "cell_type": "code",
      "metadata": {
        "id": "ECMQL7PffpJA",
        "colab_type": "code",
        "colab": {}
      },
      "source": [
        "del df_sac[\"Desc\"]"
      ],
      "execution_count": null,
      "outputs": []
    },
    {
      "cell_type": "code",
      "metadata": {
        "id": "BeOpH1NQaWUk",
        "colab_type": "code",
        "colab": {
          "base_uri": "https://localhost:8080/",
          "height": 204
        },
        "outputId": "ee8aacf6-c783-4277-92d2-da338cc727e2"
      },
      "source": [
        "df_sac.head()"
      ],
      "execution_count": null,
      "outputs": [
        {
          "output_type": "execute_result",
          "data": {
            "text/html": [
              "<div>\n",
              "<style scoped>\n",
              "    .dataframe tbody tr th:only-of-type {\n",
              "        vertical-align: middle;\n",
              "    }\n",
              "\n",
              "    .dataframe tbody tr th {\n",
              "        vertical-align: top;\n",
              "    }\n",
              "\n",
              "    .dataframe thead th {\n",
              "        text-align: right;\n",
              "    }\n",
              "</style>\n",
              "<table border=\"1\" class=\"dataframe\">\n",
              "  <thead>\n",
              "    <tr style=\"text-align: right;\">\n",
              "      <th></th>\n",
              "      <th>assunto</th>\n",
              "      <th>sumario</th>\n",
              "    </tr>\n",
              "  </thead>\n",
              "  <tbody>\n",
              "    <tr>\n",
              "      <th>0</th>\n",
              "      <td>banco de talentos</td>\n",
              "      <td>Bom dia. Sou funcionária terceirizada da empre...</td>\n",
              "    </tr>\n",
              "    <tr>\n",
              "      <th>1</th>\n",
              "      <td>banco de talentos</td>\n",
              "      <td>Boa tarde. Estou procurando algum conteúdo sob...</td>\n",
              "    </tr>\n",
              "    <tr>\n",
              "      <th>2</th>\n",
              "      <td>banco de talentos</td>\n",
              "      <td>Trabalho como técnico de áudio, vídeo e lousa ...</td>\n",
              "    </tr>\n",
              "    <tr>\n",
              "      <th>3</th>\n",
              "      <td>banco de talentos</td>\n",
              "      <td>Disponho de uma vaga para Operador de Produçã...</td>\n",
              "    </tr>\n",
              "    <tr>\n",
              "      <th>4</th>\n",
              "      <td>banco de talentos</td>\n",
              "      <td>Boa Tarde gostaria de curriculos de Tecnico e...</td>\n",
              "    </tr>\n",
              "  </tbody>\n",
              "</table>\n",
              "</div>"
            ],
            "text/plain": [
              "             assunto                                            sumario\n",
              "0  banco de talentos  Bom dia. Sou funcionária terceirizada da empre...\n",
              "1  banco de talentos  Boa tarde. Estou procurando algum conteúdo sob...\n",
              "2  banco de talentos  Trabalho como técnico de áudio, vídeo e lousa ...\n",
              "3  banco de talentos   Disponho de uma vaga para Operador de Produçã...\n",
              "4  banco de talentos   Boa Tarde gostaria de curriculos de Tecnico e..."
            ]
          },
          "metadata": {
            "tags": []
          },
          "execution_count": 92
        }
      ]
    },
    {
      "cell_type": "code",
      "metadata": {
        "id": "kiOK_i51zWif",
        "colab_type": "code",
        "colab": {
          "base_uri": "https://localhost:8080/",
          "height": 391
        },
        "outputId": "81783356-4a83-4331-ced4-ce9cf32e8273"
      },
      "source": [
        "df_sac[['Árvore de Assuntos','Descrição']].groupby(['Árvore de Assuntos'])['Descrição'].count().nlargest(20)"
      ],
      "execution_count": null,
      "outputs": [
        {
          "output_type": "execute_result",
          "data": {
            "text/plain": [
              "Árvore de Assuntos\n",
              "Matrículas/Cursos                 3963\n",
              "Outros Assuntos                    495\n",
              "Banco de Talentos                  466\n",
              "Dificuldade com o ambiente EAD     367\n",
              "Jovem Aprendiz                     358\n",
              "Certificados                       271\n",
              "Parceria/ Patrocínio               157\n",
              "Publicação                         145\n",
              "Relações do Trabalho               104\n",
              "Cadastro de Fornecedores            94\n",
              "Estágios                            91\n",
              "Como se associar                    90\n",
              "Matrículas/Cursos - SESI            74\n",
              "Catálogo de Fornecedores            71\n",
              "Estudos e Pesquisa                  66\n",
              "Cadastro de Indústrias              62\n",
              "Programas                           56\n",
              "Eventos/Prêmios                     48\n",
              "Torneio de Robótica                 48\n",
              "Sesinho                             34\n",
              "Name: Descrição, dtype: int64"
            ]
          },
          "metadata": {
            "tags": []
          },
          "execution_count": 9
        }
      ]
    },
    {
      "cell_type": "code",
      "metadata": {
        "id": "Ni_MzCPEz_Fr",
        "colab_type": "code",
        "colab": {
          "base_uri": "https://localhost:8080/",
          "height": 235
        },
        "outputId": "3815f787-6ee9-475a-8d7d-f5d2e1af0929"
      },
      "source": [
        "df_sac.head(5)"
      ],
      "execution_count": null,
      "outputs": [
        {
          "output_type": "execute_result",
          "data": {
            "text/html": [
              "<div>\n",
              "<style scoped>\n",
              "    .dataframe tbody tr th:only-of-type {\n",
              "        vertical-align: middle;\n",
              "    }\n",
              "\n",
              "    .dataframe tbody tr th {\n",
              "        vertical-align: top;\n",
              "    }\n",
              "\n",
              "    .dataframe thead th {\n",
              "        text-align: right;\n",
              "    }\n",
              "</style>\n",
              "<table border=\"1\" class=\"dataframe\">\n",
              "  <thead>\n",
              "    <tr style=\"text-align: right;\">\n",
              "      <th></th>\n",
              "      <th>Número da Ocorrência</th>\n",
              "      <th>Data de Abertura</th>\n",
              "      <th>Árvore de Assuntos</th>\n",
              "      <th>Descrição</th>\n",
              "    </tr>\n",
              "    <tr>\n",
              "      <th>Título da Ocorrência</th>\n",
              "      <th></th>\n",
              "      <th></th>\n",
              "      <th></th>\n",
              "      <th></th>\n",
              "    </tr>\n",
              "  </thead>\n",
              "  <tbody>\n",
              "    <tr>\n",
              "      <th>Banco de talentos</th>\n",
              "      <td>OCOR-07041-S1Q6K9</td>\n",
              "      <td>2018-12-21 10:47:00</td>\n",
              "      <td>Banco de Talentos</td>\n",
              "      <td>Bom dia. Sou funcionária terceirizada da empre...</td>\n",
              "    </tr>\n",
              "    <tr>\n",
              "      <th>Banco de talentos</th>\n",
              "      <td>OCOR-07036-V8K9X3</td>\n",
              "      <td>2018-12-20 18:42:00</td>\n",
              "      <td>Banco de Talentos</td>\n",
              "      <td>Boa tarde. Estou procurando algum conteúdo sob...</td>\n",
              "    </tr>\n",
              "    <tr>\n",
              "      <th>Banco de talentos</th>\n",
              "      <td>OCOR-06956-Z8B4G6</td>\n",
              "      <td>2018-12-17 16:26:00</td>\n",
              "      <td>Banco de Talentos</td>\n",
              "      <td>Trabalho como técnico de áudio, vídeo e lousa ...</td>\n",
              "    </tr>\n",
              "    <tr>\n",
              "      <th>Banco de talentos</th>\n",
              "      <td>OCOR-06987-T9R9D9</td>\n",
              "      <td>2018-12-17 07:16:00</td>\n",
              "      <td>Banco de Talentos</td>\n",
              "      <td>Disponho de uma vaga para Operador de Produçã...</td>\n",
              "    </tr>\n",
              "    <tr>\n",
              "      <th>Banco de talentos</th>\n",
              "      <td>OCOR-06955-N6Z5D0</td>\n",
              "      <td>2018-12-14 08:40:00</td>\n",
              "      <td>Banco de Talentos</td>\n",
              "      <td>Boa Tarde gostaria de curriculos de Tecnico e...</td>\n",
              "    </tr>\n",
              "  </tbody>\n",
              "</table>\n",
              "</div>"
            ],
            "text/plain": [
              "                     Número da Ocorrência  ...                                          Descrição\n",
              "Título da Ocorrência                       ...                                                   \n",
              "Banco de talentos       OCOR-07041-S1Q6K9  ...  Bom dia. Sou funcionária terceirizada da empre...\n",
              "Banco de talentos       OCOR-07036-V8K9X3  ...  Boa tarde. Estou procurando algum conteúdo sob...\n",
              "Banco de talentos       OCOR-06956-Z8B4G6  ...  Trabalho como técnico de áudio, vídeo e lousa ...\n",
              "Banco de talentos       OCOR-06987-T9R9D9  ...   Disponho de uma vaga para Operador de Produçã...\n",
              "Banco de talentos       OCOR-06955-N6Z5D0  ...   Boa Tarde gostaria de curriculos de Tecnico e...\n",
              "\n",
              "[5 rows x 4 columns]"
            ]
          },
          "metadata": {
            "tags": []
          },
          "execution_count": 10
        }
      ]
    },
    {
      "cell_type": "code",
      "metadata": {
        "id": "P_KbuZSb0OfZ",
        "colab_type": "code",
        "colab": {
          "base_uri": "https://localhost:8080/",
          "height": 51
        },
        "outputId": "d8a43b12-f404-41a1-8346-d062ae3cd80c"
      },
      "source": [
        "df_sac.sample().values[0]"
      ],
      "execution_count": null,
      "outputs": [
        {
          "output_type": "execute_result",
          "data": {
            "text/plain": [
              "array(['OCOR-06715-S4R1B4', Timestamp('2018-11-30 04:00:00'),\n",
              "       'Matrículas/Cursos', ' informação de curso'], dtype=object)"
            ]
          },
          "metadata": {
            "tags": []
          },
          "execution_count": 11
        }
      ]
    },
    {
      "cell_type": "code",
      "metadata": {
        "id": "Bf3n3MqS0ZAP",
        "colab_type": "code",
        "colab": {
          "base_uri": "https://localhost:8080/",
          "height": 34
        },
        "outputId": "3c6d8629-314f-4198-ed69-170e12aa060e"
      },
      "source": [
        "df_sac.shape"
      ],
      "execution_count": null,
      "outputs": [
        {
          "output_type": "execute_result",
          "data": {
            "text/plain": [
              "(7232, 4)"
            ]
          },
          "metadata": {
            "tags": []
          },
          "execution_count": 12
        }
      ]
    },
    {
      "cell_type": "code",
      "metadata": {
        "id": "2r52jk6y0iRI",
        "colab_type": "code",
        "colab": {}
      },
      "source": [
        "df_sac.dropna(inplace=True)"
      ],
      "execution_count": null,
      "outputs": []
    },
    {
      "cell_type": "code",
      "metadata": {
        "id": "dz_gINnN0mwu",
        "colab_type": "code",
        "colab": {
          "base_uri": "https://localhost:8080/",
          "height": 34
        },
        "outputId": "6f011543-c3f0-4204-fa3c-52ff46a06f04"
      },
      "source": [
        "df_sac.shape"
      ],
      "execution_count": null,
      "outputs": [
        {
          "output_type": "execute_result",
          "data": {
            "text/plain": [
              "(7208, 4)"
            ]
          },
          "metadata": {
            "tags": []
          },
          "execution_count": 14
        }
      ]
    },
    {
      "cell_type": "markdown",
      "metadata": {
        "id": "EQzKk0U06nzC",
        "colab_type": "text"
      },
      "source": [
        "## Normalização dos dados\n",
        "Tentando realizar o match da maior quantidade posível de assuntos, normalizei os assuntos, removendo acentos, letras maíusculas, pontuação e espaços em brancos no início e no final."
      ]
    },
    {
      "cell_type": "code",
      "metadata": {
        "id": "MzArF-jf01F9",
        "colab_type": "code",
        "colab": {
          "base_uri": "https://localhost:8080/",
          "height": 122
        },
        "outputId": "c7e0c847-a69d-4e6a-8d06-dc1a8b92200b"
      },
      "source": [
        "!pip install unidecode"
      ],
      "execution_count": null,
      "outputs": [
        {
          "output_type": "stream",
          "text": [
            "Collecting unidecode\n",
            "\u001b[?25l  Downloading https://files.pythonhosted.org/packages/d0/42/d9edfed04228bacea2d824904cae367ee9efd05e6cce7ceaaedd0b0ad964/Unidecode-1.1.1-py2.py3-none-any.whl (238kB)\n",
            "\u001b[K     |████████████████████████████████| 245kB 2.8MB/s \n",
            "\u001b[?25hInstalling collected packages: unidecode\n",
            "Successfully installed unidecode-1.1.1\n"
          ],
          "name": "stdout"
        }
      ]
    },
    {
      "cell_type": "code",
      "metadata": {
        "id": "yIVpKSLJ0oh-",
        "colab_type": "code",
        "colab": {}
      },
      "source": [
        "from unidecode import unidecode\n",
        "import re\n"
      ],
      "execution_count": null,
      "outputs": []
    },
    {
      "cell_type": "code",
      "metadata": {
        "id": "nJjbCJeg0xAG",
        "colab_type": "code",
        "colab": {}
      },
      "source": [
        "def normaliza_assunto(x):\n",
        "    return re.sub(\"[^a-zA-Z]\",\" \",unidecode(x).lower()).strip()"
      ],
      "execution_count": null,
      "outputs": []
    },
    {
      "cell_type": "code",
      "metadata": {
        "id": "l2SXKkk_2cBP",
        "colab_type": "code",
        "colab": {
          "base_uri": "https://localhost:8080/",
          "height": 68
        },
        "outputId": "2c7dde8d-7918-41e0-8541-1e4cdffd6fde"
      },
      "source": [
        "df_sac.columns"
      ],
      "execution_count": null,
      "outputs": [
        {
          "output_type": "execute_result",
          "data": {
            "text/plain": [
              "Index(['Número da Ocorrência', 'Data de Abertura', 'Árvore de Assuntos',\n",
              "       'Descrição'],\n",
              "      dtype='object')"
            ]
          },
          "metadata": {
            "tags": []
          },
          "execution_count": 18
        }
      ]
    },
    {
      "cell_type": "code",
      "metadata": {
        "id": "ug6ih_Md3osz",
        "colab_type": "code",
        "colab": {}
      },
      "source": [
        "df_sac = df_sac.rename(columns={'Árvore de Assuntos': 'Assunto'})\n",
        "df_sac = df_sac.rename(columns={'Data de Abertura': 'Data_Abertura'})"
      ],
      "execution_count": null,
      "outputs": []
    },
    {
      "cell_type": "code",
      "metadata": {
        "id": "LER8dOBXOcPV",
        "colab_type": "code",
        "colab": {
          "base_uri": "https://localhost:8080/",
          "height": 34
        },
        "outputId": "f72727bf-e616-4c2e-fa38-d4d2e0acc06f"
      },
      "source": [
        "df_sac.columns"
      ],
      "execution_count": null,
      "outputs": [
        {
          "output_type": "execute_result",
          "data": {
            "text/plain": [
              "Index(['Número da Ocorrência', 'Data_Abertura', 'Assunto', 'Descrição'], dtype='object')"
            ]
          },
          "metadata": {
            "tags": []
          },
          "execution_count": 20
        }
      ]
    },
    {
      "cell_type": "code",
      "metadata": {
        "id": "e9VJxMCw35I_",
        "colab_type": "code",
        "colab": {
          "base_uri": "https://localhost:8080/",
          "height": 238
        },
        "outputId": "5fe40dba-5700-4139-bf4a-2161e1a0d52f"
      },
      "source": [
        "df_sac.Assunto"
      ],
      "execution_count": null,
      "outputs": [
        {
          "output_type": "execute_result",
          "data": {
            "text/plain": [
              "Título da Ocorrência\n",
              "Banco de talentos           Banco de Talentos\n",
              "Banco de talentos           Banco de Talentos\n",
              "Banco de talentos           Banco de Talentos\n",
              "Banco de talentos           Banco de Talentos\n",
              "Banco de talentos           Banco de Talentos\n",
              "                                  ...        \n",
              "Informações sobre cursos    Matrículas/Cursos\n",
              "Informaçõe sobre cursos     Matrículas/Cursos\n",
              "Certificações                    Certificados\n",
              "Informações sobre cursos    Matrículas/Cursos\n",
              "Jovem aprendiz                 Jovem Aprendiz\n",
              "Name: Assunto, Length: 7208, dtype: object"
            ]
          },
          "metadata": {
            "tags": []
          },
          "execution_count": 21
        }
      ]
    },
    {
      "cell_type": "code",
      "metadata": {
        "id": "EDhTdeC_1RFb",
        "colab_type": "code",
        "colab": {}
      },
      "source": [
        "df_sac['Assunto'] = df_sac.Assunto.apply(normaliza_assunto)"
      ],
      "execution_count": null,
      "outputs": []
    },
    {
      "cell_type": "code",
      "metadata": {
        "id": "Zwpo35AK4NIt",
        "colab_type": "code",
        "colab": {
          "base_uri": "https://localhost:8080/",
          "height": 391
        },
        "outputId": "cd01e4ae-c10d-4744-cceb-2a34659843a9"
      },
      "source": [
        "df_sac[['Assunto','Descrição']].groupby(['Assunto'])['Descrição'].count().nlargest(20)"
      ],
      "execution_count": null,
      "outputs": [
        {
          "output_type": "execute_result",
          "data": {
            "text/plain": [
              "Assunto\n",
              "matriculas cursos                 3963\n",
              "outros assuntos                    495\n",
              "banco de talentos                  466\n",
              "dificuldade com o ambiente ead     367\n",
              "jovem aprendiz                     358\n",
              "certificados                       271\n",
              "parceria  patrocinio               157\n",
              "publicacao                         145\n",
              "relacoes do trabalho               104\n",
              "cadastro de fornecedores            94\n",
              "estagios                            91\n",
              "como se associar                    90\n",
              "matriculas cursos   sesi            74\n",
              "catalogo de fornecedores            71\n",
              "estudos e pesquisa                  66\n",
              "cadastro de industrias              62\n",
              "programas                           56\n",
              "eventos premios                     48\n",
              "torneio de robotica                 48\n",
              "sesinho                             34\n",
              "Name: Descrição, dtype: int64"
            ]
          },
          "metadata": {
            "tags": []
          },
          "execution_count": 23
        }
      ]
    },
    {
      "cell_type": "code",
      "metadata": {
        "id": "8k95d-tNnkBB",
        "colab_type": "code",
        "colab": {}
      },
      "source": [
        "# https://medium.com/horadecodar/data-science-tips-02-como-usar-loc-e-iloc-no-pandas-fab58e214d87\n",
        "################### df_sac_idx = df_sac.set_index('assunto')\n",
        "################### df_sac.loc['outros assuntos'] "
      ],
      "execution_count": null,
      "outputs": []
    },
    {
      "cell_type": "code",
      "metadata": {
        "id": "5PzOSgRw6IMN",
        "colab_type": "code",
        "colab": {
          "base_uri": "https://localhost:8080/",
          "height": 235
        },
        "outputId": "fb463894-1c69-48c3-8c32-c90eb06dda4f"
      },
      "source": [
        "df_sac.head(5)"
      ],
      "execution_count": null,
      "outputs": [
        {
          "output_type": "execute_result",
          "data": {
            "text/html": [
              "<div>\n",
              "<style scoped>\n",
              "    .dataframe tbody tr th:only-of-type {\n",
              "        vertical-align: middle;\n",
              "    }\n",
              "\n",
              "    .dataframe tbody tr th {\n",
              "        vertical-align: top;\n",
              "    }\n",
              "\n",
              "    .dataframe thead th {\n",
              "        text-align: right;\n",
              "    }\n",
              "</style>\n",
              "<table border=\"1\" class=\"dataframe\">\n",
              "  <thead>\n",
              "    <tr style=\"text-align: right;\">\n",
              "      <th></th>\n",
              "      <th>Número da Ocorrência</th>\n",
              "      <th>Data_Abertura</th>\n",
              "      <th>Assunto</th>\n",
              "      <th>Descrição</th>\n",
              "    </tr>\n",
              "    <tr>\n",
              "      <th>Título da Ocorrência</th>\n",
              "      <th></th>\n",
              "      <th></th>\n",
              "      <th></th>\n",
              "      <th></th>\n",
              "    </tr>\n",
              "  </thead>\n",
              "  <tbody>\n",
              "    <tr>\n",
              "      <th>Banco de talentos</th>\n",
              "      <td>OCOR-07041-S1Q6K9</td>\n",
              "      <td>2018-12-21 10:47:00</td>\n",
              "      <td>banco de talentos</td>\n",
              "      <td>Bom dia. Sou funcionária terceirizada da empre...</td>\n",
              "    </tr>\n",
              "    <tr>\n",
              "      <th>Banco de talentos</th>\n",
              "      <td>OCOR-07036-V8K9X3</td>\n",
              "      <td>2018-12-20 18:42:00</td>\n",
              "      <td>banco de talentos</td>\n",
              "      <td>Boa tarde. Estou procurando algum conteúdo sob...</td>\n",
              "    </tr>\n",
              "    <tr>\n",
              "      <th>Banco de talentos</th>\n",
              "      <td>OCOR-06956-Z8B4G6</td>\n",
              "      <td>2018-12-17 16:26:00</td>\n",
              "      <td>banco de talentos</td>\n",
              "      <td>Trabalho como técnico de áudio, vídeo e lousa ...</td>\n",
              "    </tr>\n",
              "    <tr>\n",
              "      <th>Banco de talentos</th>\n",
              "      <td>OCOR-06987-T9R9D9</td>\n",
              "      <td>2018-12-17 07:16:00</td>\n",
              "      <td>banco de talentos</td>\n",
              "      <td>Disponho de uma vaga para Operador de Produçã...</td>\n",
              "    </tr>\n",
              "    <tr>\n",
              "      <th>Banco de talentos</th>\n",
              "      <td>OCOR-06955-N6Z5D0</td>\n",
              "      <td>2018-12-14 08:40:00</td>\n",
              "      <td>banco de talentos</td>\n",
              "      <td>Boa Tarde gostaria de curriculos de Tecnico e...</td>\n",
              "    </tr>\n",
              "  </tbody>\n",
              "</table>\n",
              "</div>"
            ],
            "text/plain": [
              "                     Número da Ocorrência  ...                                          Descrição\n",
              "Título da Ocorrência                       ...                                                   \n",
              "Banco de talentos       OCOR-07041-S1Q6K9  ...  Bom dia. Sou funcionária terceirizada da empre...\n",
              "Banco de talentos       OCOR-07036-V8K9X3  ...  Boa tarde. Estou procurando algum conteúdo sob...\n",
              "Banco de talentos       OCOR-06956-Z8B4G6  ...  Trabalho como técnico de áudio, vídeo e lousa ...\n",
              "Banco de talentos       OCOR-06987-T9R9D9  ...   Disponho de uma vaga para Operador de Produçã...\n",
              "Banco de talentos       OCOR-06955-N6Z5D0  ...   Boa Tarde gostaria de curriculos de Tecnico e...\n",
              "\n",
              "[5 rows x 4 columns]"
            ]
          },
          "metadata": {
            "tags": []
          },
          "execution_count": 25
        }
      ]
    },
    {
      "cell_type": "code",
      "metadata": {
        "id": "CJkN69GS6TXC",
        "colab_type": "code",
        "colab": {
          "base_uri": "https://localhost:8080/",
          "height": 105
        },
        "outputId": "42b46cd7-d658-446c-9be7-9535ec24f7e3"
      },
      "source": [
        "df_sac.sample().values[0]"
      ],
      "execution_count": null,
      "outputs": [
        {
          "output_type": "execute_result",
          "data": {
            "text/plain": [
              "array(['OCOR-03917-B9G7T7', Timestamp('2018-05-28 11:40:00'),\n",
              "       'matriculas cursos',\n",
              "       ' Bom dia, Trabalho no SENAI, e fiz a matricula no curso Resiliência e preciso fazer o curso até dia 31/05, só que desde sábado (27.05.2018) tentei abrir o conteúdo do curso e não estou conseguindo. Gostaria de saber o que está acontecendo, uma vez que fiz várias tentativas em pcs diferente e não obtive exito. Atenciosamente, Maria do Socorro Moraes Fontenele Enviado em: 28/05/2018 11:40'],\n",
              "      dtype=object)"
            ]
          },
          "metadata": {
            "tags": []
          },
          "execution_count": 26
        }
      ]
    },
    {
      "cell_type": "code",
      "metadata": {
        "id": "TDCBVon26Y0R",
        "colab_type": "code",
        "colab": {
          "base_uri": "https://localhost:8080/",
          "height": 34
        },
        "outputId": "609cb0c1-519d-448c-e49f-e35f08cdf946"
      },
      "source": [
        "#quantidades de labels\n",
        "df_sac['Assunto'].unique().size"
      ],
      "execution_count": null,
      "outputs": [
        {
          "output_type": "execute_result",
          "data": {
            "text/plain": [
              "37"
            ]
          },
          "metadata": {
            "tags": []
          },
          "execution_count": 27
        }
      ]
    },
    {
      "cell_type": "code",
      "metadata": {
        "id": "YkzWlwrH9eEE",
        "colab_type": "code",
        "colab": {
          "base_uri": "https://localhost:8080/",
          "height": 34
        },
        "outputId": "064cd5f1-683e-46a8-efb7-2a6a7f3bbf10"
      },
      "source": [
        "df_sac.columns"
      ],
      "execution_count": null,
      "outputs": [
        {
          "output_type": "execute_result",
          "data": {
            "text/plain": [
              "Index(['Número da Ocorrência', 'Data_Abertura', 'Assunto', 'Descrição'], dtype='object')"
            ]
          },
          "metadata": {
            "tags": []
          },
          "execution_count": 28
        }
      ]
    },
    {
      "cell_type": "code",
      "metadata": {
        "id": "CAxCKHUh7rCr",
        "colab_type": "code",
        "colab": {}
      },
      "source": [
        "del df_sac['Número da Ocorrência']"
      ],
      "execution_count": null,
      "outputs": []
    },
    {
      "cell_type": "code",
      "metadata": {
        "id": "ZpE8PcqQ9nke",
        "colab_type": "code",
        "colab": {}
      },
      "source": [
        "del df_sac['Data_Abertura']"
      ],
      "execution_count": null,
      "outputs": []
    },
    {
      "cell_type": "code",
      "metadata": {
        "id": "OskIz1lK9x9d",
        "colab_type": "code",
        "colab": {}
      },
      "source": [
        "df_sac = df_sac.rename(columns={'Descrição': 'Descricao'})"
      ],
      "execution_count": null,
      "outputs": []
    },
    {
      "cell_type": "code",
      "metadata": {
        "id": "oVzLVz23-EYT",
        "colab_type": "code",
        "colab": {
          "base_uri": "https://localhost:8080/",
          "height": 34
        },
        "outputId": "a822bb4e-9790-41ec-faa2-e0bc197532ac"
      },
      "source": [
        "df_sac.columns"
      ],
      "execution_count": null,
      "outputs": [
        {
          "output_type": "execute_result",
          "data": {
            "text/plain": [
              "Index(['Assunto', 'Descricao'], dtype='object')"
            ]
          },
          "metadata": {
            "tags": []
          },
          "execution_count": 32
        }
      ]
    },
    {
      "cell_type": "code",
      "metadata": {
        "id": "c3m4N8F5-odg",
        "colab_type": "code",
        "colab": {
          "base_uri": "https://localhost:8080/",
          "height": 204
        },
        "outputId": "58138886-9a0b-4e68-a9ea-bc5bbc3be5bc"
      },
      "source": [
        "df_sac.index"
      ],
      "execution_count": null,
      "outputs": [
        {
          "output_type": "execute_result",
          "data": {
            "text/plain": [
              "Index(['Banco de talentos', 'Banco de talentos', 'Banco de talentos',\n",
              "       'Banco de talentos', 'Banco de talentos',\n",
              "       'Mundo SENAI - Banco de Talentos', 'Mundo SENAI - Banco de Talentos',\n",
              "       'Banco de talentos', 'Banco de talentos',\n",
              "       'Mundo SENAI - Banco de Talentos',\n",
              "       ...\n",
              "       'Informações sobre cursos', 'Informações sobre cursos',\n",
              "       'Informações diversas', 'Informações sobre cursos', 'Como se associar',\n",
              "       'Informações sobre cursos', 'Informaçõe sobre cursos', 'Certificações',\n",
              "       'Informações sobre cursos', 'Jovem aprendiz'],\n",
              "      dtype='object', name='Título da Ocorrência', length=7208)"
            ]
          },
          "metadata": {
            "tags": []
          },
          "execution_count": 33
        }
      ]
    },
    {
      "cell_type": "code",
      "metadata": {
        "id": "dcoDu0GX-pZw",
        "colab_type": "code",
        "colab": {}
      },
      "source": [
        "df_sac.index.names = ['Titulo']"
      ],
      "execution_count": null,
      "outputs": []
    },
    {
      "cell_type": "code",
      "metadata": {
        "id": "UDzk9Req_L5o",
        "colab_type": "code",
        "colab": {
          "base_uri": "https://localhost:8080/",
          "height": 34
        },
        "outputId": "f357a724-57a0-473f-c609-b3df2442dbeb"
      },
      "source": [
        "type(df_sac.index)"
      ],
      "execution_count": null,
      "outputs": [
        {
          "output_type": "execute_result",
          "data": {
            "text/plain": [
              "pandas.core.indexes.base.Index"
            ]
          },
          "metadata": {
            "tags": []
          },
          "execution_count": 35
        }
      ]
    },
    {
      "cell_type": "code",
      "metadata": {
        "id": "2kTxBMHk3bz6",
        "colab_type": "code",
        "colab": {}
      },
      "source": [
        "df_sac_outro_assuntos = df_sac[df_sac[\"Assunto\"]== \"outros assuntos\"]\n"
      ],
      "execution_count": null,
      "outputs": []
    },
    {
      "cell_type": "code",
      "metadata": {
        "id": "hNndG3C26OWf",
        "colab_type": "code",
        "colab": {}
      },
      "source": [
        "df_sac_outro_assuntos.to_excel(\"df_sac_2018_2019_outros_assuntos.xlsx\",encoding=\"utf-8\", index=False)"
      ],
      "execution_count": null,
      "outputs": []
    },
    {
      "cell_type": "code",
      "metadata": {
        "id": "Yvxf2SIX4Wra",
        "colab_type": "code",
        "colab": {}
      },
      "source": [
        "df_sac = df_sac[df_sac[\"Assunto\"]!= \"outros assuntos\"] "
      ],
      "execution_count": null,
      "outputs": []
    },
    {
      "cell_type": "code",
      "metadata": {
        "id": "-5P1FOMx4pCI",
        "colab_type": "code",
        "colab": {
          "base_uri": "https://localhost:8080/",
          "height": 391
        },
        "outputId": "2801b07e-2c4f-49df-8baa-c00c67048d3a"
      },
      "source": [
        "df_sac[['Assunto','Descricao']].groupby(['Assunto'])['Descricao'].count().nlargest(20)"
      ],
      "execution_count": null,
      "outputs": [
        {
          "output_type": "execute_result",
          "data": {
            "text/plain": [
              "Assunto\n",
              "matriculas cursos                 3963\n",
              "banco de talentos                  466\n",
              "dificuldade com o ambiente ead     367\n",
              "jovem aprendiz                     358\n",
              "certificados                       271\n",
              "parceria  patrocinio               157\n",
              "publicacao                         145\n",
              "relacoes do trabalho               104\n",
              "cadastro de fornecedores            94\n",
              "estagios                            91\n",
              "como se associar                    90\n",
              "matriculas cursos   sesi            74\n",
              "catalogo de fornecedores            71\n",
              "estudos e pesquisa                  66\n",
              "cadastro de industrias              62\n",
              "programas                           56\n",
              "eventos premios                     48\n",
              "torneio de robotica                 48\n",
              "sesinho                             34\n",
              "contribuicao social                 23\n",
              "Name: Descricao, dtype: int64"
            ]
          },
          "metadata": {
            "tags": []
          },
          "execution_count": 40
        }
      ]
    },
    {
      "cell_type": "code",
      "metadata": {
        "id": "Q16A1uIMAXnX",
        "colab_type": "code",
        "colab": {}
      },
      "source": [
        "df_sac = df_sac.reset_index()"
      ],
      "execution_count": null,
      "outputs": []
    },
    {
      "cell_type": "code",
      "metadata": {
        "id": "iqQ-pBCVAoe8",
        "colab_type": "code",
        "colab": {
          "base_uri": "https://localhost:8080/",
          "height": 34
        },
        "outputId": "80b11d67-959d-4a95-a5d1-09140ffe8969"
      },
      "source": [
        "df_sac.columns"
      ],
      "execution_count": null,
      "outputs": [
        {
          "output_type": "execute_result",
          "data": {
            "text/plain": [
              "Index(['Titulo', 'Assunto', 'Descricao'], dtype='object')"
            ]
          },
          "metadata": {
            "tags": []
          },
          "execution_count": 42
        }
      ]
    },
    {
      "cell_type": "code",
      "metadata": {
        "id": "NB-X0CYn457O",
        "colab_type": "code",
        "colab": {}
      },
      "source": [
        ""
      ],
      "execution_count": null,
      "outputs": []
    },
    {
      "cell_type": "code",
      "metadata": {
        "id": "A9ocundOBDpa",
        "colab_type": "code",
        "colab": {
          "base_uri": "https://localhost:8080/",
          "height": 204
        },
        "outputId": "8e35b1b2-d0de-4c3c-c7d8-cacd27777859"
      },
      "source": [
        "df_sac.head(5)"
      ],
      "execution_count": null,
      "outputs": [
        {
          "output_type": "execute_result",
          "data": {
            "text/html": [
              "<div>\n",
              "<style scoped>\n",
              "    .dataframe tbody tr th:only-of-type {\n",
              "        vertical-align: middle;\n",
              "    }\n",
              "\n",
              "    .dataframe tbody tr th {\n",
              "        vertical-align: top;\n",
              "    }\n",
              "\n",
              "    .dataframe thead th {\n",
              "        text-align: right;\n",
              "    }\n",
              "</style>\n",
              "<table border=\"1\" class=\"dataframe\">\n",
              "  <thead>\n",
              "    <tr style=\"text-align: right;\">\n",
              "      <th></th>\n",
              "      <th>Titulo</th>\n",
              "      <th>Assunto</th>\n",
              "      <th>Descricao</th>\n",
              "    </tr>\n",
              "  </thead>\n",
              "  <tbody>\n",
              "    <tr>\n",
              "      <th>0</th>\n",
              "      <td>Banco de talentos</td>\n",
              "      <td>banco de talentos</td>\n",
              "      <td>Bom dia. Sou funcionária terceirizada da empre...</td>\n",
              "    </tr>\n",
              "    <tr>\n",
              "      <th>1</th>\n",
              "      <td>Banco de talentos</td>\n",
              "      <td>banco de talentos</td>\n",
              "      <td>Boa tarde. Estou procurando algum conteúdo sob...</td>\n",
              "    </tr>\n",
              "    <tr>\n",
              "      <th>2</th>\n",
              "      <td>Banco de talentos</td>\n",
              "      <td>banco de talentos</td>\n",
              "      <td>Trabalho como técnico de áudio, vídeo e lousa ...</td>\n",
              "    </tr>\n",
              "    <tr>\n",
              "      <th>3</th>\n",
              "      <td>Banco de talentos</td>\n",
              "      <td>banco de talentos</td>\n",
              "      <td>Disponho de uma vaga para Operador de Produçã...</td>\n",
              "    </tr>\n",
              "    <tr>\n",
              "      <th>4</th>\n",
              "      <td>Banco de talentos</td>\n",
              "      <td>banco de talentos</td>\n",
              "      <td>Boa Tarde gostaria de curriculos de Tecnico e...</td>\n",
              "    </tr>\n",
              "  </tbody>\n",
              "</table>\n",
              "</div>"
            ],
            "text/plain": [
              "              Titulo  ...                                          Descricao\n",
              "0  Banco de talentos  ...  Bom dia. Sou funcionária terceirizada da empre...\n",
              "1  Banco de talentos  ...  Boa tarde. Estou procurando algum conteúdo sob...\n",
              "2  Banco de talentos  ...  Trabalho como técnico de áudio, vídeo e lousa ...\n",
              "3  Banco de talentos  ...   Disponho de uma vaga para Operador de Produçã...\n",
              "4  Banco de talentos  ...   Boa Tarde gostaria de curriculos de Tecnico e...\n",
              "\n",
              "[5 rows x 3 columns]"
            ]
          },
          "metadata": {
            "tags": []
          },
          "execution_count": 43
        }
      ]
    },
    {
      "cell_type": "code",
      "metadata": {
        "id": "KTaVHCDo24bN",
        "colab_type": "code",
        "colab": {
          "base_uri": "https://localhost:8080/",
          "height": 34
        },
        "outputId": "78e0ed0e-6a18-4970-803d-dd605606d5cf"
      },
      "source": [
        "df_sac.columns"
      ],
      "execution_count": null,
      "outputs": [
        {
          "output_type": "execute_result",
          "data": {
            "text/plain": [
              "Index(['Titulo', 'Assunto', 'Descricao'], dtype='object')"
            ]
          },
          "metadata": {
            "tags": []
          },
          "execution_count": 44
        }
      ]
    },
    {
      "cell_type": "code",
      "metadata": {
        "id": "GRGIg8zZ2nyj",
        "colab_type": "code",
        "colab": {
          "base_uri": "https://localhost:8080/",
          "height": 34
        },
        "outputId": "2be216f4-5d17-453c-ae25-217e12db6048"
      },
      "source": [
        "df_sac.iloc[0]['Assunto']\n"
      ],
      "execution_count": null,
      "outputs": [
        {
          "output_type": "execute_result",
          "data": {
            "text/plain": [
              "'banco de talentos'"
            ]
          },
          "metadata": {
            "tags": []
          },
          "execution_count": 45
        }
      ]
    },
    {
      "cell_type": "code",
      "metadata": {
        "id": "8L36gwsdBM9B",
        "colab_type": "code",
        "colab": {}
      },
      "source": [
        "del df_sac['Titulo']"
      ],
      "execution_count": null,
      "outputs": []
    },
    {
      "cell_type": "code",
      "metadata": {
        "id": "hQ8LcX8vBapJ",
        "colab_type": "code",
        "colab": {
          "base_uri": "https://localhost:8080/",
          "height": 204
        },
        "outputId": "f0d97d9a-859b-4c51-a0cf-ccd7b2d1b750"
      },
      "source": [
        "df_sac.head(5)"
      ],
      "execution_count": null,
      "outputs": [
        {
          "output_type": "execute_result",
          "data": {
            "text/html": [
              "<div>\n",
              "<style scoped>\n",
              "    .dataframe tbody tr th:only-of-type {\n",
              "        vertical-align: middle;\n",
              "    }\n",
              "\n",
              "    .dataframe tbody tr th {\n",
              "        vertical-align: top;\n",
              "    }\n",
              "\n",
              "    .dataframe thead th {\n",
              "        text-align: right;\n",
              "    }\n",
              "</style>\n",
              "<table border=\"1\" class=\"dataframe\">\n",
              "  <thead>\n",
              "    <tr style=\"text-align: right;\">\n",
              "      <th></th>\n",
              "      <th>Assunto</th>\n",
              "      <th>Descricao</th>\n",
              "    </tr>\n",
              "  </thead>\n",
              "  <tbody>\n",
              "    <tr>\n",
              "      <th>0</th>\n",
              "      <td>banco de talentos</td>\n",
              "      <td>Bom dia. Sou funcionária terceirizada da empre...</td>\n",
              "    </tr>\n",
              "    <tr>\n",
              "      <th>1</th>\n",
              "      <td>banco de talentos</td>\n",
              "      <td>Boa tarde. Estou procurando algum conteúdo sob...</td>\n",
              "    </tr>\n",
              "    <tr>\n",
              "      <th>2</th>\n",
              "      <td>banco de talentos</td>\n",
              "      <td>Trabalho como técnico de áudio, vídeo e lousa ...</td>\n",
              "    </tr>\n",
              "    <tr>\n",
              "      <th>3</th>\n",
              "      <td>banco de talentos</td>\n",
              "      <td>Disponho de uma vaga para Operador de Produçã...</td>\n",
              "    </tr>\n",
              "    <tr>\n",
              "      <th>4</th>\n",
              "      <td>banco de talentos</td>\n",
              "      <td>Boa Tarde gostaria de curriculos de Tecnico e...</td>\n",
              "    </tr>\n",
              "  </tbody>\n",
              "</table>\n",
              "</div>"
            ],
            "text/plain": [
              "             Assunto                                          Descricao\n",
              "0  banco de talentos  Bom dia. Sou funcionária terceirizada da empre...\n",
              "1  banco de talentos  Boa tarde. Estou procurando algum conteúdo sob...\n",
              "2  banco de talentos  Trabalho como técnico de áudio, vídeo e lousa ...\n",
              "3  banco de talentos   Disponho de uma vaga para Operador de Produçã...\n",
              "4  banco de talentos   Boa Tarde gostaria de curriculos de Tecnico e..."
            ]
          },
          "metadata": {
            "tags": []
          },
          "execution_count": 47
        }
      ]
    },
    {
      "cell_type": "code",
      "metadata": {
        "id": "v8GB0AbMBdA_",
        "colab_type": "code",
        "colab": {}
      },
      "source": [
        "df_sac = df_sac.rename(columns={'Descricao': 'sumario'})"
      ],
      "execution_count": null,
      "outputs": []
    },
    {
      "cell_type": "code",
      "metadata": {
        "id": "HS0rWQUaBtUZ",
        "colab_type": "code",
        "colab": {}
      },
      "source": [
        "df_sac = df_sac.rename(columns={'Assunto': 'assunto'})"
      ],
      "execution_count": null,
      "outputs": []
    },
    {
      "cell_type": "code",
      "metadata": {
        "id": "UKEdwPLQBwm-",
        "colab_type": "code",
        "colab": {}
      },
      "source": [
        ""
      ],
      "execution_count": null,
      "outputs": []
    },
    {
      "cell_type": "markdown",
      "metadata": {
        "id": "OEwQNfV7dBRP",
        "colab_type": "text"
      },
      "source": [
        "## tokenização"
      ]
    },
    {
      "cell_type": "code",
      "metadata": {
        "id": "g9wcz06bdDTs",
        "colab_type": "code",
        "colab": {}
      },
      "source": [
        "from fastai.text import *"
      ],
      "execution_count": null,
      "outputs": []
    },
    {
      "cell_type": "code",
      "metadata": {
        "id": "jPYim4xedEIV",
        "colab_type": "code",
        "colab": {}
      },
      "source": [
        "#tokenizador\n",
        "tokenizer = Tokenizer(lang='pt', n_cpus=8)\n",
        "#vocabulario\n",
        "with open('drive/My Drive/ia_projects/models/itos.pkl', 'rb') as f:\n",
        "    itos = pickle.load(f)\n",
        "vocab = Vocab(itos)"
      ],
      "execution_count": null,
      "outputs": []
    },
    {
      "cell_type": "code",
      "metadata": {
        "id": "mwDD7OA7dL2p",
        "colab_type": "code",
        "colab": {}
      },
      "source": [
        ""
      ],
      "execution_count": null,
      "outputs": []
    },
    {
      "cell_type": "markdown",
      "metadata": {
        "id": "4Syvihp8dPC6",
        "colab_type": "text"
      },
      "source": [
        "## Language model"
      ]
    },
    {
      "cell_type": "code",
      "metadata": {
        "id": "hKBRlnzmdRJj",
        "colab_type": "code",
        "colab": {}
      },
      "source": [
        "from pathlib import Path\n",
        "path = Path('drive/My Drive/ia_projects/models')"
      ],
      "execution_count": null,
      "outputs": []
    },
    {
      "cell_type": "code",
      "metadata": {
        "id": "Z5B-nyaQdUkT",
        "colab_type": "code",
        "colab": {}
      },
      "source": [
        "bs = 24"
      ],
      "execution_count": null,
      "outputs": []
    },
    {
      "cell_type": "code",
      "metadata": {
        "id": "FU1guCrndf3g",
        "colab_type": "code",
        "colab": {}
      },
      "source": [
        "df=df_sac"
      ],
      "execution_count": null,
      "outputs": []
    },
    {
      "cell_type": "code",
      "metadata": {
        "id": "TL8IA56mdZfr",
        "colab_type": "code",
        "colab": {}
      },
      "source": [
        "train_bool = np.random.rand(len(df)) < 0.8"
      ],
      "execution_count": null,
      "outputs": []
    },
    {
      "cell_type": "code",
      "metadata": {
        "id": "1Fl0kJNQdjl0",
        "colab_type": "code",
        "colab": {
          "base_uri": "https://localhost:8080/",
          "height": 17
        },
        "outputId": "6cfed0cf-fba6-4c7c-c875-0b6b621e8bc0"
      },
      "source": [
        "data_lm = TextLMDataBunch.from_df(path,\n",
        "                                  train_df= df[train_bool],\n",
        "                                  valid_df= df[~train_bool],\n",
        "                                  tokenizer=tokenizer,\n",
        "                                  vocab=vocab,\n",
        "                                  text_cols=0,\n",
        "                                  bs=bs,\n",
        "                                  max_vocab=35000)"
      ],
      "execution_count": null,
      "outputs": [
        {
          "output_type": "display_data",
          "data": {
            "text/html": [
              ""
            ],
            "text/plain": [
              "<IPython.core.display.HTML object>"
            ]
          },
          "metadata": {
            "tags": []
          }
        },
        {
          "output_type": "display_data",
          "data": {
            "text/html": [
              ""
            ],
            "text/plain": [
              "<IPython.core.display.HTML object>"
            ]
          },
          "metadata": {
            "tags": []
          }
        }
      ]
    },
    {
      "cell_type": "code",
      "metadata": {
        "id": "QM1EgAhbdnJR",
        "colab_type": "code",
        "colab": {}
      },
      "source": [
        "data_lm.save('data_lm2')"
      ],
      "execution_count": null,
      "outputs": []
    },
    {
      "cell_type": "code",
      "metadata": {
        "id": "1vPfjwukdsQO",
        "colab_type": "code",
        "colab": {}
      },
      "source": [
        ""
      ],
      "execution_count": null,
      "outputs": []
    },
    {
      "cell_type": "markdown",
      "metadata": {
        "id": "DumOWCGtdwOn",
        "colab_type": "text"
      },
      "source": [
        "### Carregando os dados"
      ]
    },
    {
      "cell_type": "code",
      "metadata": {
        "id": "NheAPFhbd7H4",
        "colab_type": "code",
        "colab": {}
      },
      "source": [
        "data_lm = load_data(path, 'data_lm2', bs=bs)"
      ],
      "execution_count": null,
      "outputs": []
    },
    {
      "cell_type": "code",
      "metadata": {
        "id": "r41DVbqpd-2Z",
        "colab_type": "code",
        "colab": {}
      },
      "source": [
        ""
      ],
      "execution_count": null,
      "outputs": []
    },
    {
      "cell_type": "markdown",
      "metadata": {
        "id": "ZwRICoq3elwB",
        "colab_type": "text"
      },
      "source": [
        "#### Criando o learn"
      ]
    },
    {
      "cell_type": "code",
      "metadata": {
        "id": "d1s1wsTIengE",
        "colab_type": "code",
        "colab": {}
      },
      "source": [
        "config = awd_lstm_lm_config.copy()\n",
        "config['n_hid'] = 1150\n",
        "learn = language_model_learner(data_lm, AWD_LSTM, config=config,\n",
        "                               pretrained_fnames=['model30k', 'itos'], \n",
        "                               drop_mult=0.3)\n",
        "\n"
      ],
      "execution_count": null,
      "outputs": []
    },
    {
      "cell_type": "code",
      "metadata": {
        "id": "K2tMaJMIespb",
        "colab_type": "code",
        "colab": {
          "base_uri": "https://localhost:8080/",
          "height": 34
        },
        "outputId": "f03249ce-be87-4395-9c99-ffd7a57416fd"
      },
      "source": [
        "learn.lr_find()"
      ],
      "execution_count": null,
      "outputs": [
        {
          "output_type": "display_data",
          "data": {
            "text/html": [
              ""
            ],
            "text/plain": [
              "<IPython.core.display.HTML object>"
            ]
          },
          "metadata": {
            "tags": []
          }
        },
        {
          "output_type": "stream",
          "text": [
            "LR Finder is complete, type {learner_name}.recorder.plot() to see the graph.\n"
          ],
          "name": "stdout"
        }
      ]
    },
    {
      "cell_type": "code",
      "metadata": {
        "id": "SRZXnpWTewVV",
        "colab_type": "code",
        "colab": {
          "base_uri": "https://localhost:8080/",
          "height": 279
        },
        "outputId": "7d80ec4d-9472-4571-c3d9-81c99e0bba69"
      },
      "source": [
        "learn.recorder.plot()"
      ],
      "execution_count": null,
      "outputs": [
        {
          "output_type": "display_data",
          "data": {
            "image/png": "[encoded data removed]",
            "text/plain": [
              "<Figure size 432x288 with 1 Axes>"
            ]
          },
          "metadata": {
            "tags": []
          }
        }
      ]
    },
    {
      "cell_type": "code",
      "metadata": {
        "id": "ohkK5FrsiQ9O",
        "colab_type": "code",
        "colab": {
          "base_uri": "https://localhost:8080/",
          "height": 80
        },
        "outputId": "b68af79d-f71c-409b-cb9f-49a345a68b9f"
      },
      "source": [
        "#learn.fit_one_cycle(1, max_lr=4e-2)\n",
        "learn.fit_one_cycle(1, max_lr=1e-1)"
      ],
      "execution_count": null,
      "outputs": [
        {
          "output_type": "display_data",
          "data": {
            "text/html": [
              "<table border=\"1\" class=\"dataframe\">\n",
              "  <thead>\n",
              "    <tr style=\"text-align: left;\">\n",
              "      <th>epoch</th>\n",
              "      <th>train_loss</th>\n",
              "      <th>valid_loss</th>\n",
              "      <th>accuracy</th>\n",
              "      <th>time</th>\n",
              "    </tr>\n",
              "  </thead>\n",
              "  <tbody>\n",
              "    <tr>\n",
              "      <td>0</td>\n",
              "      <td>2.080345</td>\n",
              "      <td>0.965508</td>\n",
              "      <td>0.822818</td>\n",
              "      <td>00:01</td>\n",
              "    </tr>\n",
              "  </tbody>\n",
              "</table>"
            ],
            "text/plain": [
              "<IPython.core.display.HTML object>"
            ]
          },
          "metadata": {
            "tags": []
          }
        }
      ]
    },
    {
      "cell_type": "code",
      "metadata": {
        "id": "3TWX_ZpKimk1",
        "colab_type": "code",
        "colab": {}
      },
      "source": [
        "learn.save_encoder('pretrained_encoder2')"
      ],
      "execution_count": null,
      "outputs": []
    },
    {
      "cell_type": "code",
      "metadata": {
        "id": "dZFcURmOisWv",
        "colab_type": "code",
        "colab": {}
      },
      "source": [
        ""
      ],
      "execution_count": null,
      "outputs": []
    },
    {
      "cell_type": "markdown",
      "metadata": {
        "id": "7KvJZAAKiwE6",
        "colab_type": "text"
      },
      "source": [
        "## Classificador"
      ]
    },
    {
      "cell_type": "code",
      "metadata": {
        "id": "33UpejQ1iyAz",
        "colab_type": "code",
        "colab": {
          "base_uri": "https://localhost:8080/",
          "height": 85
        },
        "outputId": "8e80df2c-f171-4511-f102-85e3c978e665"
      },
      "source": [
        "data_clas = TextClasDataBunch.from_df(path,\n",
        "                                      train_df= df[train_bool],\n",
        "                                      valid_df= df[~train_bool],\n",
        "                                      tokenizer=tokenizer,\n",
        "                                      text_cols=1,\n",
        "                                      bs=24,\n",
        "                                      vocab=vocab,\n",
        "                                      max_vocab=35000,\n",
        "                                      label_cols=0)"
      ],
      "execution_count": null,
      "outputs": [
        {
          "output_type": "display_data",
          "data": {
            "text/html": [
              ""
            ],
            "text/plain": [
              "<IPython.core.display.HTML object>"
            ]
          },
          "metadata": {
            "tags": []
          }
        },
        {
          "output_type": "display_data",
          "data": {
            "text/html": [
              ""
            ],
            "text/plain": [
              "<IPython.core.display.HTML object>"
            ]
          },
          "metadata": {
            "tags": []
          }
        },
        {
          "output_type": "stream",
          "text": [
            "/usr/local/lib/python3.6/dist-packages/fastai/data_block.py:537: UserWarning: You are labelling your items with CategoryList.\n",
            "Your valid set contained the following unknown labels, the corresponding items have been discarded.\n",
            "matriculas cursos   iel\n",
            "  if getattr(ds, 'warn', False): warn(ds.warn)\n"
          ],
          "name": "stderr"
        }
      ]
    },
    {
      "cell_type": "code",
      "metadata": {
        "id": "wXsr5V3hi2Ag",
        "colab_type": "code",
        "colab": {
          "base_uri": "https://localhost:8080/",
          "height": 17
        },
        "outputId": "239f5ea1-bc18-4623-a031-95be26a74c47"
      },
      "source": [
        "data_clas = (TextList.from_df(df, path, vocab=data_lm.vocab, cols='sumario')\n",
        "    .split_by_rand_pct(0.1, seed=42)\n",
        "    .label_from_df(cols='assunto')\n",
        "    .databunch(bs=bs, num_workers=1, backwards=True))\n",
        "\n",
        "#data_clas.save(f'{lang}_textlist_class_bwd')"
      ],
      "execution_count": null,
      "outputs": [
        {
          "output_type": "display_data",
          "data": {
            "text/html": [
              ""
            ],
            "text/plain": [
              "<IPython.core.display.HTML object>"
            ]
          },
          "metadata": {
            "tags": []
          }
        },
        {
          "output_type": "display_data",
          "data": {
            "text/html": [
              ""
            ],
            "text/plain": [
              "<IPython.core.display.HTML object>"
            ]
          },
          "metadata": {
            "tags": []
          }
        }
      ]
    },
    {
      "cell_type": "code",
      "metadata": {
        "id": "d4RvxVOii8CR",
        "colab_type": "code",
        "colab": {
          "base_uri": "https://localhost:8080/",
          "height": 34
        },
        "outputId": "0896e891-2d3e-47a8-a0d0-57fdfc0889e2"
      },
      "source": [
        "print(type(data_clas.valid_ds.x))"
      ],
      "execution_count": null,
      "outputs": [
        {
          "output_type": "stream",
          "text": [
            "<class 'fastai.text.data.TextList'>\n"
          ],
          "name": "stdout"
        }
      ]
    },
    {
      "cell_type": "code",
      "metadata": {
        "id": "ubnr4BMIi9EA",
        "colab_type": "code",
        "colab": {
          "base_uri": "https://localhost:8080/",
          "height": 34
        },
        "outputId": "53f37567-284d-46ac-b2ef-28ceadfea227"
      },
      "source": [
        "len(data_clas.valid_ds.x)"
      ],
      "execution_count": null,
      "outputs": [
        {
          "output_type": "execute_result",
          "data": {
            "text/plain": [
              "671"
            ]
          },
          "metadata": {
            "tags": []
          },
          "execution_count": 67
        }
      ]
    },
    {
      "cell_type": "code",
      "metadata": {
        "id": "Gt6YXAbYi_cc",
        "colab_type": "code",
        "colab": {}
      },
      "source": [
        "clf = text_classifier_learner(data_clas, AWD_LSTM, drop_mult=0.5, pretrained=False)"
      ],
      "execution_count": null,
      "outputs": []
    },
    {
      "cell_type": "code",
      "metadata": {
        "id": "mffvG1agjCSs",
        "colab_type": "code",
        "colab": {
          "base_uri": "https://localhost:8080/",
          "height": 204
        },
        "outputId": "2b74ef4c-6606-4473-9500-036bde295acf"
      },
      "source": [
        "clf.fit_one_cycle(5, 1e-2)"
      ],
      "execution_count": null,
      "outputs": [
        {
          "output_type": "display_data",
          "data": {
            "text/html": [
              "<table border=\"1\" class=\"dataframe\">\n",
              "  <thead>\n",
              "    <tr style=\"text-align: left;\">\n",
              "      <th>epoch</th>\n",
              "      <th>train_loss</th>\n",
              "      <th>valid_loss</th>\n",
              "      <th>accuracy</th>\n",
              "      <th>time</th>\n",
              "    </tr>\n",
              "  </thead>\n",
              "  <tbody>\n",
              "    <tr>\n",
              "      <td>0</td>\n",
              "      <td>1.849547</td>\n",
              "      <td>1.603969</td>\n",
              "      <td>0.611028</td>\n",
              "      <td>00:21</td>\n",
              "    </tr>\n",
              "    <tr>\n",
              "      <td>1</td>\n",
              "      <td>1.885877</td>\n",
              "      <td>2.119954</td>\n",
              "      <td>0.536513</td>\n",
              "      <td>00:23</td>\n",
              "    </tr>\n",
              "    <tr>\n",
              "      <td>2</td>\n",
              "      <td>1.918426</td>\n",
              "      <td>2.034831</td>\n",
              "      <td>0.558867</td>\n",
              "      <td>00:24</td>\n",
              "    </tr>\n",
              "    <tr>\n",
              "      <td>3</td>\n",
              "      <td>1.499041</td>\n",
              "      <td>1.643718</td>\n",
              "      <td>0.612519</td>\n",
              "      <td>00:24</td>\n",
              "    </tr>\n",
              "    <tr>\n",
              "      <td>4</td>\n",
              "      <td>1.368956</td>\n",
              "      <td>1.527953</td>\n",
              "      <td>0.615499</td>\n",
              "      <td>00:22</td>\n",
              "    </tr>\n",
              "  </tbody>\n",
              "</table>"
            ],
            "text/plain": [
              "<IPython.core.display.HTML object>"
            ]
          },
          "metadata": {
            "tags": []
          }
        }
      ]
    },
    {
      "cell_type": "code",
      "metadata": {
        "id": "6l1pmjftjEmF",
        "colab_type": "code",
        "colab": {
          "base_uri": "https://localhost:8080/",
          "height": 629
        },
        "outputId": "28ee3d00-16ed-4e9c-fc97-ed23c41a57ac"
      },
      "source": [
        "clf.data.classes"
      ],
      "execution_count": null,
      "outputs": [
        {
          "output_type": "execute_result",
          "data": {
            "text/plain": [
              "['ata carnet',\n",
              " 'banco de talentos',\n",
              " 'cadastro de fornecedores',\n",
              " 'cadastro de industrias',\n",
              " 'capacitacao empresarial',\n",
              " 'catalogo de exportadores',\n",
              " 'catalogo de fornecedores',\n",
              " 'certificados',\n",
              " 'cod',\n",
              " 'como se associar',\n",
              " 'contribuicao social',\n",
              " 'dificuldade com o ambiente ead',\n",
              " 'edital de inovacao',\n",
              " 'elogios agradecimentos',\n",
              " 'esportes',\n",
              " 'estagios',\n",
              " 'estudos e pesquisa',\n",
              " 'eventos premios',\n",
              " 'inova talentos',\n",
              " 'jovem aprendiz',\n",
              " 'matriculas cursos',\n",
              " 'matriculas cursos   iel',\n",
              " 'matriculas cursos   sesi',\n",
              " 'olimpiada do conhecimento',\n",
              " 'parceria  patrocinio',\n",
              " 'programa de qualific  fornecedores  pqf',\n",
              " 'programas',\n",
              " 'publicacao',\n",
              " 'qualidade de vida saude e seguranca no trabalho',\n",
              " 'reclamacao',\n",
              " 'rede cin',\n",
              " 'relacoes do trabalho',\n",
              " 'sesinho',\n",
              " 'sugestao',\n",
              " 'torneio de robotica',\n",
              " 'wordskills']"
            ]
          },
          "metadata": {
            "tags": []
          },
          "execution_count": 70
        }
      ]
    },
    {
      "cell_type": "code",
      "metadata": {
        "id": "XnFY8tb-4f6Q",
        "colab_type": "code",
        "colab": {
          "base_uri": "https://localhost:8080/",
          "height": 68
        },
        "outputId": "b1458e9e-42ed-4738-ed8c-330ee4a5a870"
      },
      "source": [
        "df_sac_2018.columns"
      ],
      "execution_count": null,
      "outputs": [
        {
          "output_type": "execute_result",
          "data": {
            "text/plain": [
              "Index(['Número da Ocorrência', 'Data de Abertura', 'Descrição',\n",
              "       'Árvore de Assuntos'],\n",
              "      dtype='object')"
            ]
          },
          "metadata": {
            "tags": []
          },
          "execution_count": 71
        }
      ]
    },
    {
      "cell_type": "code",
      "metadata": {
        "id": "cSVydohh3p-g",
        "colab_type": "code",
        "colab": {
          "base_uri": "https://localhost:8080/",
          "height": 34
        },
        "outputId": "388370b2-b84c-491e-b9bd-a7b26ca23323"
      },
      "source": [
        "df_sac_2018[\"Árvore de Assuntos\"].unique().size"
      ],
      "execution_count": null,
      "outputs": [
        {
          "output_type": "execute_result",
          "data": {
            "text/plain": [
              "17"
            ]
          },
          "metadata": {
            "tags": []
          },
          "execution_count": 72
        }
      ]
    },
    {
      "cell_type": "code",
      "metadata": {
        "id": "THoX86YZ4v6Q",
        "colab_type": "code",
        "colab": {
          "base_uri": "https://localhost:8080/",
          "height": 85
        },
        "outputId": "c1a942f5-c1a5-4c43-9584-2f7263102ddf"
      },
      "source": [
        "df_sac_2018[\"Árvore de Assuntos\"].unique()"
      ],
      "execution_count": null,
      "outputs": [
        {
          "output_type": "execute_result",
          "data": {
            "text/plain": [
              "array(['Banco de Talentos', 'Cadastro de Indústrias', 'Catálogo de Exportadores', 'Catálogo de Fornecedores',\n",
              "       'Certificados', 'Como se associar', 'Esportes', 'Estágios', 'Inova Talentos', 'Jovem Aprendiz',\n",
              "       'Matrículas/Cursos', 'Olimpíada do Conhecimento', 'Outros Assuntos', 'Publicação', 'Relações do Trabalho',\n",
              "       'Sesinho', nan], dtype=object)"
            ]
          },
          "metadata": {
            "tags": []
          },
          "execution_count": 73
        }
      ]
    },
    {
      "cell_type": "code",
      "metadata": {
        "id": "AJ5IXnE24qSs",
        "colab_type": "code",
        "colab": {
          "base_uri": "https://localhost:8080/",
          "height": 34
        },
        "outputId": "8b817950-a492-4cb1-a8c4-cc66f2e5e477"
      },
      "source": [
        "df_sac[\"assunto\"].unique().size"
      ],
      "execution_count": null,
      "outputs": [
        {
          "output_type": "execute_result",
          "data": {
            "text/plain": [
              "36"
            ]
          },
          "metadata": {
            "tags": []
          },
          "execution_count": 74
        }
      ]
    },
    {
      "cell_type": "code",
      "metadata": {
        "id": "TferQSt0QOB0",
        "colab_type": "code",
        "colab": {
          "base_uri": "https://localhost:8080/",
          "height": 419
        },
        "outputId": "bc0cdb40-0ab1-4d40-9f36-b345901cba3a"
      },
      "source": [
        "df_sac[df_sac[\"assunto\"]==\"jovem aprendiz\"]"
      ],
      "execution_count": null,
      "outputs": [
        {
          "output_type": "execute_result",
          "data": {
            "text/html": [
              "<div>\n",
              "<style scoped>\n",
              "    .dataframe tbody tr th:only-of-type {\n",
              "        vertical-align: middle;\n",
              "    }\n",
              "\n",
              "    .dataframe tbody tr th {\n",
              "        vertical-align: top;\n",
              "    }\n",
              "\n",
              "    .dataframe thead th {\n",
              "        text-align: right;\n",
              "    }\n",
              "</style>\n",
              "<table border=\"1\" class=\"dataframe\">\n",
              "  <thead>\n",
              "    <tr style=\"text-align: right;\">\n",
              "      <th></th>\n",
              "      <th>assunto</th>\n",
              "      <th>sumario</th>\n",
              "    </tr>\n",
              "  </thead>\n",
              "  <tbody>\n",
              "    <tr>\n",
              "      <th>523</th>\n",
              "      <td>jovem aprendiz</td>\n",
              "      <td>Ola, boa tarde eu gostaria de tirar uma dúvida...</td>\n",
              "    </tr>\n",
              "    <tr>\n",
              "      <th>524</th>\n",
              "      <td>jovem aprendiz</td>\n",
              "      <td>Quero me escrever no jovem aprendiz me ajudem ...</td>\n",
              "    </tr>\n",
              "    <tr>\n",
              "      <th>525</th>\n",
              "      <td>jovem aprendiz</td>\n",
              "      <td>Prezado (a), Boa tarde! Gostaria de integrar ...</td>\n",
              "    </tr>\n",
              "    <tr>\n",
              "      <th>526</th>\n",
              "      <td>jovem aprendiz</td>\n",
              "      <td>Olá Boa noite! Gostaria de saber se tem vagas...</td>\n",
              "    </tr>\n",
              "    <tr>\n",
              "      <th>527</th>\n",
              "      <td>jovem aprendiz</td>\n",
              "      <td>Queria saber qual Das empresa contra JOvem ap...</td>\n",
              "    </tr>\n",
              "    <tr>\n",
              "      <th>...</th>\n",
              "      <td>...</td>\n",
              "      <td>...</td>\n",
              "    </tr>\n",
              "    <tr>\n",
              "      <th>6660</th>\n",
              "      <td>jovem aprendiz</td>\n",
              "      <td>Gostaria de saber como faz para participar do ...</td>\n",
              "    </tr>\n",
              "    <tr>\n",
              "      <th>6666</th>\n",
              "      <td>jovem aprendiz</td>\n",
              "      <td>Como faço para mim torna um jovem aprendiz par...</td>\n",
              "    </tr>\n",
              "    <tr>\n",
              "      <th>6672</th>\n",
              "      <td>jovem aprendiz</td>\n",
              "      <td>somos uma empresa a qual precisamos contratar ...</td>\n",
              "    </tr>\n",
              "    <tr>\n",
              "      <th>6682</th>\n",
              "      <td>jovem aprendiz</td>\n",
              "      <td>Como faço para me inscrever no programa jovem ...</td>\n",
              "    </tr>\n",
              "    <tr>\n",
              "      <th>6712</th>\n",
              "      <td>jovem aprendiz</td>\n",
              "      <td>Gostaria de saber se o Senai está oferecendo v...</td>\n",
              "    </tr>\n",
              "  </tbody>\n",
              "</table>\n",
              "<p>358 rows × 2 columns</p>\n",
              "</div>"
            ],
            "text/plain": [
              "             assunto                                            sumario\n",
              "523   jovem aprendiz  Ola, boa tarde eu gostaria de tirar uma dúvida...\n",
              "524   jovem aprendiz  Quero me escrever no jovem aprendiz me ajudem ...\n",
              "525   jovem aprendiz   Prezado (a), Boa tarde! Gostaria de integrar ...\n",
              "526   jovem aprendiz   Olá Boa noite! Gostaria de saber se tem vagas...\n",
              "527   jovem aprendiz   Queria saber qual Das empresa contra JOvem ap...\n",
              "...              ...                                                ...\n",
              "6660  jovem aprendiz  Gostaria de saber como faz para participar do ...\n",
              "6666  jovem aprendiz  Como faço para mim torna um jovem aprendiz par...\n",
              "6672  jovem aprendiz  somos uma empresa a qual precisamos contratar ...\n",
              "6682  jovem aprendiz  Como faço para me inscrever no programa jovem ...\n",
              "6712  jovem aprendiz  Gostaria de saber se o Senai está oferecendo v...\n",
              "\n",
              "[358 rows x 2 columns]"
            ]
          },
          "metadata": {
            "tags": []
          },
          "execution_count": 75
        }
      ]
    },
    {
      "cell_type": "code",
      "metadata": {
        "id": "6NRTHdMM07Sc",
        "colab_type": "code",
        "colab": {}
      },
      "source": [
        ""
      ],
      "execution_count": null,
      "outputs": []
    },
    {
      "cell_type": "code",
      "metadata": {
        "id": "RWBED2IY0flS",
        "colab_type": "code",
        "colab": {
          "base_uri": "https://localhost:8080/",
          "height": 34
        },
        "outputId": "6f2b7a1e-7f78-4364-ac2c-5fd168b6d252"
      },
      "source": [
        "df_sac[\"sumario\"].iloc[6712]"
      ],
      "execution_count": null,
      "outputs": [
        {
          "output_type": "execute_result",
          "data": {
            "text/plain": [
              "'Gostaria de saber se o Senai está oferecendo vagas de jovem aprendiz 2019.'"
            ]
          },
          "metadata": {
            "tags": []
          },
          "execution_count": 77
        }
      ]
    },
    {
      "cell_type": "code",
      "metadata": {
        "id": "lMAZGzpkjG3C",
        "colab_type": "code",
        "colab": {
          "base_uri": "https://localhost:8080/",
          "height": 153
        },
        "outputId": "250d3447-21fd-488f-a6c0-d789dac4dd8f"
      },
      "source": [
        "pred = clf.predict('Gostaria de saber como faz para participar do programa jovem aprendiz, os lugares disponíveis no RJ para inscrição não estão disponíveis na página !!'); pred"
      ],
      "execution_count": null,
      "outputs": [
        {
          "output_type": "execute_result",
          "data": {
            "text/plain": [
              "(Category jovem aprendiz,\n",
              " tensor(19),\n",
              " tensor([4.3811e-04, 6.9211e-02, 7.9295e-03, 8.2541e-03, 2.5025e-04, 1.6562e-03,\n",
              "         3.4304e-03, 2.1847e-02, 4.8669e-05, 7.7322e-03, 1.9690e-03, 2.9334e-03,\n",
              "         1.7607e-04, 6.1778e-05, 9.4253e-04, 6.3520e-03, 6.5844e-03, 3.7362e-03,\n",
              "         1.9630e-03, 7.8168e-01, 1.3386e-02, 8.1007e-05, 1.0071e-03, 2.5677e-04,\n",
              "         1.0667e-02, 1.3122e-04, 4.1660e-03, 1.5149e-02, 9.1299e-04, 1.2642e-04,\n",
              "         2.0030e-04, 2.0765e-02, 3.3759e-03, 2.5880e-04, 2.2835e-03, 3.3726e-05]))"
            ]
          },
          "metadata": {
            "tags": []
          },
          "execution_count": 78
        }
      ]
    },
    {
      "cell_type": "code",
      "metadata": {
        "id": "1c75gL_x10aI",
        "colab_type": "code",
        "colab": {
          "base_uri": "https://localhost:8080/",
          "height": 119
        },
        "outputId": "6f7ecc0d-2853-461b-fbf8-8832db2baff9"
      },
      "source": [
        "pred = clf.predict('Gentileza nos informar o e-mail do Sr. Roberto Cavalcanti Diretor CNI. Atenciosamente, Renato Cunha Presidente SINDAÇÚCAR - PE.'); pred"
      ],
      "execution_count": null,
      "outputs": [
        {
          "output_type": "execute_result",
          "data": {
            "text/plain": [
              "(Category matriculas cursos,\n",
              " tensor(20),\n",
              " tensor([0.0033, 0.1522, 0.0380, 0.0238, 0.0018, 0.0067, 0.0237, 0.0666, 0.0020,\n",
              "         0.0268, 0.0101, 0.0588, 0.0038, 0.0016, 0.0094, 0.0238, 0.0194, 0.0203,\n",
              "         0.0059, 0.0222, 0.2412, 0.0023, 0.0223, 0.0034, 0.0478, 0.0017, 0.0226,\n",
              "         0.0521, 0.0080, 0.0038, 0.0039, 0.0370, 0.0119, 0.0028, 0.0184, 0.0007]))"
            ]
          },
          "metadata": {
            "tags": []
          },
          "execution_count": 79
        }
      ]
    },
    {
      "cell_type": "code",
      "metadata": {
        "id": "DfynnQxa2EMv",
        "colab_type": "code",
        "colab": {
          "base_uri": "https://localhost:8080/",
          "height": 153
        },
        "outputId": "2af50521-90bf-429e-eb6e-da3feed1bdec"
      },
      "source": [
        "pred = clf.predict('Como faço pra mim se escrever no menor aprendiz ?'); pred"
      ],
      "execution_count": null,
      "outputs": [
        {
          "output_type": "execute_result",
          "data": {
            "text/plain": [
              "(Category jovem aprendiz,\n",
              " tensor(19),\n",
              " tensor([9.5073e-04, 1.5203e-01, 1.9236e-02, 1.3358e-02, 4.3202e-04, 3.0167e-03,\n",
              "         5.9122e-03, 4.7426e-02, 1.4278e-04, 1.5952e-02, 5.1566e-03, 1.2374e-02,\n",
              "         6.6915e-04, 1.6529e-04, 2.1529e-03, 1.4765e-02, 1.4976e-02, 7.4808e-03,\n",
              "         3.5957e-03, 4.8564e-01, 6.7172e-02, 2.5734e-04, 4.1878e-03, 6.1565e-04,\n",
              "         2.3496e-02, 2.6172e-04, 1.0558e-02, 3.7523e-02, 1.9603e-03, 4.6748e-04,\n",
              "         4.8323e-04, 3.2345e-02, 8.5343e-03, 4.9400e-04, 6.1407e-03, 7.0195e-05]))"
            ]
          },
          "metadata": {
            "tags": []
          },
          "execution_count": 80
        }
      ]
    },
    {
      "cell_type": "code",
      "metadata": {
        "id": "Fp7R7Jsx2Ecf",
        "colab_type": "code",
        "colab": {
          "base_uri": "https://localhost:8080/",
          "height": 153
        },
        "outputId": "62dd5811-c2f7-4952-fb4f-995ddd315223"
      },
      "source": [
        "pred = clf.predict('Nome: Adriana Medeiros E-mail: adriana@grupoautentica.com.br Telefone: (31) 99828-1240 UF: MG Cidade: Belo Horizonte Assunto: informacao Categoria de Usuario: estudante Instituição: CNI Empresa: Mensagem: Boa tarde! Gostaria de saber onde faço inscrição para meu filho para trabalhar como Jovem Aprendiz no Senai ? Enviado em: 06/02/2018 15:04'); pred"
      ],
      "execution_count": null,
      "outputs": [
        {
          "output_type": "execute_result",
          "data": {
            "text/plain": [
              "(Category jovem aprendiz,\n",
              " tensor(19),\n",
              " tensor([1.6036e-03, 1.3785e-01, 2.4723e-02, 2.2147e-02, 1.0116e-03, 4.4108e-03,\n",
              "         1.4414e-02, 5.6376e-02, 3.5619e-04, 2.0965e-02, 5.9398e-03, 1.1045e-02,\n",
              "         8.2741e-04, 4.1358e-04, 3.4096e-03, 1.4285e-02, 1.6380e-02, 1.1218e-02,\n",
              "         4.4321e-03, 4.4344e-01, 4.5303e-02, 4.4897e-04, 4.1115e-03, 1.1733e-03,\n",
              "         3.3150e-02, 6.8496e-04, 1.2151e-02, 3.7974e-02, 3.3609e-03, 6.7601e-04,\n",
              "         1.1192e-03, 4.5475e-02, 9.9506e-03, 1.2779e-03, 7.6851e-03, 2.0580e-04]))"
            ]
          },
          "metadata": {
            "tags": []
          },
          "execution_count": 81
        }
      ]
    },
    {
      "cell_type": "code",
      "metadata": {
        "id": "ZRf04QDS2EoW",
        "colab_type": "code",
        "colab": {}
      },
      "source": [
        "pred = clf.predict('Bom dia. Sou funcionária terceirizada da empresa ÁGIL, lotada no MDIC - Ministério da Indústria, Comércio Exterior e Serviços, no Gabinete da Secretária de Inovação e Novos Negócios, e gostaria de saber como devo proceder para encaminhar um curriculum vitae para a CNI, na tentativa de uma vaga na área de secretariado executivo.')"
      ],
      "execution_count": null,
      "outputs": []
    },
    {
      "cell_type": "code",
      "metadata": {
        "id": "fsWah6bnHkOu",
        "colab_type": "code",
        "colab": {
          "base_uri": "https://localhost:8080/",
          "height": 34
        },
        "outputId": "0ea7b81d-1576-4d1f-b353-223b301aa14e"
      },
      "source": [
        "pred[0]"
      ],
      "execution_count": null,
      "outputs": [
        {
          "output_type": "execute_result",
          "data": {
            "text/plain": [
              "Category banco de talentos"
            ]
          },
          "metadata": {
            "tags": []
          },
          "execution_count": 83
        }
      ]
    },
    {
      "cell_type": "code",
      "metadata": {
        "id": "a2Tzw4SmHFjH",
        "colab_type": "code",
        "colab": {}
      },
      "source": [
        "def incluir_arvore_de_assunto (descricao): \n",
        "  pred = clf.predict(descricao)\n",
        "  return pred[0]"
      ],
      "execution_count": null,
      "outputs": []
    },
    {
      "cell_type": "code",
      "metadata": {
        "id": "vQBN_HAvKQbx",
        "colab_type": "code",
        "colab": {}
      },
      "source": [
        ""
      ],
      "execution_count": null,
      "outputs": []
    },
    {
      "cell_type": "code",
      "metadata": {
        "id": "BWbJqHHSIU-R",
        "colab_type": "code",
        "colab": {
          "base_uri": "https://localhost:8080/",
          "height": 235
        },
        "outputId": "5d3771fd-7189-4a9a-c493-38e35831cb6c"
      },
      "source": [
        "df_sac_outro_assuntos.head()"
      ],
      "execution_count": null,
      "outputs": [
        {
          "output_type": "execute_result",
          "data": {
            "text/html": [
              "<div>\n",
              "<style scoped>\n",
              "    .dataframe tbody tr th:only-of-type {\n",
              "        vertical-align: middle;\n",
              "    }\n",
              "\n",
              "    .dataframe tbody tr th {\n",
              "        vertical-align: top;\n",
              "    }\n",
              "\n",
              "    .dataframe thead th {\n",
              "        text-align: right;\n",
              "    }\n",
              "</style>\n",
              "<table border=\"1\" class=\"dataframe\">\n",
              "  <thead>\n",
              "    <tr style=\"text-align: right;\">\n",
              "      <th></th>\n",
              "      <th>Assunto</th>\n",
              "      <th>Descricao</th>\n",
              "    </tr>\n",
              "    <tr>\n",
              "      <th>Titulo</th>\n",
              "      <th></th>\n",
              "      <th></th>\n",
              "    </tr>\n",
              "  </thead>\n",
              "  <tbody>\n",
              "    <tr>\n",
              "      <th>Solicitação de ajuste em texto do Portal da Indústria</th>\n",
              "      <td>outros assuntos</td>\n",
              "      <td>Na página: https://noticias.portaldaindustria....</td>\n",
              "    </tr>\n",
              "    <tr>\n",
              "      <th>Dados de Presidente de federação</th>\n",
              "      <td>outros assuntos</td>\n",
              "      <td>Gentileza nos informar o e-mail do Sr. Roberto...</td>\n",
              "    </tr>\n",
              "    <tr>\n",
              "      <th>Negociação de dívida</th>\n",
              "      <td>outros assuntos</td>\n",
              "      <td>Boa tarde. Gostaria de solicitar uma negociaçã...</td>\n",
              "    </tr>\n",
              "    <tr>\n",
              "      <th>Reclamação sobre relação de consumo diverso ao Sistema Indústria</th>\n",
              "      <td>outros assuntos</td>\n",
              "      <td>\"Bom dia Estou com um grave problema sou clien...</td>\n",
              "    </tr>\n",
              "    <tr>\n",
              "      <th>Manifestação</th>\n",
              "      <td>outros assuntos</td>\n",
              "      <td>Como o governo Jair Bolsonaro irá vender a Ra...</td>\n",
              "    </tr>\n",
              "  </tbody>\n",
              "</table>\n",
              "</div>"
            ],
            "text/plain": [
              "                                                            Assunto                                          Descricao\n",
              "Titulo                                                                                                                \n",
              "Solicitação de ajuste em texto do Portal da Ind...  outros assuntos  Na página: https://noticias.portaldaindustria....\n",
              "Dados de Presidente de federação                    outros assuntos  Gentileza nos informar o e-mail do Sr. Roberto...\n",
              "Negociação de dívida                                outros assuntos  Boa tarde. Gostaria de solicitar uma negociaçã...\n",
              "Reclamação sobre relação de consumo diverso ao ...  outros assuntos  \"Bom dia Estou com um grave problema sou clien...\n",
              "Manifestação                                        outros assuntos   Como o governo Jair Bolsonaro irá vender a Ra..."
            ]
          },
          "metadata": {
            "tags": []
          },
          "execution_count": 85
        }
      ]
    },
    {
      "cell_type": "code",
      "metadata": {
        "id": "XcMLTUIz7pah",
        "colab_type": "code",
        "colab": {}
      },
      "source": [
        "df_sac_outro_assuntos[\"Árvore de Assuntos\"] = df_sac_outro_assuntos[\"Descricao\"].apply(incluir_arvore_de_assunto)\n"
      ],
      "execution_count": null,
      "outputs": []
    },
    {
      "cell_type": "code",
      "metadata": {
        "id": "TWLqf_1lHjYp",
        "colab_type": "code",
        "colab": {}
      },
      "source": [
        "df_sac_2017[\"Árvore de Assuntos\"] = df_sac_2017[\"Descrição_new\"].apply(incluir_arvore_de_assunto)\n"
      ],
      "execution_count": null,
      "outputs": []
    },
    {
      "cell_type": "code",
      "metadata": {
        "id": "9VX3enj1bPlT",
        "colab_type": "code",
        "colab": {
          "base_uri": "https://localhost:8080/",
          "height": 153
        },
        "outputId": "f9dd2de0-9237-4319-f675-45d3f8376439"
      },
      "source": [
        "df_sac_outro_assuntos.info()"
      ],
      "execution_count": null,
      "outputs": [
        {
          "output_type": "stream",
          "text": [
            "<class 'pandas.core.frame.DataFrame'>\n",
            "Index: 495 entries, Solicitação de ajuste em texto do Portal da Indústria to Informações diversas\n",
            "Data columns (total 3 columns):\n",
            "Assunto               495 non-null object\n",
            "Descricao             495 non-null object\n",
            "Árvore de Assuntos    495 non-null object\n",
            "dtypes: object(3)\n",
            "memory usage: 15.5+ KB\n"
          ],
          "name": "stdout"
        }
      ]
    },
    {
      "cell_type": "code",
      "metadata": {
        "id": "iqox31bsLLnq",
        "colab_type": "code",
        "colab": {
          "base_uri": "https://localhost:8080/",
          "height": 235
        },
        "outputId": "c5c08bf4-f78f-4c62-8aa4-8c84b36a2d5c"
      },
      "source": [
        "df_sac_outro_assuntos.head()"
      ],
      "execution_count": null,
      "outputs": [
        {
          "output_type": "execute_result",
          "data": {
            "text/html": [
              "<div>\n",
              "<style scoped>\n",
              "    .dataframe tbody tr th:only-of-type {\n",
              "        vertical-align: middle;\n",
              "    }\n",
              "\n",
              "    .dataframe tbody tr th {\n",
              "        vertical-align: top;\n",
              "    }\n",
              "\n",
              "    .dataframe thead th {\n",
              "        text-align: right;\n",
              "    }\n",
              "</style>\n",
              "<table border=\"1\" class=\"dataframe\">\n",
              "  <thead>\n",
              "    <tr style=\"text-align: right;\">\n",
              "      <th></th>\n",
              "      <th>Assunto</th>\n",
              "      <th>Descricao</th>\n",
              "      <th>Árvore de Assuntos</th>\n",
              "    </tr>\n",
              "    <tr>\n",
              "      <th>Titulo</th>\n",
              "      <th></th>\n",
              "      <th></th>\n",
              "      <th></th>\n",
              "    </tr>\n",
              "  </thead>\n",
              "  <tbody>\n",
              "    <tr>\n",
              "      <th>Solicitação de ajuste em texto do Portal da Indústria</th>\n",
              "      <td>outros assuntos</td>\n",
              "      <td>Na página: https://noticias.portaldaindustria....</td>\n",
              "      <td>matriculas cursos</td>\n",
              "    </tr>\n",
              "    <tr>\n",
              "      <th>Dados de Presidente de federação</th>\n",
              "      <td>outros assuntos</td>\n",
              "      <td>Gentileza nos informar o e-mail do Sr. Roberto...</td>\n",
              "      <td>matriculas cursos</td>\n",
              "    </tr>\n",
              "    <tr>\n",
              "      <th>Negociação de dívida</th>\n",
              "      <td>outros assuntos</td>\n",
              "      <td>Boa tarde. Gostaria de solicitar uma negociaçã...</td>\n",
              "      <td>matriculas cursos</td>\n",
              "    </tr>\n",
              "    <tr>\n",
              "      <th>Reclamação sobre relação de consumo diverso ao Sistema Indústria</th>\n",
              "      <td>outros assuntos</td>\n",
              "      <td>\"Bom dia Estou com um grave problema sou clien...</td>\n",
              "      <td>matriculas cursos</td>\n",
              "    </tr>\n",
              "    <tr>\n",
              "      <th>Manifestação</th>\n",
              "      <td>outros assuntos</td>\n",
              "      <td>Como o governo Jair Bolsonaro irá vender a Ra...</td>\n",
              "      <td>banco de talentos</td>\n",
              "    </tr>\n",
              "  </tbody>\n",
              "</table>\n",
              "</div>"
            ],
            "text/plain": [
              "                                                            Assunto  ... Árvore de Assuntos\n",
              "Titulo                                                               ...                   \n",
              "Solicitação de ajuste em texto do Portal da Ind...  outros assuntos  ...  matriculas cursos\n",
              "Dados de Presidente de federação                    outros assuntos  ...  matriculas cursos\n",
              "Negociação de dívida                                outros assuntos  ...  matriculas cursos\n",
              "Reclamação sobre relação de consumo diverso ao ...  outros assuntos  ...  matriculas cursos\n",
              "Manifestação                                        outros assuntos  ...  banco de talentos\n",
              "\n",
              "[5 rows x 3 columns]"
            ]
          },
          "metadata": {
            "tags": []
          },
          "execution_count": 87
        }
      ]
    },
    {
      "cell_type": "code",
      "metadata": {
        "id": "w0EoyGgC8GmY",
        "colab_type": "code",
        "colab": {}
      },
      "source": [
        "df_sac_outro_assuntos.to_excel(\"drive/My Drive/ia_projects/cni_ouvidoria/datasets/df_sac_2018_2019_outros_assuntos.xlsx\",encoding=\"utf-8\",index=False)"
      ],
      "execution_count": null,
      "outputs": []
    },
    {
      "cell_type": "code",
      "metadata": {
        "id": "vBkP59f5bFxc",
        "colab_type": "code",
        "colab": {}
      },
      "source": [
        "df_sac[['Árvore de Assuntos','Descrição']].groupby(['Árvore de Assuntos'])['Descrição'].count().nlargest(20)"
      ],
      "execution_count": null,
      "outputs": []
    },
    {
      "cell_type": "code",
      "metadata": {
        "id": "B1TlMlaC8fKK",
        "colab_type": "code",
        "colab": {
          "base_uri": "https://localhost:8080/",
          "height": 34
        },
        "outputId": "8fd653f1-81b5-420b-d837-ba1b84e82542"
      },
      "source": [
        "df_sac_outro_assuntos['Árvore de Assuntos'].unique()"
      ],
      "execution_count": null,
      "outputs": [
        {
          "output_type": "execute_result",
          "data": {
            "text/plain": [
              "array([Category matriculas cursos, Category banco de talentos, Category jovem aprendiz], dtype=object)"
            ]
          },
          "metadata": {
            "tags": []
          },
          "execution_count": 99
        }
      ]
    },
    {
      "cell_type": "code",
      "metadata": {
        "id": "pRSDE4ftLQFk",
        "colab_type": "code",
        "colab": {}
      },
      "source": [
        "df_sac_2017.to_excel(\"drive/My Drive/ia_projects/cni_ouvidoria/datasets/df_sac_2017_arvore_assunto2.xlsx\",encoding=\"utf-8\",index=False)"
      ],
      "execution_count": null,
      "outputs": []
    },
    {
      "cell_type": "code",
      "metadata": {
        "id": "_H_ZqjXcjKS2",
        "colab_type": "code",
        "colab": {}
      },
      "source": [
        "valid_df2= df[~train_bool]"
      ],
      "execution_count": null,
      "outputs": []
    },
    {
      "cell_type": "code",
      "metadata": {
        "id": "ekOqSwzvjNXP",
        "colab_type": "code",
        "colab": {
          "base_uri": "https://localhost:8080/",
          "height": 71
        },
        "outputId": "87d8b1c9-981a-4495-b56a-ee32c820ce11"
      },
      "source": [
        "valid_df2.sample().values[0]"
      ],
      "execution_count": null,
      "outputs": [
        {
          "output_type": "execute_result",
          "data": {
            "text/plain": [
              "array(['no-reply@portaldaindustria.com.br\\n9 de ago (Há 1 dia)\\npara sac \\nNome: Jorgecimara\\nEmail: maraf.figueiredo \\nTelefone: \\nCelular: \\nCPF: \\nUF: None\\nCNPJ: \\nCompany Name: \\nMensagem: Não estou conseguindo Logar nos cursos à distância! \\nAparece uma mensagem \" Usuário bloqueado\".',\n",
              "       'matriculas cursos'], dtype=object)"
            ]
          },
          "metadata": {
            "tags": []
          },
          "execution_count": 69
        }
      ]
    }
  ]
}