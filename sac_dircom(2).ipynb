{
  "nbformat": 4,
  "nbformat_minor": 0,
  "metadata": {
    "colab": {
      "name": "sac_dircom.ipynb",
      "provenance": [],
      "collapsed_sections": [],
      "include_colab_link": true
    },
    "kernelspec": {
      "name": "python3",
      "display_name": "Python 3"
    },
    "accelerator": "GPU"
  },
  "cells": [
    {
      "cell_type": "markdown",
      "metadata": {
        "id": "view-in-github",
        "colab_type": "text"
      },
      "source": [
        "<a href=\"https://colab.research.google.com/github/WalnerPessoa/Estudos_DeepLearning/blob/master/sac_dircom(2).ipynb\" target=\"_parent\"><img src=\"https://colab.research.google.com/assets/colab-badge.svg\" alt=\"Open In Colab\"/></a>"
      ]
    },
    {
      "cell_type": "markdown",
      "metadata": {
        "id": "baelrewXjA05",
        "colab_type": "text"
      },
      "source": [
        "### Teste para aplicaçãão de técnicas de NLP para Ouvidoria da Dircom\n",
        "#### \n",
        "colaboração: Fast.ai, Ami Aram, Esa Pekka Tapani "
      ]
    },
    {
      "cell_type": "code",
      "metadata": {
        "id": "xCUqfhS7y-bO",
        "colab_type": "code",
        "colab": {
          "base_uri": "https://localhost:8080/",
          "height": 122
        },
        "outputId": "de737bc2-973c-413a-8e7c-00fe0238c20d"
      },
      "source": [
        "from google.colab import drive\n",
        "drive.mount('/content/drive',)\n"
      ],
      "execution_count": null,
      "outputs": [
        {
          "output_type": "stream",
          "text": [
            "Go to this URL in a browser: https://accounts.google.com/o/oauth2/auth?client_id=947318989803-6bn6qk8qdgf4n4g3pfee6491hc0brc4i.apps.googleusercontent.com&redirect_uri=urn%3aietf%3awg%3aoauth%3a2.0%3aoob&response_type=code&scope=email%20https%3a%2f%2fwww.googleapis.com%2fauth%2fdocs.test%20https%3a%2f%2fwww.googleapis.com%2fauth%2fdrive%20https%3a%2f%2fwww.googleapis.com%2fauth%2fdrive.photos.readonly%20https%3a%2f%2fwww.googleapis.com%2fauth%2fpeopleapi.readonly\n",
            "\n",
            "Enter your authorization code:\n",
            "··········\n",
            "Mounted at /content/drive\n"
          ],
          "name": "stdout"
        }
      ]
    },
    {
      "cell_type": "code",
      "metadata": {
        "id": "mgldjRt0zEFu",
        "colab_type": "code",
        "colab": {}
      },
      "source": [
        "import pandas as pd\n",
        "\n",
        "\n",
        "from pandas import read_excel\n",
        "df_sac_2017 = pd.read_excel('drive/My Drive/ia_projects/cni_ouvidoria/datasets/SAC - MSG 2017.xlsx', index_col=0) \n",
        "df_sac_2018 = pd.read_excel('drive/My Drive/ia_projects/cni_ouvidoria/datasets/msg_sac_2018.xlsx', index_col=0) \n",
        "df_sac_2019 = pd.read_excel('drive/My Drive/ia_projects/cni_ouvidoria/datasets/SAC MSG 2019.xlsx', index_col=0) \n",
        "df_sac_2018_2019_o_assuntos = pd.read_excel('drive/My Drive/ia_projects/cni_ouvidoria/datasets/df_sac_2018_2019_outros_assuntos.xlsx', index_col=0) \n"
      ],
      "execution_count": null,
      "outputs": []
    },
    {
      "cell_type": "code",
      "metadata": {
        "id": "ykcTndkPpqwQ",
        "colab_type": "code",
        "colab": {}
      },
      "source": [
        "#df_sac = df_sac.append(df_sac_2017)\n",
        "#df_sac = pd.concat([df_sac,df_sac,df_sac_2017], sort=False)"
      ],
      "execution_count": null,
      "outputs": []
    },
    {
      "cell_type": "code",
      "metadata": {
        "id": "9ERAh2Eop0_Z",
        "colab_type": "code",
        "colab": {
          "base_uri": "https://localhost:8080/",
          "height": 68
        },
        "outputId": "daadbb3e-eb42-49ce-959d-b16e210c35fe"
      },
      "source": [
        "df_sac_2017.columns"
      ],
      "execution_count": null,
      "outputs": [
        {
          "output_type": "execute_result",
          "data": {
            "text/plain": [
              "Index(['Instituição', 'Número da Ocorrência', 'Complexidade', 'Origem',\n",
              "       'Cliente Potencial', 'Data de Abertura', 'Descrição'],\n",
              "      dtype='object')"
            ]
          },
          "metadata": {
            "tags": []
          },
          "execution_count": 5
        }
      ]
    },
    {
      "cell_type": "code",
      "metadata": {
        "id": "tUett2Xkc9KM",
        "colab_type": "code",
        "colab": {
          "base_uri": "https://localhost:8080/",
          "height": 210
        },
        "outputId": "7877b977-804d-48f5-bdbf-928660866e8e"
      },
      "source": [
        "df_sac_2017.head(2)"
      ],
      "execution_count": null,
      "outputs": [
        {
          "output_type": "execute_result",
          "data": {
            "text/html": [
              "<div>\n",
              "<style scoped>\n",
              "    .dataframe tbody tr th:only-of-type {\n",
              "        vertical-align: middle;\n",
              "    }\n",
              "\n",
              "    .dataframe tbody tr th {\n",
              "        vertical-align: top;\n",
              "    }\n",
              "\n",
              "    .dataframe thead th {\n",
              "        text-align: right;\n",
              "    }\n",
              "</style>\n",
              "<table border=\"1\" class=\"dataframe\">\n",
              "  <thead>\n",
              "    <tr style=\"text-align: right;\">\n",
              "      <th></th>\n",
              "      <th>Instituição</th>\n",
              "      <th>Número da Ocorrência</th>\n",
              "      <th>Complexidade</th>\n",
              "      <th>Origem</th>\n",
              "      <th>Cliente Potencial</th>\n",
              "      <th>Data de Abertura</th>\n",
              "      <th>Descrição</th>\n",
              "    </tr>\n",
              "    <tr>\n",
              "      <th>Título da Ocorrência</th>\n",
              "      <th></th>\n",
              "      <th></th>\n",
              "      <th></th>\n",
              "      <th></th>\n",
              "      <th></th>\n",
              "      <th></th>\n",
              "      <th></th>\n",
              "    </tr>\n",
              "  </thead>\n",
              "  <tbody>\n",
              "    <tr>\n",
              "      <th>Informações sobre cursos</th>\n",
              "      <td>SENAI</td>\n",
              "      <td>OCOR-02314-N2M7D5</td>\n",
              "      <td>Média</td>\n",
              "      <td>Portal da Indústria - SENAI</td>\n",
              "      <td>Weberty rabelo passos</td>\n",
              "      <td>2017-12-28 08:48:00</td>\n",
              "      <td>Nome: Weberty rabelo passos E-mail: webertyrab...</td>\n",
              "    </tr>\n",
              "    <tr>\n",
              "      <th>Informação diversa</th>\n",
              "      <td>CNI</td>\n",
              "      <td>OCOR-02383-V8X2H8</td>\n",
              "      <td>Média</td>\n",
              "      <td>Email</td>\n",
              "      <td>Ana Paula Zettel</td>\n",
              "      <td>2017-12-27 01:26:00</td>\n",
              "      <td>no-reply@portaldaindustria.com.br por  amazons...</td>\n",
              "    </tr>\n",
              "  </tbody>\n",
              "</table>\n",
              "</div>"
            ],
            "text/plain": [
              "                         Instituição  ...                                          Descrição\n",
              "Título da Ocorrência                  ...                                                   \n",
              "Informações sobre cursos       SENAI  ...  Nome: Weberty rabelo passos E-mail: webertyrab...\n",
              "Informação diversa               CNI  ...  no-reply@portaldaindustria.com.br por  amazons...\n",
              "\n",
              "[2 rows x 7 columns]"
            ]
          },
          "metadata": {
            "tags": []
          },
          "execution_count": 6
        }
      ]
    },
    {
      "cell_type": "code",
      "metadata": {
        "id": "5DVHYbvFZdKq",
        "colab_type": "code",
        "colab": {
          "base_uri": "https://localhost:8080/",
          "height": 68
        },
        "outputId": "557c31c1-7b61-4b8f-df21-c9240f93b68d"
      },
      "source": [
        "df_sac_2018.columns"
      ],
      "execution_count": null,
      "outputs": [
        {
          "output_type": "execute_result",
          "data": {
            "text/plain": [
              "Index(['Número da Ocorrência', 'Data de Abertura', 'Descrição',\n",
              "       'Árvore de Assuntos'],\n",
              "      dtype='object')"
            ]
          },
          "metadata": {
            "tags": []
          },
          "execution_count": 7
        }
      ]
    },
    {
      "cell_type": "code",
      "metadata": {
        "id": "C9uliE3sdQha",
        "colab_type": "code",
        "colab": {
          "base_uri": "https://localhost:8080/",
          "height": 142
        },
        "outputId": "6b2b677b-8176-4ef1-a3b0-810fd0c05917"
      },
      "source": [
        "df_sac_2018.head(2)"
      ],
      "execution_count": null,
      "outputs": [
        {
          "output_type": "execute_result",
          "data": {
            "text/html": [
              "<div>\n",
              "<style scoped>\n",
              "    .dataframe tbody tr th:only-of-type {\n",
              "        vertical-align: middle;\n",
              "    }\n",
              "\n",
              "    .dataframe tbody tr th {\n",
              "        vertical-align: top;\n",
              "    }\n",
              "\n",
              "    .dataframe thead th {\n",
              "        text-align: right;\n",
              "    }\n",
              "</style>\n",
              "<table border=\"1\" class=\"dataframe\">\n",
              "  <thead>\n",
              "    <tr style=\"text-align: right;\">\n",
              "      <th></th>\n",
              "      <th>Número da Ocorrência</th>\n",
              "      <th>Data de Abertura</th>\n",
              "      <th>Descrição</th>\n",
              "      <th>Árvore de Assuntos</th>\n",
              "    </tr>\n",
              "    <tr>\n",
              "      <th>Título da Ocorrência</th>\n",
              "      <th></th>\n",
              "      <th></th>\n",
              "      <th></th>\n",
              "      <th></th>\n",
              "    </tr>\n",
              "  </thead>\n",
              "  <tbody>\n",
              "    <tr>\n",
              "      <th>Banco de talentos</th>\n",
              "      <td>OCOR-07041-S1Q6K9</td>\n",
              "      <td>2018-12-21 10:47:00</td>\n",
              "      <td>Bom dia. Sou funcionária terceirizada da empre...</td>\n",
              "      <td>Banco de Talentos</td>\n",
              "    </tr>\n",
              "    <tr>\n",
              "      <th>Banco de talentos</th>\n",
              "      <td>OCOR-07036-V8K9X3</td>\n",
              "      <td>2018-12-20 18:42:00</td>\n",
              "      <td>Boa tarde. Estou procurando algum conteúdo sob...</td>\n",
              "      <td>Banco de Talentos</td>\n",
              "    </tr>\n",
              "  </tbody>\n",
              "</table>\n",
              "</div>"
            ],
            "text/plain": [
              "                     Número da Ocorrência  ... Árvore de Assuntos\n",
              "Título da Ocorrência                       ...                   \n",
              "Banco de talentos       OCOR-07041-S1Q6K9  ...  Banco de Talentos\n",
              "Banco de talentos       OCOR-07036-V8K9X3  ...  Banco de Talentos\n",
              "\n",
              "[2 rows x 4 columns]"
            ]
          },
          "metadata": {
            "tags": []
          },
          "execution_count": 8
        }
      ]
    },
    {
      "cell_type": "code",
      "metadata": {
        "id": "1tys-1LAZdbR",
        "colab_type": "code",
        "colab": {
          "base_uri": "https://localhost:8080/",
          "height": 119
        },
        "outputId": "2e2b6be3-d829-4c59-b09d-f40ee4593340"
      },
      "source": [
        "df_sac_2019.columns"
      ],
      "execution_count": null,
      "outputs": [
        {
          "output_type": "execute_result",
          "data": {
            "text/plain": [
              "Index(['Status do Prazo', 'Título da Ocorrência', 'Árvore de Assuntos',\n",
              "       'Instituição', 'Número da Ocorrência', 'Complexidade', 'Origem',\n",
              "       'Cliente Potencial', 'Status', 'Data de Abertura', 'Data de Criação',\n",
              "       'Atendente', 'Horário de Início Atendimento',\n",
              "       'Horário Final do Atendimento', 'Descrição'],\n",
              "      dtype='object')"
            ]
          },
          "metadata": {
            "tags": []
          },
          "execution_count": 9
        }
      ]
    },
    {
      "cell_type": "code",
      "metadata": {
        "id": "wBdGcGG8dyLb",
        "colab_type": "code",
        "colab": {
          "base_uri": "https://localhost:8080/",
          "height": 1000
        },
        "outputId": "470379d2-7ec5-404f-8768-8ab97a0587c2"
      },
      "source": [
        "df_sac_2019.reset_index()"
      ],
      "execution_count": null,
      "outputs": [
        {
          "output_type": "execute_result",
          "data": {
            "text/html": [
              "<div>\n",
              "<style scoped>\n",
              "    .dataframe tbody tr th:only-of-type {\n",
              "        vertical-align: middle;\n",
              "    }\n",
              "\n",
              "    .dataframe tbody tr th {\n",
              "        vertical-align: top;\n",
              "    }\n",
              "\n",
              "    .dataframe thead th {\n",
              "        text-align: right;\n",
              "    }\n",
              "</style>\n",
              "<table border=\"1\" class=\"dataframe\">\n",
              "  <thead>\n",
              "    <tr style=\"text-align: right;\">\n",
              "      <th></th>\n",
              "      <th>(Não Modificar) Data de Modificação</th>\n",
              "      <th>Status do Prazo</th>\n",
              "      <th>Título da Ocorrência</th>\n",
              "      <th>Árvore de Assuntos</th>\n",
              "      <th>Instituição</th>\n",
              "      <th>Número da Ocorrência</th>\n",
              "      <th>Complexidade</th>\n",
              "      <th>Origem</th>\n",
              "      <th>Cliente Potencial</th>\n",
              "      <th>Status</th>\n",
              "      <th>Data de Abertura</th>\n",
              "      <th>Data de Criação</th>\n",
              "      <th>Atendente</th>\n",
              "      <th>Horário de Início Atendimento</th>\n",
              "      <th>Horário Final do Atendimento</th>\n",
              "      <th>Descrição</th>\n",
              "    </tr>\n",
              "  </thead>\n",
              "  <tbody>\n",
              "    <tr>\n",
              "      <th>0</th>\n",
              "      <td>2019-07-18 20:00:26</td>\n",
              "      <td>No Prazo</td>\n",
              "      <td>Cozinha Brasil</td>\n",
              "      <td>Programas</td>\n",
              "      <td>SESI</td>\n",
              "      <td>OCR-07988-C7N1</td>\n",
              "      <td>Média</td>\n",
              "      <td>Portal da Indústria - SESI</td>\n",
              "      <td>Valdenir Marinho Rosa</td>\n",
              "      <td>Resolvido</td>\n",
              "      <td>2019-07-12 10:27:00</td>\n",
              "      <td>2019-07-12 10:26:30</td>\n",
              "      <td>Erika das Merces Souza</td>\n",
              "      <td>2019-07-12 11:01:57</td>\n",
              "      <td>2019-07-18 17:00:26</td>\n",
              "      <td>Bom dia!\\nRefiro me ao Convênio: 003/2006, SIA...</td>\n",
              "    </tr>\n",
              "    <tr>\n",
              "      <th>1</th>\n",
              "      <td>2019-07-10 22:26:54</td>\n",
              "      <td>No Prazo</td>\n",
              "      <td>MUNDO SENAI - Dificuldade com o ambiente EAD</td>\n",
              "      <td>Dificuldade com o ambiente EAD</td>\n",
              "      <td>SENAI</td>\n",
              "      <td>OCR-07968-Y5P4</td>\n",
              "      <td>Baixa</td>\n",
              "      <td>Mundo SENAI</td>\n",
              "      <td>rafael</td>\n",
              "      <td>Resolvido</td>\n",
              "      <td>2019-07-10 18:29:00</td>\n",
              "      <td>2019-07-10 18:28:38</td>\n",
              "      <td>Erika das Merces Souza</td>\n",
              "      <td>2019-07-10 19:26:27</td>\n",
              "      <td>2019-07-10 19:26:54</td>\n",
              "      <td>nao consigo entra no login</td>\n",
              "    </tr>\n",
              "    <tr>\n",
              "      <th>2</th>\n",
              "      <td>2019-07-10 22:05:22</td>\n",
              "      <td>No Prazo</td>\n",
              "      <td>Jovem aprendiz</td>\n",
              "      <td>Jovem Aprendiz</td>\n",
              "      <td>SENAI</td>\n",
              "      <td>OCR-07967-H4V2</td>\n",
              "      <td>Baixa</td>\n",
              "      <td>Portal da Indústria - SENAI</td>\n",
              "      <td>Maria Eduarda Silva Faria</td>\n",
              "      <td>Resolvido</td>\n",
              "      <td>2019-07-10 15:32:00</td>\n",
              "      <td>2019-07-10 15:30:54</td>\n",
              "      <td>Erika das Merces Souza</td>\n",
              "      <td>2019-07-10 18:45:06</td>\n",
              "      <td>2019-07-10 19:05:22</td>\n",
              "      <td>Vai ter alguma seletiva de jovem aprendiz no d...</td>\n",
              "    </tr>\n",
              "    <tr>\n",
              "      <th>3</th>\n",
              "      <td>2019-07-10 21:33:51</td>\n",
              "      <td>No Prazo</td>\n",
              "      <td>Autorização para uso de material produzido pel...</td>\n",
              "      <td>Outros</td>\n",
              "      <td>CNI</td>\n",
              "      <td>OCR-07966-C5F0</td>\n",
              "      <td>Média</td>\n",
              "      <td>Portal da Indústria - CNI</td>\n",
              "      <td>ERICA DA SILVA SOUZA LOPES</td>\n",
              "      <td>Resolvido</td>\n",
              "      <td>2019-07-10 14:20:00</td>\n",
              "      <td>2019-07-10 14:19:29</td>\n",
              "      <td>Erika das Merces Souza</td>\n",
              "      <td>2019-07-10 18:32:53</td>\n",
              "      <td>2019-07-10 18:33:51</td>\n",
              "      <td>Por gentileza, gostaria de obter autorização p...</td>\n",
              "    </tr>\n",
              "    <tr>\n",
              "      <th>4</th>\n",
              "      <td>2019-07-10 21:20:20</td>\n",
              "      <td>No Prazo</td>\n",
              "      <td>Mundo SENAI - Curso</td>\n",
              "      <td>Matrículas/Cursos</td>\n",
              "      <td>SENAI</td>\n",
              "      <td>OCR-07965-Y0V0</td>\n",
              "      <td>Baixa</td>\n",
              "      <td>Mundo SENAI</td>\n",
              "      <td>Diogo Martiny</td>\n",
              "      <td>Resolvido</td>\n",
              "      <td>2019-07-10 13:54:00</td>\n",
              "      <td>2019-07-10 13:53:00</td>\n",
              "      <td>Erika das Merces Souza</td>\n",
              "      <td>2019-07-10 18:19:24</td>\n",
              "      <td>2019-07-10 18:20:20</td>\n",
              "      <td>Boa tarde, estou tentando me inscrever nos cur...</td>\n",
              "    </tr>\n",
              "    <tr>\n",
              "      <th>...</th>\n",
              "      <td>...</td>\n",
              "      <td>...</td>\n",
              "      <td>...</td>\n",
              "      <td>...</td>\n",
              "      <td>...</td>\n",
              "      <td>...</td>\n",
              "      <td>...</td>\n",
              "      <td>...</td>\n",
              "      <td>...</td>\n",
              "      <td>...</td>\n",
              "      <td>...</td>\n",
              "      <td>...</td>\n",
              "      <td>...</td>\n",
              "      <td>...</td>\n",
              "      <td>...</td>\n",
              "      <td>...</td>\n",
              "    </tr>\n",
              "    <tr>\n",
              "      <th>4439</th>\n",
              "      <td>2019-08-14 13:03:34</td>\n",
              "      <td>No Prazo</td>\n",
              "      <td>Informações sobre cursos</td>\n",
              "      <td>Matrículas/Cursos</td>\n",
              "      <td>SENAI</td>\n",
              "      <td>OCR-08862-R9N9</td>\n",
              "      <td>Baixa</td>\n",
              "      <td>Mundo SENAI</td>\n",
              "      <td>Marcos Martins Huff</td>\n",
              "      <td>Resolvido</td>\n",
              "      <td>2019-01-21 11:30:00</td>\n",
              "      <td>2019-08-13 15:56:30</td>\n",
              "      <td>Giulia Itapa de Carvalho</td>\n",
              "      <td>2019-08-13 15:56:37</td>\n",
              "      <td>2019-08-14 10:03:34</td>\n",
              "      <td>Queria saber se, o curso de controlador e prog...</td>\n",
              "    </tr>\n",
              "    <tr>\n",
              "      <th>4440</th>\n",
              "      <td>2019-08-13 19:37:41</td>\n",
              "      <td>No Prazo</td>\n",
              "      <td>Informaçõe sobre cursos</td>\n",
              "      <td>Matrículas/Cursos</td>\n",
              "      <td>SENAI</td>\n",
              "      <td>OCR-08863-M5Y1</td>\n",
              "      <td>Baixa</td>\n",
              "      <td>Mundo SENAI</td>\n",
              "      <td>Crislaine Lima Manso</td>\n",
              "      <td>Resolvido</td>\n",
              "      <td>2019-01-21 09:00:00</td>\n",
              "      <td>2019-08-13 15:56:30</td>\n",
              "      <td>Giulia Itapa de Carvalho</td>\n",
              "      <td>2019-08-13 15:56:37</td>\n",
              "      <td>2019-08-13 16:37:40</td>\n",
              "      <td>Prezado (a) , boa tarde. gostaria de obter mai...</td>\n",
              "    </tr>\n",
              "    <tr>\n",
              "      <th>4441</th>\n",
              "      <td>2019-08-13 19:20:09</td>\n",
              "      <td>No Prazo</td>\n",
              "      <td>Certificações</td>\n",
              "      <td>Certificados</td>\n",
              "      <td>SENAI</td>\n",
              "      <td>OCR-08864-N4S8</td>\n",
              "      <td>Baixa</td>\n",
              "      <td>Mundo SENAI</td>\n",
              "      <td>Luiz Henrique Hillesheim</td>\n",
              "      <td>Resolvido</td>\n",
              "      <td>2019-01-21 08:30:00</td>\n",
              "      <td>2019-08-13 15:56:31</td>\n",
              "      <td>Giulia Itapa de Carvalho</td>\n",
              "      <td>2019-08-13 15:56:37</td>\n",
              "      <td>2019-08-13 16:20:09</td>\n",
              "      <td>Bom dia ! Gostaria de saber como faço para peg...</td>\n",
              "    </tr>\n",
              "    <tr>\n",
              "      <th>4442</th>\n",
              "      <td>2019-08-14 13:05:18</td>\n",
              "      <td>No Prazo</td>\n",
              "      <td>Informações sobre cursos</td>\n",
              "      <td>Matrículas/Cursos</td>\n",
              "      <td>SENAI</td>\n",
              "      <td>OCR-08865-D9X3</td>\n",
              "      <td>Baixa</td>\n",
              "      <td>Mundo SENAI</td>\n",
              "      <td>Ivanildo sousa da silva</td>\n",
              "      <td>Resolvido</td>\n",
              "      <td>2019-01-21 08:30:00</td>\n",
              "      <td>2019-08-13 15:56:31</td>\n",
              "      <td>Giulia Itapa de Carvalho</td>\n",
              "      <td>2019-08-13 15:56:37</td>\n",
              "      <td>2019-08-14 10:05:18</td>\n",
              "      <td>Gostaria de saber mas sobre eletrotecnica</td>\n",
              "    </tr>\n",
              "    <tr>\n",
              "      <th>4443</th>\n",
              "      <td>2019-08-14 13:21:22</td>\n",
              "      <td>No Prazo</td>\n",
              "      <td>Jovem aprendiz</td>\n",
              "      <td>Jovem Aprendiz</td>\n",
              "      <td>SENAI</td>\n",
              "      <td>OCR-08866-Z1Y5</td>\n",
              "      <td>Baixa</td>\n",
              "      <td>Mundo SENAI</td>\n",
              "      <td>Vitória beatriz dos santos magalhães de oliveira</td>\n",
              "      <td>Resolvido</td>\n",
              "      <td>2019-01-14 10:00:00</td>\n",
              "      <td>2019-08-13 15:56:31</td>\n",
              "      <td>Giulia Itapa de Carvalho</td>\n",
              "      <td>2019-08-13 15:56:41</td>\n",
              "      <td>2019-08-14 10:21:22</td>\n",
              "      <td>Gostaria de saber se o Senai está oferecendo v...</td>\n",
              "    </tr>\n",
              "  </tbody>\n",
              "</table>\n",
              "<p>4444 rows × 16 columns</p>\n",
              "</div>"
            ],
            "text/plain": [
              "     (Não Modificar) Data de Modificação  ...                                          Descrição\n",
              "0                    2019-07-18 20:00:26  ...  Bom dia!\\nRefiro me ao Convênio: 003/2006, SIA...\n",
              "1                    2019-07-10 22:26:54  ...                         nao consigo entra no login\n",
              "2                    2019-07-10 22:05:22  ...  Vai ter alguma seletiva de jovem aprendiz no d...\n",
              "3                    2019-07-10 21:33:51  ...  Por gentileza, gostaria de obter autorização p...\n",
              "4                    2019-07-10 21:20:20  ...  Boa tarde, estou tentando me inscrever nos cur...\n",
              "...                                  ...  ...                                                ...\n",
              "4439                 2019-08-14 13:03:34  ...  Queria saber se, o curso de controlador e prog...\n",
              "4440                 2019-08-13 19:37:41  ...  Prezado (a) , boa tarde. gostaria de obter mai...\n",
              "4441                 2019-08-13 19:20:09  ...  Bom dia ! Gostaria de saber como faço para peg...\n",
              "4442                 2019-08-14 13:05:18  ...          Gostaria de saber mas sobre eletrotecnica\n",
              "4443                 2019-08-14 13:21:22  ...  Gostaria de saber se o Senai está oferecendo v...\n",
              "\n",
              "[4444 rows x 16 columns]"
            ]
          },
          "metadata": {
            "tags": []
          },
          "execution_count": 10
        }
      ]
    },
    {
      "cell_type": "code",
      "metadata": {
        "id": "lIcfxBPDd8gV",
        "colab_type": "code",
        "colab": {}
      },
      "source": [
        "df_sac_2019.set_index(\"Título da Ocorrência\",inplace=True)"
      ],
      "execution_count": null,
      "outputs": []
    },
    {
      "cell_type": "code",
      "metadata": {
        "id": "nlMfvUeDdVph",
        "colab_type": "code",
        "colab": {
          "base_uri": "https://localhost:8080/",
          "height": 383
        },
        "outputId": "459a8d1f-284f-4918-aaad-6b2680845f6d"
      },
      "source": [
        "df_sac_2019.head(2)"
      ],
      "execution_count": null,
      "outputs": [
        {
          "output_type": "execute_result",
          "data": {
            "text/html": [
              "<div>\n",
              "<style scoped>\n",
              "    .dataframe tbody tr th:only-of-type {\n",
              "        vertical-align: middle;\n",
              "    }\n",
              "\n",
              "    .dataframe tbody tr th {\n",
              "        vertical-align: top;\n",
              "    }\n",
              "\n",
              "    .dataframe thead th {\n",
              "        text-align: right;\n",
              "    }\n",
              "</style>\n",
              "<table border=\"1\" class=\"dataframe\">\n",
              "  <thead>\n",
              "    <tr style=\"text-align: right;\">\n",
              "      <th></th>\n",
              "      <th>Status do Prazo</th>\n",
              "      <th>Árvore de Assuntos</th>\n",
              "      <th>Instituição</th>\n",
              "      <th>Número da Ocorrência</th>\n",
              "      <th>Complexidade</th>\n",
              "      <th>Origem</th>\n",
              "      <th>Cliente Potencial</th>\n",
              "      <th>Status</th>\n",
              "      <th>Data de Abertura</th>\n",
              "      <th>Data de Criação</th>\n",
              "      <th>Atendente</th>\n",
              "      <th>Horário de Início Atendimento</th>\n",
              "      <th>Horário Final do Atendimento</th>\n",
              "      <th>Descrição</th>\n",
              "    </tr>\n",
              "    <tr>\n",
              "      <th>Título da Ocorrência</th>\n",
              "      <th></th>\n",
              "      <th></th>\n",
              "      <th></th>\n",
              "      <th></th>\n",
              "      <th></th>\n",
              "      <th></th>\n",
              "      <th></th>\n",
              "      <th></th>\n",
              "      <th></th>\n",
              "      <th></th>\n",
              "      <th></th>\n",
              "      <th></th>\n",
              "      <th></th>\n",
              "      <th></th>\n",
              "    </tr>\n",
              "  </thead>\n",
              "  <tbody>\n",
              "    <tr>\n",
              "      <th>Cozinha Brasil</th>\n",
              "      <td>No Prazo</td>\n",
              "      <td>Programas</td>\n",
              "      <td>SESI</td>\n",
              "      <td>OCR-07988-C7N1</td>\n",
              "      <td>Média</td>\n",
              "      <td>Portal da Indústria - SESI</td>\n",
              "      <td>Valdenir Marinho Rosa</td>\n",
              "      <td>Resolvido</td>\n",
              "      <td>2019-07-12 10:27:00</td>\n",
              "      <td>2019-07-12 10:26:30</td>\n",
              "      <td>Erika das Merces Souza</td>\n",
              "      <td>2019-07-12 11:01:57</td>\n",
              "      <td>2019-07-18 17:00:26</td>\n",
              "      <td>Bom dia!\\nRefiro me ao Convênio: 003/2006, SIA...</td>\n",
              "    </tr>\n",
              "    <tr>\n",
              "      <th>MUNDO SENAI - Dificuldade com o ambiente EAD</th>\n",
              "      <td>No Prazo</td>\n",
              "      <td>Dificuldade com o ambiente EAD</td>\n",
              "      <td>SENAI</td>\n",
              "      <td>OCR-07968-Y5P4</td>\n",
              "      <td>Baixa</td>\n",
              "      <td>Mundo SENAI</td>\n",
              "      <td>rafael</td>\n",
              "      <td>Resolvido</td>\n",
              "      <td>2019-07-10 18:29:00</td>\n",
              "      <td>2019-07-10 18:28:38</td>\n",
              "      <td>Erika das Merces Souza</td>\n",
              "      <td>2019-07-10 19:26:27</td>\n",
              "      <td>2019-07-10 19:26:54</td>\n",
              "      <td>nao consigo entra no login</td>\n",
              "    </tr>\n",
              "  </tbody>\n",
              "</table>\n",
              "</div>"
            ],
            "text/plain": [
              "                                             Status do Prazo  ...                                          Descrição\n",
              "Título da Ocorrência                                          ...                                                   \n",
              "Cozinha Brasil                                      No Prazo  ...  Bom dia!\\nRefiro me ao Convênio: 003/2006, SIA...\n",
              "MUNDO SENAI - Dificuldade com o ambiente EAD        No Prazo  ...                         nao consigo entra no login\n",
              "\n",
              "[2 rows x 14 columns]"
            ]
          },
          "metadata": {
            "tags": []
          },
          "execution_count": 12
        }
      ]
    },
    {
      "cell_type": "code",
      "metadata": {
        "id": "iH0q8f9oxARW",
        "colab_type": "code",
        "colab": {}
      },
      "source": [
        "# FICARÁ AS COLUNAS [ 'Número da Ocorrência',  'Data de Abertura', 'Descrição']\n",
        "lista_colunas_drop_2017=[\"Instituição\",\"Complexidade\",\"Origem\",\"Cliente Potencial\"]\n",
        "df_sac_2017 = df_sac_2017.drop(lista_colunas_drop_2017, axis=1)\n",
        "      "
      ],
      "execution_count": null,
      "outputs": []
    },
    {
      "cell_type": "code",
      "metadata": {
        "id": "RPiv95IVbVIw",
        "colab_type": "code",
        "colab": {}
      },
      "source": [
        "# FICARÁ AS COLUNAS [ 'Número da Ocorrência',  'Data de Abertura', 'Descrição'],\n",
        "\n",
        "lista_colunas_drop_2019 = ['Status do Prazo', \n",
        "       'Instituição', 'Complexidade', 'Origem',\n",
        "       'Cliente Potencial', 'Status',  'Data de Criação',\n",
        "       'Atendente', 'Horário de Início Atendimento',\n",
        "       'Horário Final do Atendimento']\n",
        "\n",
        "df_sac_2019 = df_sac_2019.drop(lista_colunas_drop_2019, axis=1)\n"
      ],
      "execution_count": null,
      "outputs": []
    },
    {
      "cell_type": "code",
      "metadata": {
        "id": "S_HgEsYzwL0x",
        "colab_type": "code",
        "colab": {
          "base_uri": "https://localhost:8080/",
          "height": 68
        },
        "outputId": "fc831a80-c26d-4444-a395-9846d9473e7f"
      },
      "source": [
        "df_sac_2018.columns"
      ],
      "execution_count": null,
      "outputs": [
        {
          "output_type": "execute_result",
          "data": {
            "text/plain": [
              "Index(['Número da Ocorrência', 'Data de Abertura', 'Descrição',\n",
              "       'Árvore de Assuntos'],\n",
              "      dtype='object')"
            ]
          },
          "metadata": {
            "tags": []
          },
          "execution_count": 15
        }
      ]
    },
    {
      "cell_type": "code",
      "metadata": {
        "id": "JoGKeEKPsPbU",
        "colab_type": "code",
        "colab": {
          "base_uri": "https://localhost:8080/",
          "height": 68
        },
        "outputId": "e88672c2-7556-4bc4-bee3-0a2d9cba1dcd"
      },
      "source": [
        "df_sac_2019.columns"
      ],
      "execution_count": null,
      "outputs": [
        {
          "output_type": "execute_result",
          "data": {
            "text/plain": [
              "Index(['Árvore de Assuntos', 'Número da Ocorrência', 'Data de Abertura',\n",
              "       'Descrição'],\n",
              "      dtype='object')"
            ]
          },
          "metadata": {
            "tags": []
          },
          "execution_count": 16
        }
      ]
    },
    {
      "cell_type": "code",
      "metadata": {
        "id": "mUUwxCMO3IwB",
        "colab_type": "code",
        "colab": {
          "base_uri": "https://localhost:8080/",
          "height": 142
        },
        "outputId": "e06790a6-b253-4031-daea-ca4a9a19e1c5"
      },
      "source": [
        "df_sac_2019.head(2)"
      ],
      "execution_count": null,
      "outputs": [
        {
          "output_type": "execute_result",
          "data": {
            "text/html": [
              "<div>\n",
              "<style scoped>\n",
              "    .dataframe tbody tr th:only-of-type {\n",
              "        vertical-align: middle;\n",
              "    }\n",
              "\n",
              "    .dataframe tbody tr th {\n",
              "        vertical-align: top;\n",
              "    }\n",
              "\n",
              "    .dataframe thead th {\n",
              "        text-align: right;\n",
              "    }\n",
              "</style>\n",
              "<table border=\"1\" class=\"dataframe\">\n",
              "  <thead>\n",
              "    <tr style=\"text-align: right;\">\n",
              "      <th></th>\n",
              "      <th>Árvore de Assuntos</th>\n",
              "      <th>Número da Ocorrência</th>\n",
              "      <th>Data de Abertura</th>\n",
              "      <th>Descrição</th>\n",
              "    </tr>\n",
              "    <tr>\n",
              "      <th>Título da Ocorrência</th>\n",
              "      <th></th>\n",
              "      <th></th>\n",
              "      <th></th>\n",
              "      <th></th>\n",
              "    </tr>\n",
              "  </thead>\n",
              "  <tbody>\n",
              "    <tr>\n",
              "      <th>Cozinha Brasil</th>\n",
              "      <td>Programas</td>\n",
              "      <td>OCR-07988-C7N1</td>\n",
              "      <td>2019-07-12 10:27:00</td>\n",
              "      <td>Bom dia!\\nRefiro me ao Convênio: 003/2006, SIA...</td>\n",
              "    </tr>\n",
              "    <tr>\n",
              "      <th>MUNDO SENAI - Dificuldade com o ambiente EAD</th>\n",
              "      <td>Dificuldade com o ambiente EAD</td>\n",
              "      <td>OCR-07968-Y5P4</td>\n",
              "      <td>2019-07-10 18:29:00</td>\n",
              "      <td>nao consigo entra no login</td>\n",
              "    </tr>\n",
              "  </tbody>\n",
              "</table>\n",
              "</div>"
            ],
            "text/plain": [
              "                                                          Árvore de Assuntos  ...                                          Descrição\n",
              "Título da Ocorrência                                                          ...                                                   \n",
              "Cozinha Brasil                                                     Programas  ...  Bom dia!\\nRefiro me ao Convênio: 003/2006, SIA...\n",
              "MUNDO SENAI - Dificuldade com o ambiente EAD  Dificuldade com o ambiente EAD  ...                         nao consigo entra no login\n",
              "\n",
              "[2 rows x 4 columns]"
            ]
          },
          "metadata": {
            "tags": []
          },
          "execution_count": 17
        }
      ]
    },
    {
      "cell_type": "code",
      "metadata": {
        "id": "oUlYIY_f3AYT",
        "colab_type": "code",
        "colab": {}
      },
      "source": [
        "df_sac_2019 = df_sac_2019[[ 'Número da Ocorrência', 'Data de Abertura','Descrição','Árvore de Assuntos']]"
      ],
      "execution_count": null,
      "outputs": []
    },
    {
      "cell_type": "code",
      "metadata": {
        "id": "2xHY4EzN5Z18",
        "colab_type": "code",
        "colab": {
          "base_uri": "https://localhost:8080/",
          "height": 306
        },
        "outputId": "ab3f369c-005c-4d7b-e797-92a6ce6d1f24"
      },
      "source": [
        "assuntos_unicos_2019 = df_sac_2019['Árvore de Assuntos'].unique()\n",
        "df_sac_2019['Árvore de Assuntos'].unique()"
      ],
      "execution_count": null,
      "outputs": [
        {
          "output_type": "execute_result",
          "data": {
            "text/plain": [
              "array(['Programas', 'Dificuldade com o ambiente EAD', 'Jovem Aprendiz',\n",
              "       'Outros', 'Matrículas/Cursos', 'Banco de Talentos',\n",
              "       'Relações do Trabalho', 'Inova Talentos', 'Patrocínio/Parceria',\n",
              "       'Estágios', 'Cadastro de Indústrias', 'Como se associar',\n",
              "       'Certificados', 'Cadastro de Fornecedores', 'Torneio de Robótica',\n",
              "       'Contribuição Social', 'Estudos e Pesquisa',\n",
              "       'Parceria/ Patrocínio', 'Matrículas/Cursos - SESI',\n",
              "       'Patrocínio/ Parceria', 'Publicações', 'Reclamação', 'Sugestão',\n",
              "       'Qualidade de Vida/Saúde e Segurança no Trabalho', 'Esportes',\n",
              "       'Publicação', 'Catálogo de Exportadores', 'Banco de Talento',\n",
              "       'Rede CIN', 'Sesinho', 'Edital de Inovação', 'Certificado',\n",
              "       'Matrículas/Cursos - IEL', 'Olimpíada do Conhecimento',\n",
              "       'Outros Assuntos', 'Eventos', 'Ata Carnet',\n",
              "       'Capacitação Empresarial', 'Eventos/Prêmios',\n",
              "       'Catálogo de Fornecedores', 'Elogio', nan, 'WordSkills', 'COD',\n",
              "       'Programa de Qualific. Fornecedores (PQF)',\n",
              "       'Elogios/Agradecimentos'], dtype=object)"
            ]
          },
          "metadata": {
            "tags": []
          },
          "execution_count": 19
        }
      ]
    },
    {
      "cell_type": "code",
      "metadata": {
        "id": "Gci661iT6R5R",
        "colab_type": "code",
        "colab": {}
      },
      "source": [
        "assuntos_unicos_2019 = pd.Series(assuntos_unicos_2019)"
      ],
      "execution_count": null,
      "outputs": []
    },
    {
      "cell_type": "code",
      "metadata": {
        "id": "-8GF3ouy8enI",
        "colab_type": "code",
        "colab": {
          "base_uri": "https://localhost:8080/",
          "height": 816
        },
        "outputId": "78e8b829-c8d5-4360-ea83-e78bf4fe5f5c"
      },
      "source": [
        "assuntos_unicos_2019.sort_values()"
      ],
      "execution_count": null,
      "outputs": [
        {
          "output_type": "execute_result",
          "data": {
            "text/plain": [
              "36                                         Ata Carnet\n",
              "27                                   Banco de Talento\n",
              "5                                   Banco de Talentos\n",
              "43                                                COD\n",
              "13                           Cadastro de Fornecedores\n",
              "10                             Cadastro de Indústrias\n",
              "37                            Capacitação Empresarial\n",
              "26                           Catálogo de Exportadores\n",
              "39                           Catálogo de Fornecedores\n",
              "31                                        Certificado\n",
              "12                                       Certificados\n",
              "11                                   Como se associar\n",
              "15                                Contribuição Social\n",
              "1                      Dificuldade com o ambiente EAD\n",
              "30                                 Edital de Inovação\n",
              "40                                             Elogio\n",
              "45                             Elogios/Agradecimentos\n",
              "24                                           Esportes\n",
              "16                                 Estudos e Pesquisa\n",
              "9                                            Estágios\n",
              "35                                            Eventos\n",
              "38                                    Eventos/Prêmios\n",
              "7                                      Inova Talentos\n",
              "2                                      Jovem Aprendiz\n",
              "4                                   Matrículas/Cursos\n",
              "32                            Matrículas/Cursos - IEL\n",
              "18                           Matrículas/Cursos - SESI\n",
              "33                          Olimpíada do Conhecimento\n",
              "3                                              Outros\n",
              "34                                    Outros Assuntos\n",
              "17                               Parceria/ Patrocínio\n",
              "19                               Patrocínio/ Parceria\n",
              "8                                 Patrocínio/Parceria\n",
              "44           Programa de Qualific. Fornecedores (PQF)\n",
              "0                                           Programas\n",
              "25                                         Publicação\n",
              "20                                        Publicações\n",
              "23    Qualidade de Vida/Saúde e Segurança no Trabalho\n",
              "21                                         Reclamação\n",
              "28                                           Rede CIN\n",
              "6                                Relações do Trabalho\n",
              "29                                            Sesinho\n",
              "22                                           Sugestão\n",
              "14                                Torneio de Robótica\n",
              "42                                         WordSkills\n",
              "41                                                NaN\n",
              "dtype: object"
            ]
          },
          "metadata": {
            "tags": []
          },
          "execution_count": 20
        }
      ]
    },
    {
      "cell_type": "code",
      "metadata": {
        "id": "Qp61X40b_w1q",
        "colab_type": "code",
        "colab": {}
      },
      "source": [
        "df_sac_2019=df_sac_2019.apply(lambda x:x.replace(\"Publicações\",\"Publicação\"))\n",
        "df_sac_2019=df_sac_2019.apply(lambda x:x.replace(\"Patrocínio/ Parceria\",\"Patrocínio/Parceria\"))\n",
        "df_sac_2019=df_sac_2019.apply(lambda x:x.replace(\"Certificado\",\"Certificados\"))\n",
        "df_sac_2019=df_sac_2019.apply(lambda x:x.replace(\"Banco de Talento\",\"Banco de Talentos\"))\n",
        "df_sac_2019=df_sac_2019.apply(lambda x:x.replace(\"Elogio\",\"Elogios/Agradecimentos\"))\n",
        "df_sac_2019=df_sac_2019.apply(lambda x:x.replace(\"Eventos\",\"Eventos/Prêmios\"))\n",
        "df_sac_2019=df_sac_2019.apply(lambda x:x.replace(\"Outros\",\"Outros Assuntos\"))\n",
        "df_sac_2019=df_sac_2019.apply(lambda x:x.replace(\"Patrocínio/Parceria\",\"Parceria/ Patrocínio\"))\n",
        "df_sac_2019=df_sac_2019.apply(lambda x:x.replace(\"NaN\",\"Outros Assuntos\"))"
      ],
      "execution_count": null,
      "outputs": []
    },
    {
      "cell_type": "code",
      "metadata": {
        "id": "C8YH7NCg-V25",
        "colab_type": "code",
        "colab": {
          "base_uri": "https://localhost:8080/",
          "height": 34
        },
        "outputId": "2a8ab437-195d-4626-82ff-77952e9d7ea8"
      },
      "source": [
        "df_sac_2019[df_sac_2019['Árvore de Assuntos']==\"Publicação\"]['Árvore de Assuntos'].count()"
      ],
      "execution_count": null,
      "outputs": [
        {
          "output_type": "execute_result",
          "data": {
            "text/plain": [
              "21"
            ]
          },
          "metadata": {
            "tags": []
          },
          "execution_count": 23
        }
      ]
    },
    {
      "cell_type": "code",
      "metadata": {
        "id": "IWaMOYLUV3Y7",
        "colab_type": "code",
        "colab": {
          "base_uri": "https://localhost:8080/",
          "height": 68
        },
        "outputId": "f22669b9-38b3-49c0-c533-cec2cb4eface"
      },
      "source": [
        "df_sac_2019.columns"
      ],
      "execution_count": null,
      "outputs": [
        {
          "output_type": "execute_result",
          "data": {
            "text/plain": [
              "Index(['Número da Ocorrência', 'Data de Abertura', 'Descrição',\n",
              "       'Árvore de Assuntos'],\n",
              "      dtype='object')"
            ]
          },
          "metadata": {
            "tags": []
          },
          "execution_count": 24
        }
      ]
    },
    {
      "cell_type": "code",
      "metadata": {
        "id": "5J05U9ASXRmw",
        "colab_type": "code",
        "colab": {}
      },
      "source": [
        "def retirar_mensagem(dados):\n",
        "  texto=str(dados).split(\"Mensagem:\")\n",
        "  if len(texto)>1:\n",
        "    return texto[1]\n",
        "  else:\n",
        "    return texto[0]\n"
      ],
      "execution_count": null,
      "outputs": []
    },
    {
      "cell_type": "code",
      "metadata": {
        "id": "P5317Qo9dqaJ",
        "colab_type": "code",
        "colab": {
          "base_uri": "https://localhost:8080/",
          "height": 235
        },
        "outputId": "ee87ebbd-cd14-454e-a56c-1e95373a9ec1"
      },
      "source": [
        "df_sac_2018_2019_o_assuntos.head()"
      ],
      "execution_count": null,
      "outputs": [
        {
          "output_type": "execute_result",
          "data": {
            "text/html": [
              "<div>\n",
              "<style scoped>\n",
              "    .dataframe tbody tr th:only-of-type {\n",
              "        vertical-align: middle;\n",
              "    }\n",
              "\n",
              "    .dataframe tbody tr th {\n",
              "        vertical-align: top;\n",
              "    }\n",
              "\n",
              "    .dataframe thead th {\n",
              "        text-align: right;\n",
              "    }\n",
              "</style>\n",
              "<table border=\"1\" class=\"dataframe\">\n",
              "  <thead>\n",
              "    <tr style=\"text-align: right;\">\n",
              "      <th></th>\n",
              "      <th>Descricao</th>\n",
              "      <th>Árvore de Assuntos</th>\n",
              "      <th>Descricao_new</th>\n",
              "    </tr>\n",
              "    <tr>\n",
              "      <th>Assunto</th>\n",
              "      <th></th>\n",
              "      <th></th>\n",
              "      <th></th>\n",
              "    </tr>\n",
              "  </thead>\n",
              "  <tbody>\n",
              "    <tr>\n",
              "      <th>outros assuntos</th>\n",
              "      <td>Na página: https://noticias.portaldaindustria....</td>\n",
              "      <td>matriculas cursos</td>\n",
              "      <td>Na página: https://noticias.portaldaindustria....</td>\n",
              "    </tr>\n",
              "    <tr>\n",
              "      <th>outros assuntos</th>\n",
              "      <td>Gentileza nos informar o e-mail do Sr. Roberto...</td>\n",
              "      <td>matriculas cursos</td>\n",
              "      <td>Gentileza nos informar o e-mail do Sr. Roberto...</td>\n",
              "    </tr>\n",
              "    <tr>\n",
              "      <th>outros assuntos</th>\n",
              "      <td>Boa tarde. Gostaria de solicitar uma negociaçã...</td>\n",
              "      <td>matriculas cursos</td>\n",
              "      <td>Boa tarde. Gostaria de solicitar uma negociaçã...</td>\n",
              "    </tr>\n",
              "    <tr>\n",
              "      <th>outros assuntos</th>\n",
              "      <td>\"Bom dia Estou com um grave problema sou clien...</td>\n",
              "      <td>matriculas cursos</td>\n",
              "      <td>\"Bom dia Estou com um grave problema sou clien...</td>\n",
              "    </tr>\n",
              "    <tr>\n",
              "      <th>outros assuntos</th>\n",
              "      <td>Como o governo Jair Bolsonaro irá vender a Ra...</td>\n",
              "      <td>banco de talentos</td>\n",
              "      <td>Como o governo Jair Bolsonaro irá vender a Ra...</td>\n",
              "    </tr>\n",
              "  </tbody>\n",
              "</table>\n",
              "</div>"
            ],
            "text/plain": [
              "                                                         Descricao  ...                                      Descricao_new\n",
              "Assunto                                                             ...                                                   \n",
              "outros assuntos  Na página: https://noticias.portaldaindustria....  ...  Na página: https://noticias.portaldaindustria....\n",
              "outros assuntos  Gentileza nos informar o e-mail do Sr. Roberto...  ...  Gentileza nos informar o e-mail do Sr. Roberto...\n",
              "outros assuntos  Boa tarde. Gostaria de solicitar uma negociaçã...  ...  Boa tarde. Gostaria de solicitar uma negociaçã...\n",
              "outros assuntos  \"Bom dia Estou com um grave problema sou clien...  ...  \"Bom dia Estou com um grave problema sou clien...\n",
              "outros assuntos   Como o governo Jair Bolsonaro irá vender a Ra...  ...   Como o governo Jair Bolsonaro irá vender a Ra...\n",
              "\n",
              "[5 rows x 3 columns]"
            ]
          },
          "metadata": {
            "tags": []
          },
          "execution_count": 20
        }
      ]
    },
    {
      "cell_type": "code",
      "metadata": {
        "id": "RHsIgeKZdUhQ",
        "colab_type": "code",
        "colab": {}
      },
      "source": [
        "df_sac_2018_2019_o_assuntos[\"Descricao_new\"] = df_sac_2018_2019_o_assuntos[\"Descricao\"].apply(retirar_mensagem)"
      ],
      "execution_count": null,
      "outputs": []
    },
    {
      "cell_type": "code",
      "metadata": {
        "id": "Fcb1Kj7kfZ7i",
        "colab_type": "code",
        "colab": {}
      },
      "source": [
        "df_sac_2018_2019_o_assuntos.to_excel(\"drive/My Drive/ia_projects/cni_ouvidoria/datasets/df_sac_2018_2019_o_assuntos.xlsx\",encoding=\"utf-8\",index=False)"
      ],
      "execution_count": null,
      "outputs": []
    },
    {
      "cell_type": "code",
      "metadata": {
        "id": "VVCRmAVFvUuD",
        "colab_type": "code",
        "colab": {}
      },
      "source": [
        "df_sac_2017[\"Descrição_new\"] = df_sac_2017[\"Descrição\"].apply(retirar_mensagem)"
      ],
      "execution_count": null,
      "outputs": []
    },
    {
      "cell_type": "code",
      "metadata": {
        "id": "k8fU-6V2V3_b",
        "colab_type": "code",
        "colab": {}
      },
      "source": [
        "df_sac_2019[\"Descrição_new\"] = df_sac_2019[\"Descrição\"].apply(retirar_mensagem)"
      ],
      "execution_count": null,
      "outputs": []
    },
    {
      "cell_type": "code",
      "metadata": {
        "id": "EupzFMpkV42u",
        "colab_type": "code",
        "colab": {
          "base_uri": "https://localhost:8080/",
          "height": 337
        },
        "outputId": "029ad4fc-816a-448a-d52d-2698115809c7"
      },
      "source": [
        "df_sac_2017.head()"
      ],
      "execution_count": null,
      "outputs": [
        {
          "output_type": "execute_result",
          "data": {
            "text/html": [
              "<div>\n",
              "<style scoped>\n",
              "    .dataframe tbody tr th:only-of-type {\n",
              "        vertical-align: middle;\n",
              "    }\n",
              "\n",
              "    .dataframe tbody tr th {\n",
              "        vertical-align: top;\n",
              "    }\n",
              "\n",
              "    .dataframe thead th {\n",
              "        text-align: right;\n",
              "    }\n",
              "</style>\n",
              "<table border=\"1\" class=\"dataframe\">\n",
              "  <thead>\n",
              "    <tr style=\"text-align: right;\">\n",
              "      <th></th>\n",
              "      <th>Número da Ocorrência</th>\n",
              "      <th>Data de Abertura</th>\n",
              "      <th>Descrição</th>\n",
              "      <th>Descrição_new</th>\n",
              "    </tr>\n",
              "    <tr>\n",
              "      <th>Título da Ocorrência</th>\n",
              "      <th></th>\n",
              "      <th></th>\n",
              "      <th></th>\n",
              "      <th></th>\n",
              "    </tr>\n",
              "  </thead>\n",
              "  <tbody>\n",
              "    <tr>\n",
              "      <th>Informações sobre cursos</th>\n",
              "      <td>OCOR-02314-N2M7D5</td>\n",
              "      <td>2017-12-28 08:48:00</td>\n",
              "      <td>Nome: Weberty rabelo passos E-mail: webertyrab...</td>\n",
              "      <td>Bom dia,eu gostaria de estar fazendo a escriç...</td>\n",
              "    </tr>\n",
              "    <tr>\n",
              "      <th>Informação diversa</th>\n",
              "      <td>OCOR-02383-V8X2H8</td>\n",
              "      <td>2017-12-27 01:26:00</td>\n",
              "      <td>no-reply@portaldaindustria.com.br por  amazons...</td>\n",
              "      <td>Bom dia,\\nSou analista de marketing aqui do P...</td>\n",
              "    </tr>\n",
              "    <tr>\n",
              "      <th>Fale Conosco - Portal da Transparência - SENAI</th>\n",
              "      <td>OCOR-02195-Z2T0F7</td>\n",
              "      <td>2017-12-19 16:32:00</td>\n",
              "      <td>http://rnstad.biz/s/w/4IFE6X recebi este link ...</td>\n",
              "      <td>http://rnstad.biz/s/w/4IFE6X recebi este link ...</td>\n",
              "    </tr>\n",
              "    <tr>\n",
              "      <th>Certificado</th>\n",
              "      <td>OCOR-02197-X4R7T9</td>\n",
              "      <td>2017-12-19 16:21:00</td>\n",
              "      <td>Sistema SENAI de Certificacao (enviado por nel...</td>\n",
              "      <td>Sistema SENAI de Certificacao (enviado por nel...</td>\n",
              "    </tr>\n",
              "    <tr>\n",
              "      <th>Banco de talentos</th>\n",
              "      <td>OCOR-02196-H0Y6Y5</td>\n",
              "      <td>2017-12-19 12:37:00</td>\n",
              "      <td>Nome: Greice Elias da Silva E-mail: Greicesilv...</td>\n",
              "      <td>Quando irá surgir vagas de emprego em Angra d...</td>\n",
              "    </tr>\n",
              "  </tbody>\n",
              "</table>\n",
              "</div>"
            ],
            "text/plain": [
              "                                               Número da Ocorrência  ...                                      Descrição_new\n",
              "Título da Ocorrência                                                 ...                                                   \n",
              "Informações sobre cursos                          OCOR-02314-N2M7D5  ...   Bom dia,eu gostaria de estar fazendo a escriç...\n",
              "Informação diversa                                OCOR-02383-V8X2H8  ...   Bom dia,\\nSou analista de marketing aqui do P...\n",
              "Fale Conosco - Portal da Transparência - SENAI    OCOR-02195-Z2T0F7  ...  http://rnstad.biz/s/w/4IFE6X recebi este link ...\n",
              "Certificado                                       OCOR-02197-X4R7T9  ...  Sistema SENAI de Certificacao (enviado por nel...\n",
              "Banco de talentos                                 OCOR-02196-H0Y6Y5  ...   Quando irá surgir vagas de emprego em Angra d...\n",
              "\n",
              "[5 rows x 4 columns]"
            ]
          },
          "metadata": {
            "tags": []
          },
          "execution_count": 22
        }
      ]
    },
    {
      "cell_type": "code",
      "metadata": {
        "id": "75sWytlTV4lb",
        "colab_type": "code",
        "colab": {}
      },
      "source": [
        "df_sac_2018[\"Descrição_new\"] = df_sac_2018[\"Descrição\"].apply(retirar_mensagem)"
      ],
      "execution_count": null,
      "outputs": []
    },
    {
      "cell_type": "code",
      "metadata": {
        "id": "knbOS-5SV4jx",
        "colab_type": "code",
        "colab": {}
      },
      "source": [
        ""
      ],
      "execution_count": null,
      "outputs": []
    },
    {
      "cell_type": "code",
      "metadata": {
        "id": "1vI4O2bPV4cB",
        "colab_type": "code",
        "colab": {}
      },
      "source": [
        ""
      ],
      "execution_count": null,
      "outputs": []
    },
    {
      "cell_type": "code",
      "metadata": {
        "id": "ZBz-GVuwV4aG",
        "colab_type": "code",
        "colab": {}
      },
      "source": [
        ""
      ],
      "execution_count": null,
      "outputs": []
    },
    {
      "cell_type": "code",
      "metadata": {
        "id": "3wKuIhrEV4WV",
        "colab_type": "code",
        "colab": {}
      },
      "source": [
        ""
      ],
      "execution_count": null,
      "outputs": []
    },
    {
      "cell_type": "code",
      "metadata": {
        "id": "iEis6dp8V4Uc",
        "colab_type": "code",
        "colab": {}
      },
      "source": [
        ""
      ],
      "execution_count": null,
      "outputs": []
    },
    {
      "cell_type": "code",
      "metadata": {
        "id": "vWAO20r-V4SR",
        "colab_type": "code",
        "colab": {}
      },
      "source": [
        ""
      ],
      "execution_count": null,
      "outputs": []
    },
    {
      "cell_type": "code",
      "metadata": {
        "id": "MOHq3jcRV4QN",
        "colab_type": "code",
        "colab": {}
      },
      "source": [
        ""
      ],
      "execution_count": null,
      "outputs": []
    },
    {
      "cell_type": "code",
      "metadata": {
        "id": "Q4xY3aiJV4Of",
        "colab_type": "code",
        "colab": {}
      },
      "source": [
        ""
      ],
      "execution_count": null,
      "outputs": []
    },
    {
      "cell_type": "code",
      "metadata": {
        "id": "5V1ix5VH6C6o",
        "colab_type": "code",
        "colab": {
          "base_uri": "https://localhost:8080/",
          "height": 119
        },
        "outputId": "710d8341-4014-4e15-ff1d-2efc0cfa1fff"
      },
      "source": [
        "df_sac_2018['Árvore de Assuntos'].unique()"
      ],
      "execution_count": null,
      "outputs": [
        {
          "output_type": "execute_result",
          "data": {
            "text/plain": [
              "array(['Banco de Talentos', 'Cadastro de Indústrias',\n",
              "       'Catálogo de Exportadores', 'Catálogo de Fornecedores',\n",
              "       'Certificados', 'Como se associar', 'Esportes', 'Estágios',\n",
              "       'Inova Talentos', 'Jovem Aprendiz', 'Matrículas/Cursos',\n",
              "       'Olimpíada do Conhecimento', 'Outros Assuntos', 'Publicação',\n",
              "       'Relações do Trabalho', 'Sesinho', nan], dtype=object)"
            ]
          },
          "metadata": {
            "tags": []
          },
          "execution_count": 54
        }
      ]
    },
    {
      "cell_type": "code",
      "metadata": {
        "id": "cTykNSVG3xzj",
        "colab_type": "code",
        "colab": {}
      },
      "source": [
        "df_sac_2018.reset_index(inplace=True)"
      ],
      "execution_count": null,
      "outputs": []
    },
    {
      "cell_type": "code",
      "metadata": {
        "id": "EQsjC-i23xuK",
        "colab_type": "code",
        "colab": {}
      },
      "source": [
        "df_sac_2019.reset_index(inplace=True)"
      ],
      "execution_count": null,
      "outputs": []
    },
    {
      "cell_type": "code",
      "metadata": {
        "id": "eBsRFpB8cgLk",
        "colab_type": "code",
        "colab": {}
      },
      "source": [
        "df_sac2=df_sac_2018"
      ],
      "execution_count": null,
      "outputs": []
    },
    {
      "cell_type": "code",
      "metadata": {
        "id": "emGSH1tVwOzL",
        "colab_type": "code",
        "colab": {}
      },
      "source": [
        "#df_sac2 = df_sac2.append(df_sac_2017, sort=False)\n",
        "df_sac2 = df_sac2.append(df_sac_2019, sort=False)\n"
      ],
      "execution_count": null,
      "outputs": []
    },
    {
      "cell_type": "code",
      "metadata": {
        "id": "lvdch7zybrw_",
        "colab_type": "code",
        "colab": {
          "base_uri": "https://localhost:8080/",
          "height": 68
        },
        "outputId": "0c471814-88c1-4e5b-9f46-56385d390ef4"
      },
      "source": [
        "df_sac_2018.columns"
      ],
      "execution_count": null,
      "outputs": [
        {
          "output_type": "execute_result",
          "data": {
            "text/plain": [
              "Index(['Título da Ocorrência', 'Número da Ocorrência', 'Data de Abertura',\n",
              "       'Descrição', 'Árvore de Assuntos', 'Descrição_new'],\n",
              "      dtype='object')"
            ]
          },
          "metadata": {
            "tags": []
          },
          "execution_count": 59
        }
      ]
    },
    {
      "cell_type": "code",
      "metadata": {
        "id": "EEBkbNVobvhz",
        "colab_type": "code",
        "colab": {
          "base_uri": "https://localhost:8080/",
          "height": 606
        },
        "outputId": "39b631c9-50cb-44ad-f06e-8990e7304f84"
      },
      "source": [
        "df_sac_2019[df_sac_2019[\"Descrição\"]!=df_sac_2019[\"Descrição_new\"]]"
      ],
      "execution_count": null,
      "outputs": [
        {
          "output_type": "execute_result",
          "data": {
            "text/html": [
              "<div>\n",
              "<style scoped>\n",
              "    .dataframe tbody tr th:only-of-type {\n",
              "        vertical-align: middle;\n",
              "    }\n",
              "\n",
              "    .dataframe tbody tr th {\n",
              "        vertical-align: top;\n",
              "    }\n",
              "\n",
              "    .dataframe thead th {\n",
              "        text-align: right;\n",
              "    }\n",
              "</style>\n",
              "<table border=\"1\" class=\"dataframe\">\n",
              "  <thead>\n",
              "    <tr style=\"text-align: right;\">\n",
              "      <th></th>\n",
              "      <th>Título da Ocorrência</th>\n",
              "      <th>Número da Ocorrência</th>\n",
              "      <th>Data de Abertura</th>\n",
              "      <th>Descrição</th>\n",
              "      <th>Árvore de Assuntos</th>\n",
              "      <th>Descrição_new</th>\n",
              "    </tr>\n",
              "  </thead>\n",
              "  <tbody>\n",
              "    <tr>\n",
              "      <th>147</th>\n",
              "      <td>Informações sobre o E-SOCIAL</td>\n",
              "      <td>OCR-07762-R8H2</td>\n",
              "      <td>2019-06-25 13:30:00</td>\n",
              "      <td>Nome: ITO CAPETTI JUNIOR\\nE-mail: ito@cargolif...</td>\n",
              "      <td>Outros Assuntos</td>\n",
              "      <td>Olá, gostaria de saber o posicionamento da CN...</td>\n",
              "    </tr>\n",
              "    <tr>\n",
              "      <th>148</th>\n",
              "      <td>Sobre validade de certificado SENAI no exterior</td>\n",
              "      <td>OCR-07585-B9M1</td>\n",
              "      <td>2019-06-24 08:00:00</td>\n",
              "      <td>Nome: Marinalva Huanca Pérez\\nE-mail: marinalv...</td>\n",
              "      <td>Certificados</td>\n",
              "      <td>Boa noite, estou me mudando de pais, fiz um c...</td>\n",
              "    </tr>\n",
              "    <tr>\n",
              "      <th>149</th>\n",
              "      <td>Jovem aprendiz</td>\n",
              "      <td>OCR-07602-F4S1</td>\n",
              "      <td>2019-06-20 21:00:00</td>\n",
              "      <td>Nome: Adebal Gonçalves de Souza junior\\nE-mail...</td>\n",
              "      <td>Jovem Aprendiz</td>\n",
              "      <td>Eu queria sabe como fais a iscriçao do jovem ...</td>\n",
              "    </tr>\n",
              "    <tr>\n",
              "      <th>150</th>\n",
              "      <td>Banco de talentos</td>\n",
              "      <td>OCR-07601-V0C3</td>\n",
              "      <td>2019-06-20 12:00:00</td>\n",
              "      <td>Nome: Luís André da Costa\\nE-mail: landre.daco...</td>\n",
              "      <td>Banco de Talentos</td>\n",
              "      <td>Boa noite! Como posso me candidatar a um proc...</td>\n",
              "    </tr>\n",
              "    <tr>\n",
              "      <th>151</th>\n",
              "      <td>Mundo SENAI - Banco de Talentos</td>\n",
              "      <td>OCR-07599-C8M9</td>\n",
              "      <td>2019-06-20 11:00:00</td>\n",
              "      <td>Fale Conosco\\n\\nCaros,\\nUma nova mensagem foi ...</td>\n",
              "      <td>Banco de Talentos</td>\n",
              "      <td>Boa tarde!\\nVi que vocês dão cursos de modeli...</td>\n",
              "    </tr>\n",
              "    <tr>\n",
              "      <th>...</th>\n",
              "      <td>...</td>\n",
              "      <td>...</td>\n",
              "      <td>...</td>\n",
              "      <td>...</td>\n",
              "      <td>...</td>\n",
              "      <td>...</td>\n",
              "    </tr>\n",
              "    <tr>\n",
              "      <th>2704</th>\n",
              "      <td>Mundo SENAI - Dificuldade com o ambiente EAD</td>\n",
              "      <td>OCR-08133-B2C3</td>\n",
              "      <td>2019-07-14 14:35:00</td>\n",
              "      <td>Fale Conosco\\n\\nCaros,\\nUma nova mensagem foi ...</td>\n",
              "      <td>Dificuldade com o ambiente EAD</td>\n",
              "      <td>Olá eu estou tentando me matricular em um EAD...</td>\n",
              "    </tr>\n",
              "    <tr>\n",
              "      <th>2727</th>\n",
              "      <td>Mundo Senai - Curso</td>\n",
              "      <td>OCR-08087-Z8G5</td>\n",
              "      <td>2019-07-11 19:30:00</td>\n",
              "      <td>Fale Conosco\\n\\nCaros,\\nUma nova mensagem foi ...</td>\n",
              "      <td>Matrículas/Cursos</td>\n",
              "      <td>Boa noite! Tenho 16 anos e tenho interesse em...</td>\n",
              "    </tr>\n",
              "    <tr>\n",
              "      <th>3114</th>\n",
              "      <td>Cadastro de fornecedores - CNI</td>\n",
              "      <td>OCR-08269-G2G8</td>\n",
              "      <td>2019-07-25 23:25:00</td>\n",
              "      <td>CONTATO : MATERIAIS PROMOCIONAIS – VR BRINDES\\...</td>\n",
              "      <td>Cadastro de Fornecedores</td>\n",
              "      <td>Faça uma cotação conosco por e-mail e conheça...</td>\n",
              "    </tr>\n",
              "    <tr>\n",
              "      <th>4374</th>\n",
              "      <td>Informações diversas</td>\n",
              "      <td>OCR-08868-R6Y7</td>\n",
              "      <td>2019-02-01 15:30:00</td>\n",
              "      <td>NaN</td>\n",
              "      <td>Outros Assuntos</td>\n",
              "      <td>nan</td>\n",
              "    </tr>\n",
              "    <tr>\n",
              "      <th>4411</th>\n",
              "      <td>Informações diversas</td>\n",
              "      <td>OCR-08883-H0V1</td>\n",
              "      <td>2019-01-28 16:00:00</td>\n",
              "      <td>NaN</td>\n",
              "      <td>Outros Assuntos</td>\n",
              "      <td>nan</td>\n",
              "    </tr>\n",
              "  </tbody>\n",
              "</table>\n",
              "<p>422 rows × 6 columns</p>\n",
              "</div>"
            ],
            "text/plain": [
              "                                 Título da Ocorrência  ...                                      Descrição_new\n",
              "147                      Informações sobre o E-SOCIAL  ...   Olá, gostaria de saber o posicionamento da CN...\n",
              "148   Sobre validade de certificado SENAI no exterior  ...   Boa noite, estou me mudando de pais, fiz um c...\n",
              "149                                    Jovem aprendiz  ...   Eu queria sabe como fais a iscriçao do jovem ...\n",
              "150                                 Banco de talentos  ...   Boa noite! Como posso me candidatar a um proc...\n",
              "151                   Mundo SENAI - Banco de Talentos  ...   Boa tarde!\\nVi que vocês dão cursos de modeli...\n",
              "...                                               ...  ...                                                ...\n",
              "2704     Mundo SENAI - Dificuldade com o ambiente EAD  ...   Olá eu estou tentando me matricular em um EAD...\n",
              "2727                              Mundo Senai - Curso  ...   Boa noite! Tenho 16 anos e tenho interesse em...\n",
              "3114                   Cadastro de fornecedores - CNI  ...   Faça uma cotação conosco por e-mail e conheça...\n",
              "4374                             Informações diversas  ...                                                nan\n",
              "4411                             Informações diversas  ...                                                nan\n",
              "\n",
              "[422 rows x 6 columns]"
            ]
          },
          "metadata": {
            "tags": []
          },
          "execution_count": 62
        }
      ]
    },
    {
      "cell_type": "code",
      "metadata": {
        "id": "0Inxup3Gvfbo",
        "colab_type": "code",
        "colab": {}
      },
      "source": [
        "df_sac_2017.to_excel(\"drive/My Drive/ia_projects/cni_ouvidoria/datasets/SAC - MSG 2017 - new.xlsx\",encoding=\"utf-8\",index=False)"
      ],
      "execution_count": null,
      "outputs": []
    },
    {
      "cell_type": "code",
      "metadata": {
        "id": "Yp1c5P2Fid0C",
        "colab_type": "code",
        "colab": {}
      },
      "source": [
        "df_sac2.to_excel(\"drive/My Drive/ia_projects/cni_ouvidoria/datasets/df_sac_2018_2019_append4.xlsx\",encoding=\"utf-8\",index=False)"
      ],
      "execution_count": null,
      "outputs": []
    },
    {
      "cell_type": "code",
      "metadata": {
        "id": "vZayLcMZlnXM",
        "colab_type": "code",
        "colab": {
          "base_uri": "https://localhost:8080/",
          "height": 102
        },
        "outputId": "eaf6ceb6-e311-456a-b040-fa3a7ad9de90"
      },
      "source": [
        "df_sac_2018.count()"
      ],
      "execution_count": null,
      "outputs": [
        {
          "output_type": "execute_result",
          "data": {
            "text/plain": [
              "Número da Ocorrência    2788\n",
              "Data de Abertura        2788\n",
              "Descrição               2787\n",
              "Árvore de Assuntos      2787\n",
              "dtype: int64"
            ]
          },
          "metadata": {
            "tags": []
          },
          "execution_count": 44
        }
      ]
    },
    {
      "cell_type": "code",
      "metadata": {
        "id": "-nDPs0hrlOba",
        "colab_type": "code",
        "colab": {
          "base_uri": "https://localhost:8080/",
          "height": 102
        },
        "outputId": "4fb7baae-5f00-4f5e-fc0c-4abfb18c8cc7"
      },
      "source": [
        "df_sac2.count()"
      ],
      "execution_count": null,
      "outputs": [
        {
          "output_type": "execute_result",
          "data": {
            "text/plain": [
              "Número da Ocorrência    7232\n",
              "Data de Abertura        7232\n",
              "Descrição               7217\n",
              "Árvore de Assuntos      7223\n",
              "dtype: int64"
            ]
          },
          "metadata": {
            "tags": []
          },
          "execution_count": 28
        }
      ]
    },
    {
      "cell_type": "code",
      "metadata": {
        "id": "whE_ddWFlTaV",
        "colab_type": "code",
        "colab": {}
      },
      "source": [
        ""
      ],
      "execution_count": null,
      "outputs": []
    },
    {
      "cell_type": "code",
      "metadata": {
        "id": "UQXPGv-fgqBm",
        "colab_type": "code",
        "colab": {
          "base_uri": "https://localhost:8080/",
          "height": 34
        },
        "outputId": "96db8dcc-3d3b-429b-8f6e-ff708c71e7c1"
      },
      "source": [
        "df_sac_2017.columns"
      ],
      "execution_count": null,
      "outputs": [
        {
          "output_type": "execute_result",
          "data": {
            "text/plain": [
              "Index(['Número da Ocorrência', 'Data de Abertura', 'Descrição'], dtype='object')"
            ]
          },
          "metadata": {
            "tags": []
          },
          "execution_count": 50
        }
      ]
    },
    {
      "cell_type": "code",
      "metadata": {
        "id": "Z0iCP-Ungp91",
        "colab_type": "code",
        "colab": {
          "base_uri": "https://localhost:8080/",
          "height": 170
        },
        "outputId": "aaff0c42-4e5b-46df-b0c1-164cb7072c94"
      },
      "source": [
        "df_sac2.info()\n"
      ],
      "execution_count": null,
      "outputs": [
        {
          "output_type": "stream",
          "text": [
            "<class 'pandas.core.frame.DataFrame'>\n",
            "Index: 8257 entries, Banco de talentos to Jovem aprendiz\n",
            "Data columns (total 4 columns):\n",
            "Número da Ocorrência    8257 non-null object\n",
            "Data de Abertura        8257 non-null datetime64[ns]\n",
            "Descrição               8242 non-null object\n",
            "Árvore de Assuntos      7223 non-null object\n",
            "dtypes: datetime64[ns](1), object(3)\n",
            "memory usage: 642.5+ KB\n"
          ],
          "name": "stdout"
        }
      ]
    },
    {
      "cell_type": "code",
      "metadata": {
        "id": "iPbwUmwrgp1F",
        "colab_type": "code",
        "colab": {}
      },
      "source": [
        ""
      ],
      "execution_count": null,
      "outputs": []
    },
    {
      "cell_type": "code",
      "metadata": {
        "id": "LAtM2v1pubnL",
        "colab_type": "code",
        "colab": {
          "base_uri": "https://localhost:8080/",
          "height": 637
        },
        "outputId": "1d77f63f-1b55-4ee7-e19e-3908917f92f3"
      },
      "source": [
        "df_sac2[df_sac2[\"Árvore de Assuntos\"].isnull()]"
      ],
      "execution_count": null,
      "outputs": [
        {
          "output_type": "execute_result",
          "data": {
            "text/html": [
              "<div>\n",
              "<style scoped>\n",
              "    .dataframe tbody tr th:only-of-type {\n",
              "        vertical-align: middle;\n",
              "    }\n",
              "\n",
              "    .dataframe tbody tr th {\n",
              "        vertical-align: top;\n",
              "    }\n",
              "\n",
              "    .dataframe thead th {\n",
              "        text-align: right;\n",
              "    }\n",
              "</style>\n",
              "<table border=\"1\" class=\"dataframe\">\n",
              "  <thead>\n",
              "    <tr style=\"text-align: right;\">\n",
              "      <th></th>\n",
              "      <th>Número da Ocorrência</th>\n",
              "      <th>Data de Abertura</th>\n",
              "      <th>Descrição</th>\n",
              "      <th>Árvore de Assuntos</th>\n",
              "    </tr>\n",
              "    <tr>\n",
              "      <th>Título da Ocorrência</th>\n",
              "      <th></th>\n",
              "      <th></th>\n",
              "      <th></th>\n",
              "      <th></th>\n",
              "    </tr>\n",
              "  </thead>\n",
              "  <tbody>\n",
              "    <tr>\n",
              "      <th>Banco de talentos</th>\n",
              "      <td>OCOR-06659-F8B3L0</td>\n",
              "      <td>2018-11-29 13:08:00</td>\n",
              "      <td>quero ter uma experiênca em trabalho. Podendo ...</td>\n",
              "      <td>NaN</td>\n",
              "    </tr>\n",
              "    <tr>\n",
              "      <th>Informações sobre cursos</th>\n",
              "      <td>OCOR-02314-N2M7D5</td>\n",
              "      <td>2017-12-28 08:48:00</td>\n",
              "      <td>Nome: Weberty rabelo passos E-mail: webertyrab...</td>\n",
              "      <td>NaN</td>\n",
              "    </tr>\n",
              "    <tr>\n",
              "      <th>Informação diversa</th>\n",
              "      <td>OCOR-02383-V8X2H8</td>\n",
              "      <td>2017-12-27 01:26:00</td>\n",
              "      <td>no-reply@portaldaindustria.com.br por  amazons...</td>\n",
              "      <td>NaN</td>\n",
              "    </tr>\n",
              "    <tr>\n",
              "      <th>Fale Conosco - Portal da Transparência - SENAI</th>\n",
              "      <td>OCOR-02195-Z2T0F7</td>\n",
              "      <td>2017-12-19 16:32:00</td>\n",
              "      <td>http://rnstad.biz/s/w/4IFE6X recebi este link ...</td>\n",
              "      <td>NaN</td>\n",
              "    </tr>\n",
              "    <tr>\n",
              "      <th>Certificado</th>\n",
              "      <td>OCOR-02197-X4R7T9</td>\n",
              "      <td>2017-12-19 16:21:00</td>\n",
              "      <td>Sistema SENAI de Certificacao (enviado por nel...</td>\n",
              "      <td>NaN</td>\n",
              "    </tr>\n",
              "    <tr>\n",
              "      <th>...</th>\n",
              "      <td>...</td>\n",
              "      <td>...</td>\n",
              "      <td>...</td>\n",
              "      <td>...</td>\n",
              "    </tr>\n",
              "    <tr>\n",
              "      <th>Informações diversas</th>\n",
              "      <td>OCR-10561-B5B6</td>\n",
              "      <td>2019-03-26 10:30:00</td>\n",
              "      <td>\"Boa tarde Srs / Preciso de uma orientação vej...</td>\n",
              "      <td>NaN</td>\n",
              "    </tr>\n",
              "    <tr>\n",
              "      <th>Informação sobre curso</th>\n",
              "      <td>OCR-10553-P4J5</td>\n",
              "      <td>2019-03-26 09:00:00</td>\n",
              "      <td>Olá como faço para me increver nos cursos grat...</td>\n",
              "      <td>NaN</td>\n",
              "    </tr>\n",
              "    <tr>\n",
              "      <th>Informações sobre curso</th>\n",
              "      <td>OCR-10299-R5K0</td>\n",
              "      <td>2019-03-01 11:30:00</td>\n",
              "      <td>Boa noite,quero saber se há como fazer o curso...</td>\n",
              "      <td>NaN</td>\n",
              "    </tr>\n",
              "    <tr>\n",
              "      <th>Informação sobre curso</th>\n",
              "      <td>OCR-10456-Y0L9</td>\n",
              "      <td>2019-02-04 15:30:00</td>\n",
              "      <td>Boa tarde,Sou engenheiro mecânico da Universid...</td>\n",
              "      <td>NaN</td>\n",
              "    </tr>\n",
              "    <tr>\n",
              "      <th>Fale Conosco - Portal da Indústria - SESI</th>\n",
              "      <td>OCOR-07529-T0X1H0</td>\n",
              "      <td>2019-01-30 19:23:00</td>\n",
              "      <td>Gostaria de fazer um jovem aprendiz,como frent...</td>\n",
              "      <td>NaN</td>\n",
              "    </tr>\n",
              "  </tbody>\n",
              "</table>\n",
              "<p>1034 rows × 4 columns</p>\n",
              "</div>"
            ],
            "text/plain": [
              "                                               Número da Ocorrência  ... Árvore de Assuntos\n",
              "Título da Ocorrência                                                 ...                   \n",
              "Banco de talentos                                 OCOR-06659-F8B3L0  ...                NaN\n",
              "Informações sobre cursos                          OCOR-02314-N2M7D5  ...                NaN\n",
              "Informação diversa                                OCOR-02383-V8X2H8  ...                NaN\n",
              "Fale Conosco - Portal da Transparência - SENAI    OCOR-02195-Z2T0F7  ...                NaN\n",
              "Certificado                                       OCOR-02197-X4R7T9  ...                NaN\n",
              "...                                                             ...  ...                ...\n",
              "Informações diversas                                 OCR-10561-B5B6  ...                NaN\n",
              "Informação sobre curso                               OCR-10553-P4J5  ...                NaN\n",
              "Informações sobre curso                              OCR-10299-R5K0  ...                NaN\n",
              "Informação sobre curso                               OCR-10456-Y0L9  ...                NaN\n",
              "Fale Conosco - Portal da Indústria - SESI         OCOR-07529-T0X1H0  ...                NaN\n",
              "\n",
              "[1034 rows x 4 columns]"
            ]
          },
          "metadata": {
            "tags": []
          },
          "execution_count": 52
        }
      ]
    },
    {
      "cell_type": "code",
      "metadata": {
        "id": "Cwr0pd1zuPv9",
        "colab_type": "code",
        "colab": {
          "base_uri": "https://localhost:8080/",
          "height": 85
        },
        "outputId": "1c4b778d-2726-4bee-f79a-0bbb6702ede3"
      },
      "source": [
        "df_sac_2017.columns"
      ],
      "execution_count": null,
      "outputs": [
        {
          "output_type": "execute_result",
          "data": {
            "text/plain": [
              "Index(['Instituição', 'Número da Ocorrência', 'Complexidade', 'Origem',\n",
              "       'Cliente Potencial', 'Data de Abertura', 'Descrição',\n",
              "       'Árvore de Assuntos'],\n",
              "      dtype='object')"
            ]
          },
          "metadata": {
            "tags": []
          },
          "execution_count": 15
        }
      ]
    },
    {
      "cell_type": "code",
      "metadata": {
        "id": "sSHRfrXNhp1i",
        "colab_type": "code",
        "colab": {}
      },
      "source": [
        "df_sac=df_sac_2018"
      ],
      "execution_count": null,
      "outputs": []
    },
    {
      "cell_type": "code",
      "metadata": {
        "id": "7EWC0UiOqYmk",
        "colab_type": "code",
        "colab": {
          "base_uri": "https://localhost:8080/",
          "height": 204
        },
        "outputId": "d12e8979-8451-4a90-977f-81ea76ac4e7b"
      },
      "source": [
        "df_sac.index"
      ],
      "execution_count": null,
      "outputs": [
        {
          "output_type": "execute_result",
          "data": {
            "text/plain": [
              "Index(['Banco de talentos', 'Banco de talentos', 'Banco de talentos',\n",
              "       'Banco de talentos', 'Banco de talentos',\n",
              "       'Mundo SENAI - Banco de Talentos', 'Mundo SENAI - Banco de Talentos',\n",
              "       'Banco de talentos', 'Banco de talentos',\n",
              "       'Mundo SENAI - Banco de Talentos',\n",
              "       ...\n",
              "       'Sesinho', 'Sesinho', 'Sesinho', 'Sesinho', 'Sesinho',\n",
              "       'Fale Conosco - Portal da Indústria - CNI', 'Sesinho',\n",
              "       'Fale Conosco - Portal da Indústria - CNI',\n",
              "       'Fale Conosco - Portal da Indústria - CNI', 'Banco de talentos'],\n",
              "      dtype='object', name='Título da Ocorrência', length=2788)"
            ]
          },
          "metadata": {
            "tags": []
          },
          "execution_count": 54
        }
      ]
    },
    {
      "cell_type": "code",
      "metadata": {
        "id": "bEeDlCWczoH9",
        "colab_type": "code",
        "colab": {
          "base_uri": "https://localhost:8080/",
          "height": 34
        },
        "outputId": "b8331c97-098d-4206-d6bf-91744a729f8a"
      },
      "source": [
        "df_sac.shape"
      ],
      "execution_count": null,
      "outputs": [
        {
          "output_type": "execute_result",
          "data": {
            "text/plain": [
              "(2788, 4)"
            ]
          },
          "metadata": {
            "tags": []
          },
          "execution_count": 55
        }
      ]
    },
    {
      "cell_type": "code",
      "metadata": {
        "id": "NB07i3xHzeBT",
        "colab_type": "code",
        "colab": {}
      },
      "source": [
        "df_sac.dropna(how=\"all\",inplace=True)"
      ],
      "execution_count": null,
      "outputs": []
    },
    {
      "cell_type": "code",
      "metadata": {
        "id": "9gsF6UYdzpZj",
        "colab_type": "code",
        "colab": {
          "base_uri": "https://localhost:8080/",
          "height": 34
        },
        "outputId": "4fc9fd94-da22-4fe6-c707-b773f70c15ba"
      },
      "source": [
        "df_sac.shape"
      ],
      "execution_count": null,
      "outputs": [
        {
          "output_type": "execute_result",
          "data": {
            "text/plain": [
              "(2788, 4)"
            ]
          },
          "metadata": {
            "tags": []
          },
          "execution_count": 57
        }
      ]
    },
    {
      "cell_type": "code",
      "metadata": {
        "id": "QQRowMQ8zqq5",
        "colab_type": "code",
        "colab": {
          "base_uri": "https://localhost:8080/",
          "height": 122
        },
        "outputId": "54bbca9b-c3de-45f4-ecbe-167a238a1316"
      },
      "source": [
        "!pip install unidecode"
      ],
      "execution_count": null,
      "outputs": [
        {
          "output_type": "stream",
          "text": [
            "Collecting unidecode\n",
            "\u001b[?25l  Downloading https://files.pythonhosted.org/packages/d0/42/d9edfed04228bacea2d824904cae367ee9efd05e6cce7ceaaedd0b0ad964/Unidecode-1.1.1-py2.py3-none-any.whl (238kB)\n",
            "\r\u001b[K     |█▍                              | 10kB 14.7MB/s eta 0:00:01\r\u001b[K     |██▊                             | 20kB 7.1MB/s eta 0:00:01\r\u001b[K     |████▏                           | 30kB 9.8MB/s eta 0:00:01\r\u001b[K     |█████▌                          | 40kB 6.2MB/s eta 0:00:01\r\u001b[K     |██████▉                         | 51kB 7.5MB/s eta 0:00:01\r\u001b[K     |████████▎                       | 61kB 8.8MB/s eta 0:00:01\r\u001b[K     |█████████▋                      | 71kB 10.0MB/s eta 0:00:01\r\u001b[K     |███████████                     | 81kB 11.1MB/s eta 0:00:01\r\u001b[K     |████████████▍                   | 92kB 12.3MB/s eta 0:00:01\r\u001b[K     |█████████████▊                  | 102kB 9.9MB/s eta 0:00:01\r\u001b[K     |███████████████▏                | 112kB 9.9MB/s eta 0:00:01\r\u001b[K     |████████████████▌               | 122kB 9.9MB/s eta 0:00:01\r\u001b[K     |█████████████████▉              | 133kB 9.9MB/s eta 0:00:01\r\u001b[K     |███████████████████▎            | 143kB 9.9MB/s eta 0:00:01\r\u001b[K     |████████████████████▋           | 153kB 9.9MB/s eta 0:00:01\r\u001b[K     |██████████████████████          | 163kB 9.9MB/s eta 0:00:01\r\u001b[K     |███████████████████████▍        | 174kB 9.9MB/s eta 0:00:01\r\u001b[K     |████████████████████████▊       | 184kB 9.9MB/s eta 0:00:01\r\u001b[K     |██████████████████████████▏     | 194kB 9.9MB/s eta 0:00:01\r\u001b[K     |███████████████████████████▌    | 204kB 9.9MB/s eta 0:00:01\r\u001b[K     |████████████████████████████▉   | 215kB 9.9MB/s eta 0:00:01\r\u001b[K     |██████████████████████████████▎ | 225kB 9.9MB/s eta 0:00:01\r\u001b[K     |███████████████████████████████▋| 235kB 9.9MB/s eta 0:00:01\r\u001b[K     |████████████████████████████████| 245kB 9.9MB/s \n",
            "\u001b[?25hInstalling collected packages: unidecode\n",
            "Successfully installed unidecode-1.1.1\n"
          ],
          "name": "stdout"
        }
      ]
    },
    {
      "cell_type": "code",
      "metadata": {
        "id": "kvz3gHL8zwHp",
        "colab_type": "code",
        "colab": {}
      },
      "source": [
        "from unidecode import unidecode\n",
        "import re\n"
      ],
      "execution_count": null,
      "outputs": []
    },
    {
      "cell_type": "code",
      "metadata": {
        "id": "3ZKjBvYu0CLA",
        "colab_type": "code",
        "colab": {}
      },
      "source": [
        "def normaliza_assunto(x):\n",
        "    return re.sub(\"[^a-zA-Z]\",\" \",unidecode(x).lower()).strip()"
      ],
      "execution_count": null,
      "outputs": []
    },
    {
      "cell_type": "code",
      "metadata": {
        "id": "NgcPfkvhzyo_",
        "colab_type": "code",
        "colab": {}
      },
      "source": [
        "df_sac = df_sac.rename(columns={'Árvore de Assuntos': 'assunto'})\n",
        "df_sac = df_sac.rename(columns={'Data de Abertura': 'Data_Abertura'})"
      ],
      "execution_count": null,
      "outputs": []
    },
    {
      "cell_type": "code",
      "metadata": {
        "id": "k_oaONoLz6BB",
        "colab_type": "code",
        "colab": {}
      },
      "source": [
        "df_sac['assunto'] = df_sac.assunto.apply(normaliza_assunto)"
      ],
      "execution_count": null,
      "outputs": []
    },
    {
      "cell_type": "code",
      "metadata": {
        "id": "NzL4mP4Az-9T",
        "colab_type": "code",
        "colab": {
          "base_uri": "https://localhost:8080/",
          "height": 323
        },
        "outputId": "ed6d7420-c45b-4590-d82b-e4d39c040edb"
      },
      "source": [
        "df_sac[['assunto','Descrição']].groupby(['assunto'])['Descrição'].count().nlargest(20)"
      ],
      "execution_count": null,
      "outputs": [
        {
          "output_type": "execute_result",
          "data": {
            "text/plain": [
              "assunto\n",
              "Matrículas/Cursos            1678\n",
              "Outros Assuntos               262\n",
              "Banco de Talentos             158\n",
              "Jovem Aprendiz                150\n",
              "Certificados                  129\n",
              "Publicação                    124\n",
              "Estágios                       65\n",
              "Catálogo de Fornecedores       64\n",
              "Como se associar               42\n",
              "Cadastro de Indústrias         38\n",
              "Relações do Trabalho           29\n",
              "Sesinho                        18\n",
              "Inova Talentos                 10\n",
              "Catálogo de Exportadores        9\n",
              "Esportes                        8\n",
              "Olimpíada do Conhecimento       2\n",
              "Name: descricao, dtype: int64"
            ]
          },
          "metadata": {
            "tags": []
          },
          "execution_count": 74
        }
      ]
    },
    {
      "cell_type": "code",
      "metadata": {
        "id": "Dtan05wu0IoP",
        "colab_type": "code",
        "colab": {
          "base_uri": "https://localhost:8080/",
          "height": 34
        },
        "outputId": "6436930e-c6ad-4d31-9698-2118f32203a8"
      },
      "source": [
        "df_sac['assunto'].unique().size"
      ],
      "execution_count": null,
      "outputs": [
        {
          "output_type": "execute_result",
          "data": {
            "text/plain": [
              "17"
            ]
          },
          "metadata": {
            "tags": []
          },
          "execution_count": 64
        }
      ]
    },
    {
      "cell_type": "code",
      "metadata": {
        "id": "mQKy1Hql0cpv",
        "colab_type": "code",
        "colab": {
          "base_uri": "https://localhost:8080/",
          "height": 235
        },
        "outputId": "f09ceb7f-376b-402c-c32b-a090c105a556"
      },
      "source": [
        "df_sac.head(5)"
      ],
      "execution_count": null,
      "outputs": [
        {
          "output_type": "execute_result",
          "data": {
            "text/html": [
              "<div>\n",
              "<style scoped>\n",
              "    .dataframe tbody tr th:only-of-type {\n",
              "        vertical-align: middle;\n",
              "    }\n",
              "\n",
              "    .dataframe tbody tr th {\n",
              "        vertical-align: top;\n",
              "    }\n",
              "\n",
              "    .dataframe thead th {\n",
              "        text-align: right;\n",
              "    }\n",
              "</style>\n",
              "<table border=\"1\" class=\"dataframe\">\n",
              "  <thead>\n",
              "    <tr style=\"text-align: right;\">\n",
              "      <th></th>\n",
              "      <th>Número da Ocorrência</th>\n",
              "      <th>Data_Abertura</th>\n",
              "      <th>Descrição</th>\n",
              "      <th>assunto</th>\n",
              "    </tr>\n",
              "    <tr>\n",
              "      <th>Título da Ocorrência</th>\n",
              "      <th></th>\n",
              "      <th></th>\n",
              "      <th></th>\n",
              "      <th></th>\n",
              "    </tr>\n",
              "  </thead>\n",
              "  <tbody>\n",
              "    <tr>\n",
              "      <th>Banco de talentos</th>\n",
              "      <td>OCOR-07041-S1Q6K9</td>\n",
              "      <td>2018-12-21 10:47:00</td>\n",
              "      <td>Bom dia. Sou funcionária terceirizada da empre...</td>\n",
              "      <td>Banco de Talentos</td>\n",
              "    </tr>\n",
              "    <tr>\n",
              "      <th>Banco de talentos</th>\n",
              "      <td>OCOR-07036-V8K9X3</td>\n",
              "      <td>2018-12-20 18:42:00</td>\n",
              "      <td>Boa tarde. Estou procurando algum conteúdo sob...</td>\n",
              "      <td>Banco de Talentos</td>\n",
              "    </tr>\n",
              "    <tr>\n",
              "      <th>Banco de talentos</th>\n",
              "      <td>OCOR-06956-Z8B4G6</td>\n",
              "      <td>2018-12-17 16:26:00</td>\n",
              "      <td>Trabalho como técnico de áudio, vídeo e lousa ...</td>\n",
              "      <td>Banco de Talentos</td>\n",
              "    </tr>\n",
              "    <tr>\n",
              "      <th>Banco de talentos</th>\n",
              "      <td>OCOR-06987-T9R9D9</td>\n",
              "      <td>2018-12-17 07:16:00</td>\n",
              "      <td>Nome: Nathalia Araujo\\nE-mail: rh@gptemporario...</td>\n",
              "      <td>Banco de Talentos</td>\n",
              "    </tr>\n",
              "    <tr>\n",
              "      <th>Banco de talentos</th>\n",
              "      <td>OCOR-06955-N6Z5D0</td>\n",
              "      <td>2018-12-14 08:40:00</td>\n",
              "      <td>Fale Conosco\\n\\nCaros,\\nUma nova mensagem foi ...</td>\n",
              "      <td>Banco de Talentos</td>\n",
              "    </tr>\n",
              "  </tbody>\n",
              "</table>\n",
              "</div>"
            ],
            "text/plain": [
              "                     Número da Ocorrência  ...            assunto\n",
              "Título da Ocorrência                       ...                   \n",
              "Banco de talentos       OCOR-07041-S1Q6K9  ...  Banco de Talentos\n",
              "Banco de talentos       OCOR-07036-V8K9X3  ...  Banco de Talentos\n",
              "Banco de talentos       OCOR-06956-Z8B4G6  ...  Banco de Talentos\n",
              "Banco de talentos       OCOR-06987-T9R9D9  ...  Banco de Talentos\n",
              "Banco de talentos       OCOR-06955-N6Z5D0  ...  Banco de Talentos\n",
              "\n",
              "[5 rows x 4 columns]"
            ]
          },
          "metadata": {
            "tags": []
          },
          "execution_count": 65
        }
      ]
    },
    {
      "cell_type": "code",
      "metadata": {
        "id": "miUXSdec0QY-",
        "colab_type": "code",
        "colab": {}
      },
      "source": [
        "df_sac = df_sac.reset_index()"
      ],
      "execution_count": null,
      "outputs": []
    },
    {
      "cell_type": "code",
      "metadata": {
        "id": "gH_0n1Io0kU9",
        "colab_type": "code",
        "colab": {
          "base_uri": "https://localhost:8080/",
          "height": 68
        },
        "outputId": "30089310-2e4e-4292-9db9-c207dd50110e"
      },
      "source": [
        "df_sac.columns"
      ],
      "execution_count": null,
      "outputs": [
        {
          "output_type": "execute_result",
          "data": {
            "text/plain": [
              "Index(['Título da Ocorrência', 'Número da Ocorrência', 'Data_Abertura',\n",
              "       'Descrição', 'assunto'],\n",
              "      dtype='object')"
            ]
          },
          "metadata": {
            "tags": []
          },
          "execution_count": 67
        }
      ]
    },
    {
      "cell_type": "code",
      "metadata": {
        "id": "7MTZ_oT50xV7",
        "colab_type": "code",
        "colab": {}
      },
      "source": [
        "df_sac = df_sac.rename(columns={'Descrição': 'descricao'})"
      ],
      "execution_count": null,
      "outputs": []
    },
    {
      "cell_type": "code",
      "metadata": {
        "id": "IBOTjHpK08Hj",
        "colab_type": "code",
        "colab": {}
      },
      "source": [
        "# https://medium.com/horadecodar/data-science-tips-02-como-usar-loc-e-iloc-no-pandas-fab58e214d87\n",
        "################### df_sac_idx = df_sac.set_index('assunto')\n",
        "################### df_sac.loc['outros assuntos'] "
      ],
      "execution_count": null,
      "outputs": []
    },
    {
      "cell_type": "code",
      "metadata": {
        "id": "qtj9UhQq1CZD",
        "colab_type": "code",
        "colab": {}
      },
      "source": [
        "df_sac_idx = df_sac.set_index('assunto')"
      ],
      "execution_count": null,
      "outputs": []
    },
    {
      "cell_type": "code",
      "metadata": {
        "id": "a3voMzhz1zOO",
        "colab_type": "code",
        "colab": {
          "base_uri": "https://localhost:8080/",
          "height": 105
        },
        "outputId": "dceb2179-58f2-427c-ac38-317a0d60cb3b"
      },
      "source": [
        "df_sac_idx.sample().values[0]"
      ],
      "execution_count": null,
      "outputs": [
        {
          "output_type": "execute_result",
          "data": {
            "text/plain": [
              "array(['Dificuldade com ambiente EAD', 'OCOR-03786-C9T3Z3',\n",
              "       Timestamp('2018-05-17 16:03:00'),\n",
              "       'Boa tarde! Preciso que retifique o nome que está no meu perfil. Pois meus documentos, login, senha são vinculados a um no Janyne Farias e sou JULIANA PIZZINATO PICCOLI. Aguardo.'],\n",
              "      dtype=object)"
            ]
          },
          "metadata": {
            "tags": []
          },
          "execution_count": 76
        }
      ]
    },
    {
      "cell_type": "code",
      "metadata": {
        "id": "oE-XGck8onxm",
        "colab_type": "code",
        "colab": {
          "base_uri": "https://localhost:8080/",
          "height": 142
        },
        "outputId": "231cd5b8-8f6c-4f22-8e57-92af7a6bb344"
      },
      "source": [
        "df_sac_idx.head(2)"
      ],
      "execution_count": null,
      "outputs": [
        {
          "output_type": "execute_result",
          "data": {
            "text/html": [
              "<div>\n",
              "<style scoped>\n",
              "    .dataframe tbody tr th:only-of-type {\n",
              "        vertical-align: middle;\n",
              "    }\n",
              "\n",
              "    .dataframe tbody tr th {\n",
              "        vertical-align: top;\n",
              "    }\n",
              "\n",
              "    .dataframe thead th {\n",
              "        text-align: right;\n",
              "    }\n",
              "</style>\n",
              "<table border=\"1\" class=\"dataframe\">\n",
              "  <thead>\n",
              "    <tr style=\"text-align: right;\">\n",
              "      <th></th>\n",
              "      <th>Título da Ocorrência</th>\n",
              "      <th>Número da Ocorrência</th>\n",
              "      <th>Data_Abertura</th>\n",
              "      <th>descricao</th>\n",
              "    </tr>\n",
              "    <tr>\n",
              "      <th>assunto</th>\n",
              "      <th></th>\n",
              "      <th></th>\n",
              "      <th></th>\n",
              "      <th></th>\n",
              "    </tr>\n",
              "  </thead>\n",
              "  <tbody>\n",
              "    <tr>\n",
              "      <th>Banco de Talentos</th>\n",
              "      <td>Banco de talentos</td>\n",
              "      <td>OCOR-07041-S1Q6K9</td>\n",
              "      <td>2018-12-21 10:47:00</td>\n",
              "      <td>Bom dia. Sou funcionária terceirizada da empre...</td>\n",
              "    </tr>\n",
              "    <tr>\n",
              "      <th>Banco de Talentos</th>\n",
              "      <td>Banco de talentos</td>\n",
              "      <td>OCOR-07036-V8K9X3</td>\n",
              "      <td>2018-12-20 18:42:00</td>\n",
              "      <td>Boa tarde. Estou procurando algum conteúdo sob...</td>\n",
              "    </tr>\n",
              "  </tbody>\n",
              "</table>\n",
              "</div>"
            ],
            "text/plain": [
              "                  Título da Ocorrência  ...                                          descricao\n",
              "assunto                                 ...                                                   \n",
              "Banco de Talentos    Banco de talentos  ...  Bom dia. Sou funcionária terceirizada da empre...\n",
              "Banco de Talentos    Banco de talentos  ...  Boa tarde. Estou procurando algum conteúdo sob...\n",
              "\n",
              "[2 rows x 4 columns]"
            ]
          },
          "metadata": {
            "tags": []
          },
          "execution_count": 79
        }
      ]
    },
    {
      "cell_type": "code",
      "metadata": {
        "id": "UNODKfE01EfD",
        "colab_type": "code",
        "colab": {
          "base_uri": "https://localhost:8080/",
          "height": 450
        },
        "outputId": "4fc32cfc-2f84-4c90-9cd8-b172b4cd42a1"
      },
      "source": [
        "df_sac_idx.loc[['Outros Assuntos'], ['descricao','Data_Abertura', 'Título da Ocorrência']]"
      ],
      "execution_count": null,
      "outputs": [
        {
          "output_type": "execute_result",
          "data": {
            "text/html": [
              "<div>\n",
              "<style scoped>\n",
              "    .dataframe tbody tr th:only-of-type {\n",
              "        vertical-align: middle;\n",
              "    }\n",
              "\n",
              "    .dataframe tbody tr th {\n",
              "        vertical-align: top;\n",
              "    }\n",
              "\n",
              "    .dataframe thead th {\n",
              "        text-align: right;\n",
              "    }\n",
              "</style>\n",
              "<table border=\"1\" class=\"dataframe\">\n",
              "  <thead>\n",
              "    <tr style=\"text-align: right;\">\n",
              "      <th></th>\n",
              "      <th>descricao</th>\n",
              "      <th>Data_Abertura</th>\n",
              "      <th>Título da Ocorrência</th>\n",
              "    </tr>\n",
              "    <tr>\n",
              "      <th>assunto</th>\n",
              "      <th></th>\n",
              "      <th></th>\n",
              "      <th></th>\n",
              "    </tr>\n",
              "  </thead>\n",
              "  <tbody>\n",
              "    <tr>\n",
              "      <th>Outros Assuntos</th>\n",
              "      <td>Na página: https://noticias.portaldaindustria....</td>\n",
              "      <td>2018-12-28 16:55:00</td>\n",
              "      <td>Solicitação de ajuste em texto do Portal da In...</td>\n",
              "    </tr>\n",
              "    <tr>\n",
              "      <th>Outros Assuntos</th>\n",
              "      <td>Gentileza nos informar o e-mail do Sr. Roberto...</td>\n",
              "      <td>2018-12-28 12:44:00</td>\n",
              "      <td>Dados de Presidente de federação</td>\n",
              "    </tr>\n",
              "    <tr>\n",
              "      <th>Outros Assuntos</th>\n",
              "      <td>Boa tarde. Gostaria de solicitar uma negociaçã...</td>\n",
              "      <td>2018-12-18 17:52:00</td>\n",
              "      <td>Negociação de dívida</td>\n",
              "    </tr>\n",
              "    <tr>\n",
              "      <th>Outros Assuntos</th>\n",
              "      <td>\"Bom dia Estou com um grave problema sou clien...</td>\n",
              "      <td>2018-12-18 09:59:00</td>\n",
              "      <td>Reclamação sobre relação de consumo diverso ao...</td>\n",
              "    </tr>\n",
              "    <tr>\n",
              "      <th>Outros Assuntos</th>\n",
              "      <td>Nome: Roberto Rebello da Silva\\nE-mail: robreb...</td>\n",
              "      <td>2018-12-14 09:20:00</td>\n",
              "      <td>Manifestação</td>\n",
              "    </tr>\n",
              "    <tr>\n",
              "      <th>...</th>\n",
              "      <td>...</td>\n",
              "      <td>...</td>\n",
              "      <td>...</td>\n",
              "    </tr>\n",
              "    <tr>\n",
              "      <th>Outros Assuntos</th>\n",
              "      <td>SOLICITO QUE ME AJUDEM, POIS DESDE ONTEM PERDI...</td>\n",
              "      <td>2018-01-27 10:40:00</td>\n",
              "      <td>Fale Conosco - Portal da Indústria - SENAI</td>\n",
              "    </tr>\n",
              "    <tr>\n",
              "      <th>Outros Assuntos</th>\n",
              "      <td>Gostaria de saber se vcs podessem mudar alguma...</td>\n",
              "      <td>2018-01-26 22:22:00</td>\n",
              "      <td>Fale Conosco - Portal da Indústria - SESI</td>\n",
              "    </tr>\n",
              "    <tr>\n",
              "      <th>Outros Assuntos</th>\n",
              "      <td>Qual é o sindicato que representa os trabalhad...</td>\n",
              "      <td>2018-01-26 15:26:00</td>\n",
              "      <td>Fale Conosco - Portal da Indústria - SESI</td>\n",
              "    </tr>\n",
              "    <tr>\n",
              "      <th>Outros Assuntos</th>\n",
              "      <td>boa tarde, Gostaria de saber se já houve propo...</td>\n",
              "      <td>2018-01-18 15:02:00</td>\n",
              "      <td>[DJ] ADI Referente a Lei 16.322/2009</td>\n",
              "    </tr>\n",
              "    <tr>\n",
              "      <th>Outros Assuntos</th>\n",
              "      <td>Nome: Ana Júlia Souza Silva\\nE-mail: julianaso...</td>\n",
              "      <td>2018-01-15 12:33:00</td>\n",
              "      <td>Mensagem enviada por engano</td>\n",
              "    </tr>\n",
              "  </tbody>\n",
              "</table>\n",
              "<p>262 rows × 3 columns</p>\n",
              "</div>"
            ],
            "text/plain": [
              "                                                         descricao  ...                               Título da Ocorrência\n",
              "assunto                                                             ...                                                   \n",
              "Outros Assuntos  Na página: https://noticias.portaldaindustria....  ...  Solicitação de ajuste em texto do Portal da In...\n",
              "Outros Assuntos  Gentileza nos informar o e-mail do Sr. Roberto...  ...                   Dados de Presidente de federação\n",
              "Outros Assuntos  Boa tarde. Gostaria de solicitar uma negociaçã...  ...                               Negociação de dívida\n",
              "Outros Assuntos  \"Bom dia Estou com um grave problema sou clien...  ...  Reclamação sobre relação de consumo diverso ao...\n",
              "Outros Assuntos  Nome: Roberto Rebello da Silva\\nE-mail: robreb...  ...                                       Manifestação\n",
              "...                                                            ...  ...                                                ...\n",
              "Outros Assuntos  SOLICITO QUE ME AJUDEM, POIS DESDE ONTEM PERDI...  ...         Fale Conosco - Portal da Indústria - SENAI\n",
              "Outros Assuntos  Gostaria de saber se vcs podessem mudar alguma...  ...          Fale Conosco - Portal da Indústria - SESI\n",
              "Outros Assuntos  Qual é o sindicato que representa os trabalhad...  ...          Fale Conosco - Portal da Indústria - SESI\n",
              "Outros Assuntos  boa tarde, Gostaria de saber se já houve propo...  ...               [DJ] ADI Referente a Lei 16.322/2009\n",
              "Outros Assuntos  Nome: Ana Júlia Souza Silva\\nE-mail: julianaso...  ...                        Mensagem enviada por engano\n",
              "\n",
              "[262 rows x 3 columns]"
            ]
          },
          "metadata": {
            "tags": []
          },
          "execution_count": 80
        }
      ]
    },
    {
      "cell_type": "code",
      "metadata": {
        "id": "VJ3rU-onp6YZ",
        "colab_type": "code",
        "colab": {
          "base_uri": "https://localhost:8080/",
          "height": 51
        },
        "outputId": "3cf232b0-d14c-4fea-fa92-62e0da9a032f"
      },
      "source": [
        "print(\"Título da Ocorrência, tem :\",df_sac['Título da Ocorrência'].unique().size)\n",
        "       \n",
        "print(\"Assuntos, tem: \", df_sac['assunto'].unique().size)"
      ],
      "execution_count": null,
      "outputs": [
        {
          "output_type": "stream",
          "text": [
            "Título da Ocorrência, tem : 277\n",
            "Assuntos, tem:  17\n"
          ],
          "name": "stdout"
        }
      ]
    },
    {
      "cell_type": "code",
      "metadata": {
        "id": "D0XKVH9erkj0",
        "colab_type": "code",
        "colab": {
          "base_uri": "https://localhost:8080/",
          "height": 34
        },
        "outputId": "819df570-3652-4603-d744-59628096b828"
      },
      "source": [
        "len(df_sac['Título da Ocorrência'].unique())"
      ],
      "execution_count": null,
      "outputs": [
        {
          "output_type": "execute_result",
          "data": {
            "text/plain": [
              "277"
            ]
          },
          "metadata": {
            "tags": []
          },
          "execution_count": 84
        }
      ]
    },
    {
      "cell_type": "code",
      "metadata": {
        "id": "inWGA9RUsd1I",
        "colab_type": "code",
        "colab": {}
      },
      "source": [
        "df_sac = df_sac.rename(columns={'Título da Ocorrência': 'titulo_da_ocorrencia'})\n"
      ],
      "execution_count": null,
      "outputs": []
    },
    {
      "cell_type": "code",
      "metadata": {
        "id": "z5hz_wjIsYRw",
        "colab_type": "code",
        "colab": {}
      },
      "source": [
        "df_sac['titulo_da_ocorrencia'] = df_sac.titulo_da_ocorrencia.apply(normaliza_assunto)"
      ],
      "execution_count": null,
      "outputs": []
    },
    {
      "cell_type": "code",
      "metadata": {
        "id": "Yj-ZPJqNtA5v",
        "colab_type": "code",
        "colab": {
          "base_uri": "https://localhost:8080/",
          "height": 34
        },
        "outputId": "d2e1b811-db26-49cd-ae26-fbc631ff0494"
      },
      "source": [
        "len(df_sac['titulo_da_ocorrencia'].unique())"
      ],
      "execution_count": null,
      "outputs": [
        {
          "output_type": "execute_result",
          "data": {
            "text/plain": [
              "258"
            ]
          },
          "metadata": {
            "tags": []
          },
          "execution_count": 88
        }
      ]
    },
    {
      "cell_type": "code",
      "metadata": {
        "id": "Zh1cUC3huI3P",
        "colab_type": "code",
        "colab": {
          "base_uri": "https://localhost:8080/",
          "height": 119
        },
        "outputId": "db9f0282-a267-45e0-9bb1-9fc5fce45320"
      },
      "source": [
        "df_sac['assunto'].unique()"
      ],
      "execution_count": null,
      "outputs": [
        {
          "output_type": "execute_result",
          "data": {
            "text/plain": [
              "array(['Banco de Talentos', 'Cadastro de Indústrias',\n",
              "       'Catálogo de Exportadores', 'Catálogo de Fornecedores',\n",
              "       'Certificados', 'Como se associar', 'Esportes', 'Estágios',\n",
              "       'Inova Talentos', 'Jovem Aprendiz', 'Matrículas/Cursos',\n",
              "       'Olimpíada do Conhecimento', 'Outros Assuntos', 'Publicação',\n",
              "       'Relações do Trabalho', 'Sesinho', nan], dtype=object)"
            ]
          },
          "metadata": {
            "tags": []
          },
          "execution_count": 89
        }
      ]
    },
    {
      "cell_type": "code",
      "metadata": {
        "id": "9MDvs8yRtJYo",
        "colab_type": "code",
        "colab": {
          "base_uri": "https://localhost:8080/",
          "height": 68
        },
        "outputId": "6f772a53-0d03-4898-fa0c-650607c2938a"
      },
      "source": [
        "print(\"Título da Ocorrência, tem :\",df_sac['titulo_da_ocorrencia'].unique().size)\n",
        "       \n",
        "print(\"Assuntos, tem: \", df_sac['assunto'].unique().size)\n",
        "print(\"Diferença: \",(df_sac['titulo_da_ocorrencia'].unique().size)-(df_sac['assunto'].unique().size))"
      ],
      "execution_count": null,
      "outputs": [
        {
          "output_type": "stream",
          "text": [
            "Título da Ocorrência, tem : 258\n",
            "Assuntos, tem:  17\n",
            "Diferença:  241\n"
          ],
          "name": "stdout"
        }
      ]
    },
    {
      "cell_type": "code",
      "metadata": {
        "id": "8WRG3ebrVlYN",
        "colab_type": "code",
        "colab": {
          "base_uri": "https://localhost:8080/",
          "height": 51
        },
        "outputId": "dd1caa79-1505-449a-ed22-9dcff2558150"
      },
      "source": [
        "print(\"Título da Ocorrência, tem :\",df_sac['titulo_da_ocorrencia'].unique().size)\n",
        "       \n",
        "print(\"Assuntos, tem: \", df_sac['assunto'].unique().size)"
      ],
      "execution_count": null,
      "outputs": [
        {
          "output_type": "stream",
          "text": [
            "Título da Ocorrência, tem : 258\n",
            "Assuntos, tem:  17\n"
          ],
          "name": "stdout"
        }
      ]
    },
    {
      "cell_type": "code",
      "metadata": {
        "id": "3zWIXvA4v-Ja",
        "colab_type": "code",
        "colab": {
          "base_uri": "https://localhost:8080/",
          "height": 323
        },
        "outputId": "fb727d21-f7d4-40b1-988c-a67bed45fd2f"
      },
      "source": [
        "df_sac[['assunto','descricao']].groupby(['assunto'])['descricao'].count().nlargest(20)"
      ],
      "execution_count": null,
      "outputs": [
        {
          "output_type": "execute_result",
          "data": {
            "text/plain": [
              "assunto\n",
              "Matrículas/Cursos            1678\n",
              "Outros Assuntos               262\n",
              "Banco de Talentos             158\n",
              "Jovem Aprendiz                150\n",
              "Certificados                  129\n",
              "Publicação                    124\n",
              "Estágios                       65\n",
              "Catálogo de Fornecedores       64\n",
              "Como se associar               42\n",
              "Cadastro de Indústrias         38\n",
              "Relações do Trabalho           29\n",
              "Sesinho                        18\n",
              "Inova Talentos                 10\n",
              "Catálogo de Exportadores        9\n",
              "Esportes                        8\n",
              "Olimpíada do Conhecimento       2\n",
              "Name: descricao, dtype: int64"
            ]
          },
          "metadata": {
            "tags": []
          },
          "execution_count": 92
        }
      ]
    },
    {
      "cell_type": "code",
      "metadata": {
        "id": "ddFVrGAMvZrE",
        "colab_type": "code",
        "colab": {
          "base_uri": "https://localhost:8080/",
          "height": 561
        },
        "outputId": "1af81485-903c-41b1-b9e4-c4b7a8c50fbd"
      },
      "source": [
        "df_sac[['titulo_da_ocorrencia','descricao']].groupby(['titulo_da_ocorrencia'])['descricao'].count().nlargest(30)"
      ],
      "execution_count": null,
      "outputs": [
        {
          "output_type": "execute_result",
          "data": {
            "text/plain": [
              "titulo_da_ocorrencia\n",
              "curso                                             326\n",
              "cursos                                            232\n",
              "mundo senai   curso                               222\n",
              "dificuldade com o ambiente ead                    215\n",
              "fale conosco   portal da industria   senai        192\n",
              "informacoes sobre cursos                          148\n",
              "fale conosco   portal da industria   sesi         128\n",
              "banco de talentos                                 123\n",
              "jovem aprendiz                                    118\n",
              "dificuldade com ambiente ead                      109\n",
              "matricula                                          99\n",
              "certificado                                        95\n",
              "publicacao                                         80\n",
              "fale conosco   portal da industria                 54\n",
              "fale conosco   portal da industria   cni           42\n",
              "estagio                                            36\n",
              "cadastro de industrias                             30\n",
              "sindicato                                          29\n",
              "associacao                                         25\n",
              "fornecedores                                       22\n",
              "fornecedor                                         19\n",
              "fale conosco   portal da industria   iel           16\n",
              "sesinho                                            15\n",
              "informacao diversa                                 14\n",
              "mundo senai   banco de talentos                    14\n",
              "mundo senai   jovem aprendiz                       13\n",
              "informacao sobre cursos                            11\n",
              "cadastro de fornecedores                           10\n",
              "fale conosco   portal da transparencia   senai      8\n",
              "mundo senai   certificado                           8\n",
              "Name: descricao, dtype: int64"
            ]
          },
          "metadata": {
            "tags": []
          },
          "execution_count": 93
        }
      ]
    },
    {
      "cell_type": "code",
      "metadata": {
        "id": "vN71LilyycW1",
        "colab_type": "code",
        "colab": {}
      },
      "source": [
        "df_sac_assunto = df_sac.set_index('assunto')"
      ],
      "execution_count": null,
      "outputs": []
    },
    {
      "cell_type": "code",
      "metadata": {
        "id": "Dn45pz2KzEp_",
        "colab_type": "code",
        "colab": {
          "base_uri": "https://localhost:8080/",
          "height": 68
        },
        "outputId": "16188968-3c03-46b4-a156-bc588b98a35d"
      },
      "source": [
        "df_sac_assunto.columns"
      ],
      "execution_count": null,
      "outputs": [
        {
          "output_type": "execute_result",
          "data": {
            "text/plain": [
              "Index(['titulo_da_ocorrencia', 'Número da Ocorrência', 'Data_Abertura',\n",
              "       'descricao'],\n",
              "      dtype='object')"
            ]
          },
          "metadata": {
            "tags": []
          },
          "execution_count": 95
        }
      ]
    },
    {
      "cell_type": "code",
      "metadata": {
        "id": "arCHsK8rwrAe",
        "colab_type": "code",
        "colab": {}
      },
      "source": [
        "df_titulo_outrosassuntos = df_sac_assunto.loc[['Outros Assuntos'], ['descricao','titulo_da_ocorrencia']]"
      ],
      "execution_count": null,
      "outputs": []
    },
    {
      "cell_type": "code",
      "metadata": {
        "id": "StMXvtiux7e2",
        "colab_type": "code",
        "colab": {
          "base_uri": "https://localhost:8080/",
          "height": 34
        },
        "outputId": "93b42567-af9f-4ea4-f249-aff7c1f39980"
      },
      "source": [
        "df_titulo_outrosassuntos.columns"
      ],
      "execution_count": null,
      "outputs": [
        {
          "output_type": "execute_result",
          "data": {
            "text/plain": [
              "Index(['descricao', 'titulo_da_ocorrencia'], dtype='object')"
            ]
          },
          "metadata": {
            "tags": []
          },
          "execution_count": 98
        }
      ]
    },
    {
      "cell_type": "code",
      "metadata": {
        "id": "Sio1Xjl1xv7o",
        "colab_type": "code",
        "colab": {}
      },
      "source": [
        "#df_titulo_outrosassuntos = df_titulo_outrosassuntos.reset_index()"
      ],
      "execution_count": null,
      "outputs": []
    },
    {
      "cell_type": "code",
      "metadata": {
        "id": "3WhLFwCGxtN1",
        "colab_type": "code",
        "colab": {}
      },
      "source": [
        "#df_titulo_outrosassuntos = df_titulo_outrosassuntos.set_index('titulo_da_ocorrencia')"
      ],
      "execution_count": null,
      "outputs": []
    },
    {
      "cell_type": "code",
      "metadata": {
        "id": "OGrueJnhWS2o",
        "colab_type": "code",
        "colab": {
          "base_uri": "https://localhost:8080/",
          "height": 34
        },
        "outputId": "e12e2821-1362-4e96-d7fe-0d706209fec4"
      },
      "source": [
        "print(\"Título da Ocorrência em assuntos OUTROS ASSUNTOS, tem :\",df_titulo_outrosassuntos['titulo_da_ocorrencia'].unique().size)\n",
        "       "
      ],
      "execution_count": null,
      "outputs": [
        {
          "output_type": "stream",
          "text": [
            "Título da Ocorrência em assuntos OUTROS ASSUNTOS, tem : 140\n"
          ],
          "name": "stdout"
        }
      ]
    },
    {
      "cell_type": "code",
      "metadata": {
        "id": "s9W9QpUz0win",
        "colab_type": "code",
        "colab": {
          "base_uri": "https://localhost:8080/",
          "height": 34
        },
        "outputId": "b1b985ee-f283-4df5-e7bf-09fb805068db"
      },
      "source": [
        "len(df_titulo_outrosassuntos)"
      ],
      "execution_count": null,
      "outputs": [
        {
          "output_type": "execute_result",
          "data": {
            "text/plain": [
              "262"
            ]
          },
          "metadata": {
            "tags": []
          },
          "execution_count": 100
        }
      ]
    },
    {
      "cell_type": "code",
      "metadata": {
        "id": "XPzjibIyW0md",
        "colab_type": "code",
        "colab": {
          "base_uri": "https://localhost:8080/",
          "height": 323
        },
        "outputId": "d4f5a45f-12b6-4ac7-e261-8c53e5d92aa2"
      },
      "source": [
        "df_sac[['assunto','descricao']].groupby(['assunto'])['descricao'].count().nlargest(20)"
      ],
      "execution_count": null,
      "outputs": [
        {
          "output_type": "execute_result",
          "data": {
            "text/plain": [
              "assunto\n",
              "Matrículas/Cursos            1678\n",
              "Outros Assuntos               262\n",
              "Banco de Talentos             158\n",
              "Jovem Aprendiz                150\n",
              "Certificados                  129\n",
              "Publicação                    124\n",
              "Estágios                       65\n",
              "Catálogo de Fornecedores       64\n",
              "Como se associar               42\n",
              "Cadastro de Indústrias         38\n",
              "Relações do Trabalho           29\n",
              "Sesinho                        18\n",
              "Inova Talentos                 10\n",
              "Catálogo de Exportadores        9\n",
              "Esportes                        8\n",
              "Olimpíada do Conhecimento       2\n",
              "Name: descricao, dtype: int64"
            ]
          },
          "metadata": {
            "tags": []
          },
          "execution_count": 101
        }
      ]
    },
    {
      "cell_type": "code",
      "metadata": {
        "id": "UUevQxQ01SBr",
        "colab_type": "code",
        "colab": {
          "base_uri": "https://localhost:8080/",
          "height": 34
        },
        "outputId": "e74cb72b-3daf-4bce-85dc-552692f9b5c4"
      },
      "source": [
        "print(\"Total de casos com OUTROS ASSUNTOS no campo Assuntos:\", len(df_titulo_outrosassuntos))\n"
      ],
      "execution_count": null,
      "outputs": [
        {
          "output_type": "stream",
          "text": [
            "Total de casos com OUTROS ASSUNTOS no campo Assuntos: 262\n"
          ],
          "name": "stdout"
        }
      ]
    },
    {
      "cell_type": "code",
      "metadata": {
        "id": "Eu9QGQU4XtT4",
        "colab_type": "code",
        "colab": {
          "base_uri": "https://localhost:8080/",
          "height": 85
        },
        "outputId": "caa3c11e-8731-4e5d-cf87-f5b0bf6be390"
      },
      "source": [
        "\n",
        "print(\"Total do campo Título da Ocorrência únicos em todo o banco, tem :\",df_sac['titulo_da_ocorrencia'].unique().size)\n",
        "       \n",
        "print(\"Total de campo Assuntos únicos, tem: \", df_sac['assunto'].unique().size)\n",
        "\n",
        "print(\"Total do campo Título da Ocorrência apenas com campo Assuntos únicos: OUTROS ASSUNTOS, tem :\",df_titulo_outrosassuntos['titulo_da_ocorrencia'].unique().size)\n",
        "       \n",
        "print(\"Diferença: \",(df_titulo_outrosassuntos['titulo_da_ocorrencia'].unique().size)-(df_sac['assunto'].unique().size))"
      ],
      "execution_count": null,
      "outputs": [
        {
          "output_type": "stream",
          "text": [
            "Total do campo Título da Ocorrência únicos em todo o banco, tem : 258\n",
            "Total de campo Assuntos únicos, tem:  17\n",
            "Total do campo Título da Ocorrência apenas com campo Assuntos únicos: OUTROS ASSUNTOS, tem : 140\n",
            "Diferença:  123\n"
          ],
          "name": "stdout"
        }
      ]
    },
    {
      "cell_type": "code",
      "metadata": {
        "id": "MW3iKFqtwf24",
        "colab_type": "code",
        "colab": {
          "base_uri": "https://localhost:8080/",
          "height": 561
        },
        "outputId": "1c1c400f-5288-46c8-9e7e-e52c98d585f7"
      },
      "source": [
        "df_titulo_outrosassuntos[['titulo_da_ocorrencia','descricao']].groupby(['titulo_da_ocorrencia'])['descricao'].count().nlargest(30)"
      ],
      "execution_count": null,
      "outputs": [
        {
          "output_type": "execute_result",
          "data": {
            "text/plain": [
              "titulo_da_ocorrencia\n",
              "fale conosco   portal da industria   sesi     49\n",
              "dificuldade com o ambiente ead                16\n",
              "fale conosco   portal da industria   senai    14\n",
              "informacao diversa                            12\n",
              "sindicato                                     11\n",
              "fale conosco   portal da industria             7\n",
              "contato de colaborador da cni                  4\n",
              "convencao coletiva trabalhista                 4\n",
              "comercio exterior                              3\n",
              "informacoes para trabalho academico            3\n",
              "ata carnet                                     2\n",
              "carf                                           2\n",
              "fale conosco   portal da industria   cni       2\n",
              "fale conosco   portal da industria   iel       2\n",
              "greve dos caminhoneiros                        2\n",
              "informacoes sindicais                          2\n",
              "sindicatos                                     2\n",
              "subsidios para tcc                             2\n",
              "sugestao                                       2\n",
              "abertura de empresa                            1\n",
              "abertura de escola em cidade determinada       1\n",
              "acordo coletivo de trabalho                    1\n",
              "agradecimento pelo cartao de aniversario       1\n",
              "ajuda para criar um cnpj                       1\n",
              "alteracao de dados                             1\n",
              "assuntos financeiros                           1\n",
              "atestado de de fornecedor exclusivo            1\n",
              "atualizacao de cadastro                        1\n",
              "atualizacao de dados de sindicato              1\n",
              "atualizacao de endereco                        1\n",
              "Name: descricao, dtype: int64"
            ]
          },
          "metadata": {
            "tags": []
          },
          "execution_count": 104
        }
      ]
    },
    {
      "cell_type": "code",
      "metadata": {
        "id": "9qyq_7kcwzL4",
        "colab_type": "code",
        "colab": {
          "base_uri": "https://localhost:8080/",
          "height": 238
        },
        "outputId": "e38dfd02-3e31-46f2-b9bd-fed2036201be"
      },
      "source": [
        "df_titulo_outrosassuntos[['titulo_da_ocorrencia','descricao']].groupby(['titulo_da_ocorrencia'])['descricao'].count()"
      ],
      "execution_count": null,
      "outputs": [
        {
          "output_type": "execute_result",
          "data": {
            "text/plain": [
              "titulo_da_ocorrencia\n",
              "abertura de empresa                                        1\n",
              "abertura de escola em cidade determinada                   1\n",
              "acordo coletivo de trabalho                                1\n",
              "agradecimento pelo cartao de aniversario                   1\n",
              "ajuda para criar um cnpj                                   1\n",
              "                                                          ..\n",
              "troca de conta                                             1\n",
              "uso de narguile em escola sesi                             1\n",
              "venda de credito tributario                                1\n",
              "verificar veracidade de e mail enviado pelo sesi senai     1\n",
              "visao da cni sobre terceirizacao de atividades publicas    1\n",
              "Name: descricao, Length: 140, dtype: int64"
            ]
          },
          "metadata": {
            "tags": []
          },
          "execution_count": 105
        }
      ]
    },
    {
      "cell_type": "code",
      "metadata": {
        "id": "Kk-Ihn7CxAMS",
        "colab_type": "code",
        "colab": {
          "base_uri": "https://localhost:8080/",
          "height": 54
        },
        "outputId": "80f65b67-9a5e-496b-8c95-2a0cf54dec79"
      },
      "source": [
        "df_titulo_outrosassuntos.iloc[23]['descricao']"
      ],
      "execution_count": null,
      "outputs": [
        {
          "output_type": "execute_result",
          "data": {
            "text/plain": [
              "'Boa noite, gostaria de saber porque não consigo ter acesso a plataforma do iEL. Toda vez que coloco a senha dá erro na página e aparece vários códigos de erro.'"
            ]
          },
          "metadata": {
            "tags": []
          },
          "execution_count": 106
        }
      ]
    },
    {
      "cell_type": "code",
      "metadata": {
        "id": "i78cExMf1Lyh",
        "colab_type": "code",
        "colab": {
          "base_uri": "https://localhost:8080/",
          "height": 577
        },
        "outputId": "c745995b-b78e-4025-8852-3836720146d0"
      },
      "source": [
        "df_sac_idx.loc['Outros Assuntos'][:10]"
      ],
      "execution_count": null,
      "outputs": [
        {
          "output_type": "execute_result",
          "data": {
            "text/html": [
              "<div>\n",
              "<style scoped>\n",
              "    .dataframe tbody tr th:only-of-type {\n",
              "        vertical-align: middle;\n",
              "    }\n",
              "\n",
              "    .dataframe tbody tr th {\n",
              "        vertical-align: top;\n",
              "    }\n",
              "\n",
              "    .dataframe thead th {\n",
              "        text-align: right;\n",
              "    }\n",
              "</style>\n",
              "<table border=\"1\" class=\"dataframe\">\n",
              "  <thead>\n",
              "    <tr style=\"text-align: right;\">\n",
              "      <th></th>\n",
              "      <th>Título da Ocorrência</th>\n",
              "      <th>Número da Ocorrência</th>\n",
              "      <th>Data_Abertura</th>\n",
              "      <th>descricao</th>\n",
              "    </tr>\n",
              "    <tr>\n",
              "      <th>assunto</th>\n",
              "      <th></th>\n",
              "      <th></th>\n",
              "      <th></th>\n",
              "      <th></th>\n",
              "    </tr>\n",
              "  </thead>\n",
              "  <tbody>\n",
              "    <tr>\n",
              "      <th>Outros Assuntos</th>\n",
              "      <td>Solicitação de ajuste em texto do Portal da In...</td>\n",
              "      <td>OCOR-07067-N7F7B4</td>\n",
              "      <td>2018-12-28 16:55:00</td>\n",
              "      <td>Na página: https://noticias.portaldaindustria....</td>\n",
              "    </tr>\n",
              "    <tr>\n",
              "      <th>Outros Assuntos</th>\n",
              "      <td>Dados de Presidente de federação</td>\n",
              "      <td>OCOR-07065-K4R7F7</td>\n",
              "      <td>2018-12-28 12:44:00</td>\n",
              "      <td>Gentileza nos informar o e-mail do Sr. Roberto...</td>\n",
              "    </tr>\n",
              "    <tr>\n",
              "      <th>Outros Assuntos</th>\n",
              "      <td>Negociação de dívida</td>\n",
              "      <td>OCOR-06991-T3G6R5</td>\n",
              "      <td>2018-12-18 17:52:00</td>\n",
              "      <td>Boa tarde. Gostaria de solicitar uma negociaçã...</td>\n",
              "    </tr>\n",
              "    <tr>\n",
              "      <th>Outros Assuntos</th>\n",
              "      <td>Reclamação sobre relação de consumo diverso ao...</td>\n",
              "      <td>OCOR-06969-S9K3Y6</td>\n",
              "      <td>2018-12-18 09:59:00</td>\n",
              "      <td>\"Bom dia Estou com um grave problema sou clien...</td>\n",
              "    </tr>\n",
              "    <tr>\n",
              "      <th>Outros Assuntos</th>\n",
              "      <td>Manifestação</td>\n",
              "      <td>OCOR-06954-V3N0T4</td>\n",
              "      <td>2018-12-14 09:20:00</td>\n",
              "      <td>Nome: Roberto Rebello da Silva\\nE-mail: robreb...</td>\n",
              "    </tr>\n",
              "    <tr>\n",
              "      <th>Outros Assuntos</th>\n",
              "      <td>Contato de colaborador da CNI</td>\n",
              "      <td>OCOR-06907-R0N8K4</td>\n",
              "      <td>2018-12-12 04:35:00</td>\n",
              "      <td>Viviane Sá, ABIA, Relações Institucionais &lt;viv...</td>\n",
              "    </tr>\n",
              "    <tr>\n",
              "      <th>Outros Assuntos</th>\n",
              "      <td>Informações sobre incorporação de indústrias</td>\n",
              "      <td>OCOR-06903-D1W7B5</td>\n",
              "      <td>2018-12-11 04:20:00</td>\n",
              "      <td>Nome: Edison Yanagui\\nE-mail: correioauxiliar@...</td>\n",
              "    </tr>\n",
              "    <tr>\n",
              "      <th>Outros Assuntos</th>\n",
              "      <td>Informações contábeis indústria x SESI</td>\n",
              "      <td>OCOR-06822-H1W5X3</td>\n",
              "      <td>2018-12-06 01:51:00</td>\n",
              "      <td>Renata Silva &lt;renatasilva@saobraz.com.br&gt;\\n\\n\\...</td>\n",
              "    </tr>\n",
              "    <tr>\n",
              "      <th>Outros Assuntos</th>\n",
              "      <td>Ajuda para criar um CNPJ</td>\n",
              "      <td>OCOR-06707-K5T8N5</td>\n",
              "      <td>2018-11-30 06:09:00</td>\n",
              "      <td>Fale Conosco\\n\\nCaros,\\nUma nova mensagem foi ...</td>\n",
              "    </tr>\n",
              "    <tr>\n",
              "      <th>Outros Assuntos</th>\n",
              "      <td>Mundo SENAI - Geração S</td>\n",
              "      <td>OCOR-06621-X9P9T2</td>\n",
              "      <td>2018-11-26 08:00:00</td>\n",
              "      <td>Fale Conosco\\n\\nCaros,\\nUma nova mensagem foi ...</td>\n",
              "    </tr>\n",
              "  </tbody>\n",
              "</table>\n",
              "</div>"
            ],
            "text/plain": [
              "                                              Título da Ocorrência  ...                                          descricao\n",
              "assunto                                                             ...                                                   \n",
              "Outros Assuntos  Solicitação de ajuste em texto do Portal da In...  ...  Na página: https://noticias.portaldaindustria....\n",
              "Outros Assuntos                   Dados de Presidente de federação  ...  Gentileza nos informar o e-mail do Sr. Roberto...\n",
              "Outros Assuntos                               Negociação de dívida  ...  Boa tarde. Gostaria de solicitar uma negociaçã...\n",
              "Outros Assuntos  Reclamação sobre relação de consumo diverso ao...  ...  \"Bom dia Estou com um grave problema sou clien...\n",
              "Outros Assuntos                                       Manifestação  ...  Nome: Roberto Rebello da Silva\\nE-mail: robreb...\n",
              "Outros Assuntos                      Contato de colaborador da CNI  ...  Viviane Sá, ABIA, Relações Institucionais <viv...\n",
              "Outros Assuntos       Informações sobre incorporação de indústrias  ...  Nome: Edison Yanagui\\nE-mail: correioauxiliar@...\n",
              "Outros Assuntos             Informações contábeis indústria x SESI  ...  Renata Silva <renatasilva@saobraz.com.br>\\n\\n\\...\n",
              "Outros Assuntos                           Ajuda para criar um CNPJ  ...  Fale Conosco\\n\\nCaros,\\nUma nova mensagem foi ...\n",
              "Outros Assuntos                            Mundo SENAI - Geração S  ...  Fale Conosco\\n\\nCaros,\\nUma nova mensagem foi ...\n",
              "\n",
              "[10 rows x 4 columns]"
            ]
          },
          "metadata": {
            "tags": []
          },
          "execution_count": 108
        }
      ]
    },
    {
      "cell_type": "code",
      "metadata": {
        "id": "Di99bdYF3QJk",
        "colab_type": "code",
        "colab": {
          "base_uri": "https://localhost:8080/",
          "height": 54
        },
        "outputId": "d68542c9-21e4-4a7b-b5a8-27baf4f8805e"
      },
      "source": [
        "df_sac_idx.iloc[0]['descricao']"
      ],
      "execution_count": null,
      "outputs": [
        {
          "output_type": "execute_result",
          "data": {
            "text/plain": [
              "'Bom dia. Sou funcionária terceirizada da empresa ÁGIL, lotada no MDIC - Ministério da Indústria, Comércio Exterior e Serviços, no Gabinete da Secretária de Inovação e Novos Negócios, e gostaria de saber como devo proceder para encaminhar um curriculum vitae para a CNI, na tentativa de uma vaga na área de secretariado executivo.'"
            ]
          },
          "metadata": {
            "tags": []
          },
          "execution_count": 109
        }
      ]
    },
    {
      "cell_type": "code",
      "metadata": {
        "id": "bJrJR-gH8AWy",
        "colab_type": "code",
        "colab": {}
      },
      "source": [
        "#df_sac_idx['outros assuntos'].iloc.[0,:]"
      ],
      "execution_count": null,
      "outputs": []
    },
    {
      "cell_type": "code",
      "metadata": {
        "id": "nlZ3HdSJ8ujy",
        "colab_type": "code",
        "colab": {}
      },
      "source": [
        "#df_sac_idx['outros assuntos'].iloc[0]"
      ],
      "execution_count": null,
      "outputs": []
    },
    {
      "cell_type": "code",
      "metadata": {
        "id": "lqjExRdZF0AF",
        "colab_type": "code",
        "colab": {}
      },
      "source": [
        " #df_sac_idx[df_sac_idx['assunto']=='outros assuntos']"
      ],
      "execution_count": null,
      "outputs": []
    },
    {
      "cell_type": "code",
      "metadata": {
        "id": "IY7-4YWj9aVO",
        "colab_type": "code",
        "colab": {}
      },
      "source": [
        "#df_sac_idx[df_sac_idx['assunto']=='outros assuntos']['descricao'].iloc[0]"
      ],
      "execution_count": null,
      "outputs": []
    },
    {
      "cell_type": "code",
      "metadata": {
        "id": "3jKQPUbx6DHA",
        "colab_type": "code",
        "colab": {}
      },
      "source": [
        "df_final = df_sac_idx.loc[['Outros Assuntos'], ['descricao']]"
      ],
      "execution_count": null,
      "outputs": []
    },
    {
      "cell_type": "code",
      "metadata": {
        "id": "wws2OXGN-wau",
        "colab_type": "code",
        "colab": {
          "base_uri": "https://localhost:8080/",
          "height": 54
        },
        "outputId": "535c6077-97b2-4e2f-c71d-3fb4f87fcc14"
      },
      "source": [
        "df_final.iloc[0]['descricao']"
      ],
      "execution_count": null,
      "outputs": [
        {
          "output_type": "execute_result",
          "data": {
            "text/plain": [
              "'Na página: https://noticias.portaldaindustria.com.br/especiais/tem-vaga-assista-aos-programas-sobre-cursos-e-emprego/ A frase: ASSISTA AOS EPISÓDIOS! está escrita como ASSSITA AOS EPISÓDIOS!'"
            ]
          },
          "metadata": {
            "tags": []
          },
          "execution_count": 111
        }
      ]
    },
    {
      "cell_type": "code",
      "metadata": {
        "id": "y3arop-vL18d",
        "colab_type": "code",
        "colab": {
          "base_uri": "https://localhost:8080/",
          "height": 54
        },
        "outputId": "3b65802d-d505-42b7-cebe-b79d40df0309"
      },
      "source": [
        "df_final['descricao'].iloc[200]"
      ],
      "execution_count": null,
      "outputs": [
        {
          "output_type": "execute_result",
          "data": {
            "text/plain": [
              "'AJUDEM- ME. Cadastrei meu filho no IEL em 2014 quendo este iniciou o ensino médio e cometi algum erro e busco AJUDA para cadastrá-lo. Já estivemos na sede em Manaus e eles dizem que é pelo site. Meu filho está cursando o 5 período de ENGENHARIA na UFAM e seu cadastro não se realiza.'"
            ]
          },
          "metadata": {
            "tags": []
          },
          "execution_count": 112
        }
      ]
    },
    {
      "cell_type": "code",
      "metadata": {
        "id": "SXNUMhZCLa_t",
        "colab_type": "code",
        "colab": {
          "base_uri": "https://localhost:8080/",
          "height": 54
        },
        "outputId": "645f4ed4-27c5-411e-b17c-4b9cd77627ec"
      },
      "source": [
        "df_final['descricao'].iloc[100]"
      ],
      "execution_count": null,
      "outputs": [
        {
          "output_type": "execute_result",
          "data": {
            "text/plain": [
              "'Dr. Robson, Confirmo o recebimento e agradeço seus cumprimentos pela passagem de meu aniversário. Aproveito para parabenizá-lo pelo desempenho à frente da CNI. Sempre com a mesma competência e defesa dos interesses legítimos das Empresas Brasileiras. Saudações..........Jarbas Batitucci'"
            ]
          },
          "metadata": {
            "tags": []
          },
          "execution_count": 113
        }
      ]
    },
    {
      "cell_type": "code",
      "metadata": {
        "id": "7qTuBtjS17KH",
        "colab_type": "code",
        "colab": {
          "base_uri": "https://localhost:8080/",
          "height": 34
        },
        "outputId": "9b1eee2d-fac7-485d-fd4b-4c19ec536580"
      },
      "source": [
        "df_final['descricao'].iloc[25]"
      ],
      "execution_count": null,
      "outputs": [
        {
          "output_type": "execute_result",
          "data": {
            "text/plain": [
              "'Solicito orçamento de elaboração de laudos PCMSO, PPRA e LTCAT para a empresa com 03 funcionários. No aguardo.'"
            ]
          },
          "metadata": {
            "tags": []
          },
          "execution_count": 114
        }
      ]
    },
    {
      "cell_type": "code",
      "metadata": {
        "id": "wJwZbEDv18Wv",
        "colab_type": "code",
        "colab": {
          "base_uri": "https://localhost:8080/",
          "height": 54
        },
        "outputId": "0dc1bf89-280e-4e42-a126-ba3ac8c500aa"
      },
      "source": [
        "df_final['descricao'].iloc[15]"
      ],
      "execution_count": null,
      "outputs": [
        {
          "output_type": "execute_result",
          "data": {
            "text/plain": [
              "'Fale Conosco\\n\\nCaros,\\nUma nova mensagem foi enviada através do Fale Conosco do Mundo SENAI: \\n\\n\\nNome: Rafael Schoenberner Dos Santos\\nE-mail: rafaelschoenb \\nTelefone: (67) 9 9690-9384\\nAssunto: Reclamação\\nMensagem: O Site diz que a escola não existe'"
            ]
          },
          "metadata": {
            "tags": []
          },
          "execution_count": 115
        }
      ]
    },
    {
      "cell_type": "code",
      "metadata": {
        "id": "v_2rNKu319uZ",
        "colab_type": "code",
        "colab": {}
      },
      "source": [
        ""
      ],
      "execution_count": null,
      "outputs": []
    }
  ]
}